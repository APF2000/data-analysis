{
 "cells": [
  {
   "cell_type": "code",
   "execution_count": 2,
   "metadata": {},
   "outputs": [],
   "source": [
    "import cv2\n",
    "import pytesseract\n",
    "\n",
    "# sudo apt-get update\n",
    "# sudo apt-get install libleptonica-dev tesseract-ocr tesseract-ocr-dev libtesseract-dev python3-pil tesseract-ocr-eng tesseract-ocr-script-latn\n",
    "# sudo apt-get install tesseract-ocr"
   ]
  },
  {
   "cell_type": "code",
   "execution_count": 3,
   "metadata": {},
   "outputs": [],
   "source": [
    "from pdf2image import convert_from_path\n",
    "import cv2\n",
    "import numpy as np"
   ]
  },
  {
   "cell_type": "code",
   "execution_count": null,
   "metadata": {},
   "outputs": [],
   "source": []
  },
  {
   "cell_type": "code",
   "execution_count": 4,
   "metadata": {},
   "outputs": [],
   "source": [
    "# img = cv2.imread(\"receipt_opencv/0a0ebd53.jpeg\")\n",
    "\n",
    "\n",
    "# pages = convert_from_path(\"receipts/2017/de/public transport/3ZCCCW.pdf\")\n",
    "# img = np.array(pages[0])\n",
    "\n",
    "img = cv2.imread(\"pao_de_acucar_1.jpeg\")"
   ]
  },
  {
   "cell_type": "code",
   "execution_count": 5,
   "metadata": {},
   "outputs": [
    {
     "name": "stdout",
     "output_type": "stream",
     "text": [
      "antl Wee dy Pw ba\n",
      "Osintr data hidy\n",
      "\n",
      "tae Oh ae\n",
      "\n",
      "iu ie\n",
      "WC AS oe\n",
      "“0 Ta a\n",
      "01 OereRalte Hts :\n",
      "1 Shinto) mnt leat) a2\n",
      "isin\n",
      "\n",
      "FANT Jane NLT Soh)\n",
      "\n",
      "Vola tne\n",
      "\n",
      "J His\n",
      "\n",
      "40 Goyal\n",
      "\n",
      "Mil ti\n",
      "\n",
      "430 ko 65.1\n",
      "HOLCG'O PERM IORE\n",
      "0,254 ky 88\n",
      "\n",
      "Si) tn\n",
      "10. sew BUiL Pata\n",
      "vs 00g\n",
      "538 Cn UEIDE VA\n",
      "SHHONEVE Mi\n",
      "\n",
      "000)\n",
      "GAARA. NIUER Pil\n",
      "\n",
      "4660\n",
      "65,0\n",
      "\n",
      " \n",
      "\f\n"
     ]
    }
   ],
   "source": [
    "text = pytesseract.image_to_string(img)\n",
    "print(text)"
   ]
  }
 ],
 "metadata": {
  "kernelspec": {
   "display_name": ".venv",
   "language": "python",
   "name": "python3"
  },
  "language_info": {
   "codemirror_mode": {
    "name": "ipython",
    "version": 3
   },
   "file_extension": ".py",
   "mimetype": "text/x-python",
   "name": "python",
   "nbconvert_exporter": "python",
   "pygments_lexer": "ipython3",
   "version": "3.12.1"
  }
 },
 "nbformat": 4,
 "nbformat_minor": 2
}
