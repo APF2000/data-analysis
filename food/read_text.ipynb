{
 "cells": [
  {
   "cell_type": "code",
   "execution_count": 3,
   "metadata": {},
   "outputs": [],
   "source": [
    "import cv2\n",
    "import pytesseract"
   ]
  },
  {
   "cell_type": "code",
   "execution_count": 2,
   "metadata": {},
   "outputs": [],
   "source": [
    "img = cv2.imread(\"receipt_opencv/0a0ebd53.jpeg\")"
   ]
  },
  {
   "cell_type": "code",
   "execution_count": 7,
   "metadata": {},
   "outputs": [
    {
     "name": "stdout",
     "output_type": "stream",
     "text": [
      "   \n",
      "\n",
      "Whurat\n",
      "ie\n",
      "\n",
      "UDAYA FILLING STATION\n",
      "\n",
      "MATTUPATTY ROAD\n",
      "MUNNAR\n",
      "04865230318\n",
      "\n",
      "ORIGINAL\n",
      "29-MAY -2019 14:02:23\n",
      "INVOICE NO: 292 i\n",
      "VEHICLE NO: NOT ENTERED (7)\n",
      "NOZZLE NO : 1 i\n",
      "PRODUCT: PETROL\n",
      "RATE : 75.01 INR/Ltr\n",
      "VOLUME: 1.33 Ltr\n",
      "AMOUNT: 100.00 INR\n",
      "S.T. No : 27430268741¢\n",
      "M.S.T. No: 27430268741V\n",
      "\n",
      "pe DE HE ETAL CT a DD OC DRE EC I DOC IE DCD\n",
      "\n",
      "Thank You! Visit Again\n",
      "\n",
      " \n",
      "\n",
      "i\n",
      "7\n",
      "iH\n",
      "\n",
      " \n",
      "\n",
      "   \n",
      "      \n",
      "   \n",
      " \n",
      "      \n",
      "   \n",
      "\n",
      " \n",
      "\n",
      "  \n",
      "  \n",
      "\n",
      "       \n",
      "   \n",
      "\f\n"
     ]
    }
   ],
   "source": [
    "text = pytesseract.image_to_string(img)\n",
    "print(text)"
   ]
  }
 ],
 "metadata": {
  "kernelspec": {
   "display_name": ".venv",
   "language": "python",
   "name": "python3"
  },
  "language_info": {
   "codemirror_mode": {
    "name": "ipython",
    "version": 3
   },
   "file_extension": ".py",
   "mimetype": "text/x-python",
   "name": "python",
   "nbconvert_exporter": "python",
   "pygments_lexer": "ipython3",
   "version": "3.12.1"
  }
 },
 "nbformat": 4,
 "nbformat_minor": 2
}
