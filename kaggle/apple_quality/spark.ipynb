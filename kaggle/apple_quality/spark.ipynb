{
 "cells": [
  {
   "cell_type": "code",
   "execution_count": 1,
   "metadata": {},
   "outputs": [],
   "source": [
    "import pyspark\n",
    "from pyspark.sql import SparkSession\n",
    "import pandas"
   ]
  },
  {
   "cell_type": "code",
   "execution_count": 2,
   "metadata": {},
   "outputs": [
    {
     "name": "stderr",
     "output_type": "stream",
     "text": [
      "24/01/08 15:47:48 WARN Utils: Your hostname, arthurpfonseca resolves to a loopback address: 127.0.1.1; using 192.168.0.19 instead (on interface wlo1)\n",
      "24/01/08 15:47:48 WARN Utils: Set SPARK_LOCAL_IP if you need to bind to another address\n",
      "Setting default log level to \"WARN\".\n",
      "To adjust logging level use sc.setLogLevel(newLevel). For SparkR, use setLogLevel(newLevel).\n",
      "24/01/08 15:47:50 WARN NativeCodeLoader: Unable to load native-hadoop library for your platform... using builtin-java classes where applicable\n"
     ]
    },
    {
     "data": {
      "text/html": [
       "\n",
       "            <div>\n",
       "                <p><b>SparkSession - in-memory</b></p>\n",
       "                \n",
       "        <div>\n",
       "            <p><b>SparkContext</b></p>\n",
       "\n",
       "            <p><a href=\"http://192.168.0.19:4040\">Spark UI</a></p>\n",
       "\n",
       "            <dl>\n",
       "              <dt>Version</dt>\n",
       "                <dd><code>v3.5.0</code></dd>\n",
       "              <dt>Master</dt>\n",
       "                <dd><code>local[*]</code></dd>\n",
       "              <dt>AppName</dt>\n",
       "                <dd><code>test_session</code></dd>\n",
       "            </dl>\n",
       "        </div>\n",
       "        \n",
       "            </div>\n",
       "        "
      ],
      "text/plain": [
       "<pyspark.sql.session.SparkSession at 0x7fc425fa2060>"
      ]
     },
     "execution_count": 2,
     "metadata": {},
     "output_type": "execute_result"
    }
   ],
   "source": [
    "spark = SparkSession.builder.appName(\"test_session\").getOrCreate()\n",
    "spark"
   ]
  },
  {
   "cell_type": "code",
   "execution_count": 3,
   "metadata": {},
   "outputs": [
    {
     "name": "stderr",
     "output_type": "stream",
     "text": [
      "                                                                                \r"
     ]
    }
   ],
   "source": [
    "df_spark = spark.read.csv(\"bla.csv\", inferSchema=True)"
   ]
  },
  {
   "cell_type": "code",
   "execution_count": 4,
   "metadata": {},
   "outputs": [
    {
     "name": "stdout",
     "output_type": "stream",
     "text": [
      "+----+----+------+\n",
      "| _c0| _c1|   _c2|\n",
      "+----+----+------+\n",
      "|bla1|bla2|  name|\n",
      "|   1|   2|arthur|\n",
      "|   3|   4|arthur|\n",
      "|   5|   6|felype|\n",
      "|NULL|NULL|  NULL|\n",
      "+----+----+------+\n",
      "\n"
     ]
    }
   ],
   "source": [
    "df_spark.show()"
   ]
  },
  {
   "cell_type": "code",
   "execution_count": 5,
   "metadata": {},
   "outputs": [],
   "source": [
    "df_spark = spark.read.option(\"header\", \"true\").csv(\"bla.csv\", inferSchema=True)"
   ]
  },
  {
   "cell_type": "code",
   "execution_count": 6,
   "metadata": {},
   "outputs": [
    {
     "name": "stdout",
     "output_type": "stream",
     "text": [
      "root\n",
      " |-- bla1: integer (nullable = true)\n",
      " |-- bla2: integer (nullable = true)\n",
      " |-- name: string (nullable = true)\n",
      "\n"
     ]
    }
   ],
   "source": [
    "df_spark.printSchema()"
   ]
  },
  {
   "cell_type": "code",
   "execution_count": 7,
   "metadata": {},
   "outputs": [
    {
     "name": "stdout",
     "output_type": "stream",
     "text": [
      "+----+----+------+\n",
      "|bla1|bla2|  name|\n",
      "+----+----+------+\n",
      "|   1|   2|arthur|\n",
      "|   3|   4|arthur|\n",
      "|   5|   6|felype|\n",
      "|NULL|NULL|  NULL|\n",
      "+----+----+------+\n",
      "\n"
     ]
    }
   ],
   "source": [
    "df_spark.show()"
   ]
  },
  {
   "cell_type": "code",
   "execution_count": 8,
   "metadata": {},
   "outputs": [
    {
     "name": "stdout",
     "output_type": "stream",
     "text": [
      "+----+----+\n",
      "|bla1|bla2|\n",
      "+----+----+\n",
      "|   1|   2|\n",
      "|   3|   4|\n",
      "|   5|   6|\n",
      "|NULL|NULL|\n",
      "+----+----+\n",
      "\n"
     ]
    }
   ],
   "source": [
    "df_spark.select([\"bla1\", \"bla2\"]).show()"
   ]
  },
  {
   "cell_type": "code",
   "execution_count": 9,
   "metadata": {},
   "outputs": [
    {
     "data": {
      "text/plain": [
       "(Column<'bla1'>, [('bla1', 'int'), ('bla2', 'int'), ('name', 'string')])"
      ]
     },
     "execution_count": 9,
     "metadata": {},
     "output_type": "execute_result"
    }
   ],
   "source": [
    "df_spark[\"bla1\"], df_spark.dtypes"
   ]
  },
  {
   "cell_type": "code",
   "execution_count": 10,
   "metadata": {},
   "outputs": [
    {
     "name": "stdout",
     "output_type": "stream",
     "text": [
      "+----+----+------+-----+\n",
      "|bla1|bla2|  name|col+2|\n",
      "+----+----+------+-----+\n",
      "|   1|   2|arthur|    4|\n",
      "|   3|   4|arthur|    6|\n",
      "|   5|   6|felype|    8|\n",
      "|NULL|NULL|  NULL| NULL|\n",
      "+----+----+------+-----+\n",
      "\n"
     ]
    }
   ],
   "source": [
    "df_spark = df_spark.withColumn(\"col+2\", df_spark[\"bla2\"] + 2)\n",
    "df_spark.show()"
   ]
  },
  {
   "cell_type": "code",
   "execution_count": 11,
   "metadata": {},
   "outputs": [
    {
     "name": "stdout",
     "output_type": "stream",
     "text": [
      "+----+----+------+\n",
      "|bla1|bla2|  name|\n",
      "+----+----+------+\n",
      "|   1|   2|arthur|\n",
      "|   3|   4|arthur|\n",
      "|   5|   6|felype|\n",
      "|NULL|NULL|  NULL|\n",
      "+----+----+------+\n",
      "\n"
     ]
    }
   ],
   "source": [
    "df_spark = df_spark.drop(\"col+2\")\n",
    "df_spark.show()"
   ]
  },
  {
   "cell_type": "code",
   "execution_count": 12,
   "metadata": {},
   "outputs": [
    {
     "name": "stdout",
     "output_type": "stream",
     "text": [
      "+----+----+------+\n",
      "|bla1|bla3|  name|\n",
      "+----+----+------+\n",
      "|   1|   2|arthur|\n",
      "|   3|   4|arthur|\n",
      "|   5|   6|felype|\n",
      "|NULL|NULL|  NULL|\n",
      "+----+----+------+\n",
      "\n"
     ]
    }
   ],
   "source": [
    "df_spark.withColumnRenamed(\"bla2\", \"bla3\").show()"
   ]
  },
  {
   "cell_type": "code",
   "execution_count": 13,
   "metadata": {},
   "outputs": [
    {
     "name": "stdout",
     "output_type": "stream",
     "text": [
      "+----+----+------+\n",
      "|bla1|bla2|  name|\n",
      "+----+----+------+\n",
      "|   1|   2|arthur|\n",
      "|   3|   4|arthur|\n",
      "|   5|   6|felype|\n",
      "|NULL|NULL|  NULL|\n",
      "+----+----+------+\n",
      "\n"
     ]
    }
   ],
   "source": [
    "df_spark.na.drop(how=\"any\", thresh=0).show()"
   ]
  },
  {
   "cell_type": "code",
   "execution_count": 14,
   "metadata": {},
   "outputs": [
    {
     "name": "stdout",
     "output_type": "stream",
     "text": [
      "+----+----+------+\n",
      "|bla1|bla2|  name|\n",
      "+----+----+------+\n",
      "|   1|   2|arthur|\n",
      "|   3|   4|arthur|\n",
      "|   5|   6|felype|\n",
      "+----+----+------+\n",
      "\n"
     ]
    }
   ],
   "source": [
    "df_spark.na.drop(how=\"any\", subset=[\"bla1\"]).show()"
   ]
  },
  {
   "cell_type": "code",
   "execution_count": 15,
   "metadata": {},
   "outputs": [
    {
     "name": "stdout",
     "output_type": "stream",
     "text": [
      "+----+----+------+\n",
      "|bla1|bla2|  name|\n",
      "+----+----+------+\n",
      "|   1|   2|arthur|\n",
      "|   3|   4|arthur|\n",
      "|   5|   6|felype|\n",
      "| 123|NULL|  NULL|\n",
      "+----+----+------+\n",
      "\n"
     ]
    }
   ],
   "source": [
    "df_spark.na.fill(123, subset=[\"bla1\"]).show()"
   ]
  },
  {
   "cell_type": "code",
   "execution_count": 16,
   "metadata": {},
   "outputs": [
    {
     "name": "stdout",
     "output_type": "stream",
     "text": [
      "+----+----+------+\n",
      "|bla1|bla2|  name|\n",
      "+----+----+------+\n",
      "|   3|   4|arthur|\n",
      "|   5|   6|felype|\n",
      "+----+----+------+\n",
      "\n"
     ]
    }
   ],
   "source": [
    "df_spark.filter(\"bla1>=3\").show()"
   ]
  },
  {
   "cell_type": "code",
   "execution_count": 19,
   "metadata": {},
   "outputs": [
    {
     "name": "stdout",
     "output_type": "stream",
     "text": [
      "+------+---------+---------+\n",
      "|  name|sum(bla1)|sum(bla2)|\n",
      "+------+---------+---------+\n",
      "|felype|        5|        6|\n",
      "|  NULL|     NULL|     NULL|\n",
      "|arthur|        4|        6|\n",
      "+------+---------+---------+\n",
      "\n",
      "+------+-----+\n",
      "|  name|count|\n",
      "+------+-----+\n",
      "|felype|    1|\n",
      "|  NULL|    1|\n",
      "|arthur|    2|\n",
      "+------+-----+\n",
      "\n"
     ]
    }
   ],
   "source": [
    "df_spark.groupBy(\"name\").sum().show()\n",
    "df_spark.groupBy(\"name\").count().show()"
   ]
  },
  {
   "cell_type": "code",
   "execution_count": 24,
   "metadata": {},
   "outputs": [
    {
     "data": {
      "text/plain": [
       "DataFrame[bla1: int, bla2: int, name: string, independent_features: vector]"
      ]
     },
     "execution_count": 24,
     "metadata": {},
     "output_type": "execute_result"
    }
   ],
   "source": [
    "from pyspark.ml.feature import VectorAssembler\n",
    "\n",
    "feature_assembler = VectorAssembler(inputCols=[\"bla1\", \"bla2\"], outputCol=\"independent_features\")\n",
    "feature_assembler.transform(df_spark)"
   ]
  },
  {
   "cell_type": "code",
   "execution_count": null,
   "metadata": {},
   "outputs": [],
   "source": []
  }
 ],
 "metadata": {
  "kernelspec": {
   "display_name": ".venv",
   "language": "python",
   "name": "python3"
  },
  "language_info": {
   "codemirror_mode": {
    "name": "ipython",
    "version": 3
   },
   "file_extension": ".py",
   "mimetype": "text/x-python",
   "name": "python",
   "nbconvert_exporter": "python",
   "pygments_lexer": "ipython3",
   "version": "3.12.1"
  }
 },
 "nbformat": 4,
 "nbformat_minor": 2
}
