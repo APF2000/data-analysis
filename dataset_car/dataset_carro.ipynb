{
 "cells": [
  {
   "cell_type": "code",
   "execution_count": null,
   "metadata": {},
   "outputs": [],
   "source": [
    "# http://www.robesafe.uah.es/personal/eduardo.romera/uah-driveset/\n",
    "\n",
    "# http://www.robesafe.uah.es/personal/eduardo.romera/pdfs/Romera16itsc.pdf\n",
    "# pdf contains description of data (what each column means)\n",
    "\n",
    "\n",
    "import numpy as np\n",
    "import pandas as pd\n",
    "import matplotlib.pyplot as plt\n",
    "\n",
    "from concurrent.futures import ThreadPoolExecutor, ProcessPoolExecutor\n",
    "\n",
    "import os\n",
    "\n",
    "import folium\n",
    "from geopy.distance import distance\n",
    "from datetime import datetime, UTC\n",
    "\n",
    "from ride_parser import UAHRideParser, RealRideParser\n",
    "from app_data_parser import get_data_from_app, generate_acc_from_vel\n",
    "from PIL import Image\n",
    "\n",
    "import matplotlib.dates as mdates"
   ]
  },
  {
   "cell_type": "code",
   "execution_count": null,
   "metadata": {},
   "outputs": [],
   "source": [
    "def display_velocity_graph(vel_df):\n",
    "    #  https://stackoverflow.com/questions/75566545/problem-with-matplotlib-date-formatting-and-conversion-from-epoch-time-overlowe\n",
    "\tplt.rcParams['date.converter'] = 'concise'\n",
    "\n",
    "\tfig, axs = plt.subplots(1, 1, figsize=(6.4, 3), layout='constrained')\n",
    "    # common to all three:\n",
    "    # for ax in axs:\n",
    "\t# ax[1].plot(time.astype('datetime64[s]'), y)\n",
    "\n",
    "\t# ax.plot('date', 'adj_close', data=data)\n",
    "\tplt.plot(\"timestamp\", \"SPEED\", data=vel_df)\n",
    "\t# Major ticks every half year, minor ticks every second,\n",
    "\t# axs.xaxis.set_major_locator(mdates.MinuteLocator(byminute=range(60)))\n",
    "\t# axs.xaxis.set_minor_locator(mdates.MinuteLocator())\n",
    "\taxs.grid(True)\n",
    "\taxs.set_ylabel(\"Velocidade\")\n",
    "\taxs.set_xlabel(\"Horário UTC\")\n",
    "\n",
    "\t# ax = axs[0]\n",
    "\tfirst_timestamp = vel_df.iloc[0][\"timestamp\"]\n",
    "\trecord_day_month_year_string = datetime.fromtimestamp(first_timestamp, UTC).strftime(\"%d/%m/%Y\")\n",
    "\taxs.set_title(\"Captura \" + record_day_month_year_string)\n",
    "\n",
    "\t# axs.xaxis.set_major_formatter(mdates.DateFormatter('%H:%M'))\n",
    "\t# # Rotates and right-aligns the x labels so they don't crowd each other.\n",
    "\t# for label in axs.get_xticklabels(which='major'):\n",
    "\t# \tlabel.set(rotation=30, horizontalalignment='right')\n",
    "\n",
    "\tplt.show()"
   ]
  },
  {
   "cell_type": "code",
   "execution_count": null,
   "metadata": {},
   "outputs": [],
   "source": [
    "ride_root_dir = os.path.join(\"RealData\")\n",
    "\n",
    "real_ride = RealRideParser(ride_root_dir)\n",
    "\n",
    "latitudes = real_ride.gps_df[\"lat\"]\n",
    "longitudes = real_ride.gps_df[\"long\"]\n",
    "\n",
    "qtty_data = len(latitudes)\n",
    "\n",
    "lat_longs = [(latitudes.iloc[i], longitudes.iloc[i]) for i in range(qtty_data)]\n",
    "\n",
    "real_ride.accelerometer_df.head(3)"
   ]
  },
  {
   "cell_type": "code",
   "execution_count": null,
   "metadata": {},
   "outputs": [],
   "source": [
    "app_data = get_data_from_app()\n",
    "\n",
    "obd_vels_df = app_data[\"SPEED\"]\n",
    "\n",
    "display_velocity_graph(obd_vels_df)"
   ]
  },
  {
   "cell_type": "code",
   "execution_count": null,
   "metadata": {},
   "outputs": [],
   "source": [
    "ride_root_dir = os.path.join(\"RealData\")\n",
    "\n",
    "real_ride = RealRideParser(ride_root_dir)\n",
    "\n",
    "# real_ride.gps_df.dtypes\n",
    "# ride.gps_df\n",
    "# ride.accelerometer_df\n",
    "\n",
    "real_ride.get_acc_stats()\n",
    "real_ride.gps_df\n",
    "vels_from_gps_df = real_ride.create_velocity_from_gps_df()\n",
    "display_velocity_graph(vels_from_gps_df.iloc[-150:])\n",
    "# vels_from_gps_df.plot(x=\"timestamp\", y=\"velocity\")"
   ]
  },
  {
   "cell_type": "code",
   "execution_count": null,
   "metadata": {},
   "outputs": [],
   "source": [
    "import numpy as np\n",
    "from scipy.interpolate import CubicHermiteSpline\n",
    "\n",
    "x = np.array([1, 2.5, 4.5, 6, 7])  # x coordinates of turning points\n",
    "y = np.array([1, 3, 2, 3.5, 2.5])  # y coordinates of turning points\n",
    "p = CubicHermiteSpline(x=x, y=y, dydx=np.zeros_like(y))  # interpolator   \n",
    "plt.plot(x, y, 'o')\n",
    "\n",
    "xx = np.linspace(0.9, 7.1, 1000)\n",
    "plt.plot(xx, p(xx))"
   ]
  },
  {
   "cell_type": "code",
   "execution_count": null,
   "metadata": {},
   "outputs": [],
   "source": [
    "# app_data = get_data_from_app()\n",
    "\n",
    "# obd_vels_df = app_data[\"SPEED\"]\n",
    "# display_velocity_graph(obd_vels_df)\n",
    "\n",
    "# print(app_data[\"SPEED\"])"
   ]
  },
  {
   "cell_type": "code",
   "execution_count": null,
   "metadata": {},
   "outputs": [],
   "source": [
    "\n",
    "display_velocity_graph(generate_acc_from_vel(obd_vels_df))\n"
   ]
  },
  {
   "cell_type": "code",
   "execution_count": null,
   "metadata": {},
   "outputs": [],
   "source": [
    "start_lat_long = lat_longs[0]\n",
    "end_lat_long = lat_longs[-1]\n",
    "\n",
    "mean_lat = latitudes.mean()\n",
    "mean_long = longitudes.mean()\n",
    "\n",
    "start_lat_long, end_lat_long, qtty_data"
   ]
  },
  {
   "cell_type": "code",
   "execution_count": null,
   "metadata": {},
   "outputs": [],
   "source": [
    "map = folium.Map(location=[mean_lat, mean_long], zoom_start=14, control_scale=True)\n",
    "\n",
    "folium.Marker(start_lat_long, popup=\"start\").add_to(map)\n",
    "folium.Marker(end_lat_long, popup=\"end\").add_to(map)"
   ]
  },
  {
   "cell_type": "code",
   "execution_count": null,
   "metadata": {},
   "outputs": [],
   "source": [
    "for i in range(qtty_data - 1):\n",
    "\tlocation_1 = lat_longs[i]\n",
    "\tlocation_2 = lat_longs[i + 1]\n",
    "\n",
    "\tfolium.PolyLine([location_1, location_2],\n",
    "\t\t\t\t\tcolor='red',\n",
    "\t\t\t\t\tweight=5,\n",
    "\t\t\t\t\topacity=0.4).add_to(map)\n",
    "\n",
    "map"
   ]
  },
  {
   "cell_type": "code",
   "execution_count": null,
   "metadata": {},
   "outputs": [],
   "source": [
    "accelerometer_df = real_ride.accelerometer_df\n",
    "last_timestamp = accelerometer_df.timestamp.iloc[-1] # .timestamp()\n",
    "delta_time_size = 100 \t# 100 s\n",
    "frame_granularity = 10 \t# 50 s\n",
    "qtty_frames = (last_timestamp - delta_time_size) // frame_granularity\n",
    "\n",
    "filtered_accelerations_df = accelerometer_df\n",
    "\n",
    "print(\"last_timestamp\", last_timestamp)\n",
    "print(\"qtty_frames\", qtty_frames)\n",
    "print(\"last_timestamp\", last_timestamp)\n",
    "\n",
    "qtty_frames = min(qtty_frames, 100)\n",
    "\n",
    "# foo_for_real_data(accelerometer_df, frame_granularity, delta_time_size, 0)\n",
    "\n",
    "for i in range(10): #qtty_frames):\n",
    "    real_ride.foo_for_real_data(frame_granularity, delta_time_size, i)\n"
   ]
  },
  {
   "attachments": {},
   "cell_type": "markdown",
   "metadata": {},
   "source": [
    "Objetivos:\n",
    "- [] Gerar mapa com a rota feita por cada um dos motoristas\n",
    "- [] Sincronizar vídeo com eventos de aceleração"
   ]
  },
  {
   "cell_type": "code",
   "execution_count": null,
   "metadata": {},
   "outputs": [],
   "source": [
    "# ride_root_dir = os.path.join(\"UAH-DRIVESET-v1\", \"D1\", \"20151110175712-16km-D1-NORMAL1-SECONDARY\")\n",
    "ride_root_dir = os.path.join(\"UAH-DRIVESET-v1\", \"D1\", \"20151111125233-24km-D1-AGGRESSIVE-MOTORWAY\")\n",
    "\n",
    "ride = UAHRideParser(ride_root_dir)\n",
    "\n",
    "# col_names = [str(i) for i in range(13)]\n",
    "# col_names = [\"timestamp\", \"speed\", \"lat\", \"long\", \"altitude\", \"vert accuracy\", \"horiz accuracy\", \"course\", \"difcourse\", \"?1\", \"?2\", \"?3\", \"?4\"]\n",
    "# pd.read_csv(gps_file_path, sep=\" \", names=col_names)\n",
    "\n",
    "ride.gps_df\n",
    "ride.accelerometer_df"
   ]
  },
  {
   "cell_type": "code",
   "execution_count": null,
   "metadata": {},
   "outputs": [],
   "source": [
    "accelerometer_df = ride.accelerometer_df\n",
    "oldest_timestamp = int(accelerometer_df.timestamp.iloc[-1])\n",
    "delta_time_size = 20\n",
    "frame_granularity = 1\n",
    "qtty_frames = (oldest_timestamp - delta_time_size) // frame_granularity\n",
    "\n",
    "print(\"qtty_frames\", qtty_frames)\n",
    "print(\"oldest_timestamp\", oldest_timestamp)\n",
    "\n",
    "for i in range(10): #qtty_frames):\n",
    "    with ProcessPoolExecutor(max_workers=10) as executor:\n",
    "        future = executor.submit(ride.foo, accelerometer_df, frame_granularity, delta_time_size, i)\n",
    "\n",
    "    # print(future.result())\n",
    "\n",
    "# plt.show()\n",
    "# RuntimeWarning: More than 20 figures have been opened. Figures created through the pyplot interface (`matplotlib.pyplot.figure`) are retained until explicitly closed and may consume too much memory. (To control this warning, see the rcParam `figure.max_open_warning`). Consider using `matplotlib.pyplot.close()`."
   ]
  },
  {
   "cell_type": "code",
   "execution_count": null,
   "metadata": {},
   "outputs": [],
   "source": [
    "fig, axs = plt.subplots(ncols=1, nrows=4)\n",
    "\n",
    "accelerometer_df = ride.accelerometer_df\n",
    "accelerometer_df = accelerometer_df[accelerometer_df.timestamp < 20]\n",
    "filtered_acc_x = accelerometer_df[\"filtered_acc_x\"]\n",
    "filtered_acc_y = accelerometer_df[\"filtered_acc_y\"]\n",
    "filtered_acc_z = accelerometer_df[\"filtered_acc_z\"]\n",
    "acc_resultant = accelerometer_df[\"acc_resultant\"]\n",
    "timestamp = accelerometer_df[\"timestamp\"]\n",
    "\n",
    "# axs[0].scatter(timestamp, filtered_acc_x, s=0.1)\n",
    "axs[0].plot(timestamp, filtered_acc_x) #, \"-o\")\n",
    "axs[0].set_title(\"filtered_acc_x\")\n",
    "\n",
    "axs[1].plot(timestamp, filtered_acc_y)\n",
    "axs[1].set_title(\"filtered_acc_y\")\n",
    "\n",
    "axs[2].plot(timestamp, filtered_acc_z)\n",
    "axs[2].set_title(\"filtered_acc_z\")\n",
    "\n",
    "axs[3].plot(timestamp, acc_resultant)\n",
    "axs[3].set_title(\"acc_resultant\")\n",
    "\n",
    "fig.tight_layout()\n",
    "\n",
    "plt.show()"
   ]
  },
  {
   "cell_type": "code",
   "execution_count": null,
   "metadata": {},
   "outputs": [],
   "source": [
    "import numpy as np\n",
    "from scipy.spatial.distance import euclidean\n",
    "\n",
    "from fastdtw import fastdtw\n",
    "\n",
    "# x = np.array([[1,1], [2,2], [3,3], [4,4], [5,5]])\n",
    "# y = np.array([[2,2], [3,3], [4,4]])\n",
    "\n",
    "x = [tuple(el) for _, el in obd_vels_df.iterrows()][-107:]\n",
    "y = [tuple(el) for _, el in vels_from_gps_df.iterrows()][-107:]\n",
    "\n",
    "distance, path = fastdtw(x, y, dist=euclidean)\n",
    "print(distance, path)"
   ]
  },
  {
   "cell_type": "code",
   "execution_count": null,
   "metadata": {},
   "outputs": [],
   "source": []
  },
  {
   "cell_type": "code",
   "execution_count": null,
   "metadata": {},
   "outputs": [],
   "source": [
    "imgs = ride.generate_acc_sub_graph()\n",
    "\n",
    "# im = Image.open(next(imgs))\n",
    "# im.show(title=\"My Image\")"
   ]
  },
  {
   "cell_type": "code",
   "execution_count": null,
   "metadata": {},
   "outputs": [],
   "source": [
    "# import matplotlib.pyplot as plt\n",
    "# import matplotlib.cm as cm\n",
    "# import matplotlib.animation as animation\n",
    "\n",
    "# import numpy\n",
    "# from PIL import Image\n",
    "\n",
    "# n = 20\n",
    "\n",
    "# img = [] # some array of images\n",
    "# for i in range(n):\n",
    "# \timarray = numpy.random.rand(100,100,3) * 255\n",
    "# \tim = Image.fromarray(imarray.astype('uint8')).convert('RGBA')\n",
    "# \timg.append(im)\n",
    "\n",
    "# frames = [] # for storing the generated images\n",
    "# fig = plt.figure()\n",
    "# for i in range(n):\n",
    "# \tframes.append([plt.imshow(img[i], cmap=cm.Greys_r,animated=True)])\n",
    "\n",
    "# ani = animation.ArtistAnimation(fig, frames, blit=True)\n",
    "\n",
    "# writergif = animation.PillowWriter(fps=1)\n",
    "# ani.save('movie.gif', writer=writergif)\n",
    "# plt.show()"
   ]
  },
  {
   "cell_type": "code",
   "execution_count": null,
   "metadata": {},
   "outputs": [],
   "source": [
    "# import io\n",
    "# from PIL import Image\n",
    "# import matplotlib.pyplot as plt\n",
    "\n",
    "# plt.rcParams[\"figure.figsize\"] = [7.50, 3.50]\n",
    "# plt.rcParams[\"figure.autolayout\"] = True\n",
    "\n",
    "# plt.figure()\n",
    "# plt.plot([1, 2])\n",
    "\n",
    "# img_buf = io.BytesIO()\n",
    "# plt.savefig(img_buf, format='png')\n",
    "\n",
    "# im = Image.open(img_buf)\n",
    "# im.show(title=\"My Image\")\n",
    "\n",
    "# img_buf.close()"
   ]
  }
 ],
 "metadata": {
  "kernelspec": {
   "display_name": ".venv_aws",
   "language": "python",
   "name": "python3"
  },
  "language_info": {
   "codemirror_mode": {
    "name": "ipython",
    "version": 3
   },
   "file_extension": ".py",
   "mimetype": "text/x-python",
   "name": "python",
   "nbconvert_exporter": "python",
   "pygments_lexer": "ipython3",
   "version": "3.10.12"
  },
  "orig_nbformat": 4
 },
 "nbformat": 4,
 "nbformat_minor": 2
}
