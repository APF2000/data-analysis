{
 "cells": [
  {
   "cell_type": "code",
   "execution_count": 1,
   "metadata": {},
   "outputs": [],
   "source": [
    "# http://www.robesafe.uah.es/personal/eduardo.romera/uah-driveset/\n",
    "\n",
    "# http://www.robesafe.uah.es/personal/eduardo.romera/pdfs/Romera16itsc.pdf\n",
    "# pdf contains description of data (what each column means)\n",
    "\n",
    "\n",
    "import numpy as np\n",
    "import pandas as pd\n",
    "import matplotlib.pyplot as plt\n",
    "\n",
    "from concurrent.futures import ThreadPoolExecutor, ProcessPoolExecutor\n",
    "\n",
    "import os\n",
    "\n",
    "import folium\n",
    "from geopy.distance import distance\n",
    "# from datetime import datetime\n",
    "from datetime import datetime, UTC\n",
    "\n",
    "from ride_parser import UAHRideParser, RealRideParser\n",
    "from app_data_parser import  generate_acc_from_vel, generate_jerk_from_acc\n",
    "from PIL import Image\n",
    "\n",
    "import matplotlib.dates as mdates"
   ]
  },
  {
   "cell_type": "code",
   "execution_count": null,
   "metadata": {},
   "outputs": [],
   "source": []
  },
  {
   "cell_type": "code",
   "execution_count": 2,
   "metadata": {},
   "outputs": [],
   "source": [
    "def get_df_without_outliers(df_to_describe, display_col_name, physical_qtty_name):\n",
    "    df_to_describe = df_to_describe.rename(columns={display_col_name : physical_qtty_name})\n",
    "    series_to_describe = df_to_describe[physical_qtty_name]\n",
    "\n",
    "    # median_val = series_to_describe.median()\n",
    "    first_quarter = series_to_describe.quantile(0.25)\n",
    "    third_quarter = series_to_describe.quantile(0.75)\n",
    "\n",
    "    quarter_dist = third_quarter - first_quarter\n",
    "\n",
    "    lower_limit = first_quarter - 1.5 * quarter_dist\n",
    "    upper_limit = third_quarter + 1.5 * quarter_dist\n",
    "\n",
    "    filter_for_df = (series_to_describe >= lower_limit) & (series_to_describe <= upper_limit)\n",
    "\n",
    "    return df_to_describe[filter_for_df]"
   ]
  },
  {
   "cell_type": "code",
   "execution_count": 3,
   "metadata": {},
   "outputs": [],
   "source": [
    "def base_display_graph(df_to_display, display_col_name, physical_qtty_name, unit):\n",
    "    fig, axs = plt.subplots(1, 1, figsize=(6.4, 3), layout='constrained')\n",
    "\n",
    "    df_to_display = df_to_display.rename(columns={display_col_name : physical_qtty_name})\n",
    "\n",
    "    series_to_display = df_to_display[physical_qtty_name]\n",
    "\n",
    "    plt.plot(\"timestamp\", physical_qtty_name, data=df_to_display)\n",
    "\n",
    "    axs.grid(True)\n",
    "    axs.set_ylabel(\"%s (%s)\" % (physical_qtty_name, unit))\n",
    "    axs.set_xlabel(\"Horário UTC\")\n",
    "\n",
    "    first_timestamp = df_to_display.iloc[0][\"timestamp\"]\n",
    "    record_day_month_year_string = datetime.fromtimestamp(first_timestamp, UTC).strftime(\"%d/%m/%Y %H:%M\")\n",
    "    axs.set_title(\"Captura de %s em \" % physical_qtty_name + record_day_month_year_string)\n",
    "\n",
    "    min_val = series_to_display.min()\n",
    "    max_val = series_to_display.max()\n",
    "    median_val = series_to_display.median()\n",
    "\n",
    "    plt.axhline(y=median_val, color=\"orange\", linestyle=\"dashed\", label=\"Mediana (%.2f)\" % median_val) \n",
    "    plt.axhline(y=min_val, color=\"yellow\", linestyle=\"dashed\", label=\"Valor mínimo (%.2f)\" % min_val) \n",
    "    plt.axhline(y=max_val, color=\"red\", linestyle=\"dashed\", label=\"Valor máximo (%.2f)\" % max_val) \n",
    "\n",
    "    plt.legend(loc='center right', bbox_to_anchor=(1.6, 0.5),\n",
    "            ncol=1, fancybox=True, shadow=True)\n",
    "\n",
    "    plt.show()"
   ]
  },
  {
   "cell_type": "code",
   "execution_count": 4,
   "metadata": {},
   "outputs": [],
   "source": [
    "def display_vel_graph(vel_df):\n",
    "\tbase_display_graph(vel_df, \"SPEED\", \"Velocidade\", \"m/s\")"
   ]
  },
  {
   "cell_type": "code",
   "execution_count": 5,
   "metadata": {},
   "outputs": [],
   "source": [
    "def display_acc_graph(acc_df):\n",
    "\tbase_display_graph(acc_df, \"acceleration\", \"Aceleração\", \"m/s^2\")"
   ]
  },
  {
   "cell_type": "code",
   "execution_count": 6,
   "metadata": {},
   "outputs": [],
   "source": [
    "def display_jerk_graph(jerk_df):\n",
    "\tbase_display_graph(jerk_df, \"jerk\", \"Arrancada\", \"m/s^3\")"
   ]
  },
  {
   "cell_type": "code",
   "execution_count": 7,
   "metadata": {},
   "outputs": [
    {
     "data": {
      "image/png": "[encoded data removed]",
      "text/plain": [
       "<Figure size 640x480 with 1 Axes>"
      ]
     },
     "metadata": {},
     "output_type": "display_data"
    }
   ],
   "source": [
    "import matplotlib.pyplot as plt\n",
    "\n",
    "# Coordenadas dos pontos (latitude, longitude)\n",
    "latitude = [37.7749, 34.0522, 40.7128]\n",
    "longitude = [-122.4194, -118.2437, -74.0060]\n",
    "\n",
    "# Criar um gráfico de dispersão\n",
    "plt.scatter(longitude, latitude, color='red', marker='o')\n",
    "\n",
    "# Adicionar rótulos e título\n",
    "plt.xlabel('Longitude')\n",
    "plt.ylabel('Latitude')\n",
    "plt.title('Exemplo Simples de Mapa com Matplotlib')\n",
    "\n",
    "# Exibir o gráfico\n",
    "plt.show()\n"
   ]
  },
  {
   "cell_type": "code",
   "execution_count": null,
   "metadata": {},
   "outputs": [],
   "source": []
  },
  {
   "cell_type": "code",
   "execution_count": 8,
   "metadata": {},
   "outputs": [
    {
     "name": "stderr",
     "output_type": "stream",
     "text": [
      "/tmp/ipykernel_31680/3290557273.py:5: FutureWarning: The geopandas.dataset module is deprecated and will be removed in GeoPandas 1.0. You can get the original 'naturalearth_lowres' data from https://www.naturalearthdata.com/downloads/110m-cultural-vectors/.\n",
      "  world = gpd.read_file(gpd.datasets.get_path('naturalearth_lowres'))\n"
     ]
    },
    {
     "data": {
      "text/html": [
       "<div>\n",
       "<style scoped>\n",
       "    .dataframe tbody tr th:only-of-type {\n",
       "        vertical-align: middle;\n",
       "    }\n",
       "\n",
       "    .dataframe tbody tr th {\n",
       "        vertical-align: top;\n",
       "    }\n",
       "\n",
       "    .dataframe thead th {\n",
       "        text-align: right;\n",
       "    }\n",
       "</style>\n",
       "<table border=\"1\" class=\"dataframe\">\n",
       "  <thead>\n",
       "    <tr style=\"text-align: right;\">\n",
       "      <th></th>\n",
       "      <th>pop_est</th>\n",
       "      <th>continent</th>\n",
       "      <th>name</th>\n",
       "      <th>iso_a3</th>\n",
       "      <th>gdp_md_est</th>\n",
       "      <th>geometry</th>\n",
       "    </tr>\n",
       "  </thead>\n",
       "  <tbody>\n",
       "    <tr>\n",
       "      <th>29</th>\n",
       "      <td>211049527.0</td>\n",
       "      <td>South America</td>\n",
       "      <td>Brazil</td>\n",
       "      <td>BRA</td>\n",
       "      <td>1839758</td>\n",
       "      <td>POLYGON ((-53.37366 -33.76838, -53.65054 -33.2...</td>\n",
       "    </tr>\n",
       "  </tbody>\n",
       "</table>\n",
       "</div>"
      ],
      "text/plain": [
       "        pop_est      continent    name iso_a3  gdp_md_est  \\\n",
       "29  211049527.0  South America  Brazil    BRA     1839758   \n",
       "\n",
       "                                             geometry  \n",
       "29  POLYGON ((-53.37366 -33.76838, -53.65054 -33.2...  "
      ]
     },
     "execution_count": 8,
     "metadata": {},
     "output_type": "execute_result"
    },
    {
     "data": {
      "image/png": "[encoded data removed]",
      "text/plain": [
       "<Figure size 1000x1000 with 1 Axes>"
      ]
     },
     "metadata": {},
     "output_type": "display_data"
    }
   ],
   "source": [
    "import geopandas as gpd\n",
    "import matplotlib.pyplot as plt\n",
    "\n",
    "# Carregando os dados internos do GeoPandas (por exemplo, países do mundo)\n",
    "world = gpd.read_file(gpd.datasets.get_path('naturalearth_lowres'))\n",
    "\n",
    "# Filtrando para obter apenas o Brasil\n",
    "brazil = world[world['name'] == 'Brazil']\n",
    "\n",
    "# Plotando o mapa\n",
    "fig, ax = plt.subplots(figsize=(10, 10))\n",
    "brazil.plot(ax=ax, color='lightgrey', edgecolor='black')\n",
    "\n",
    "# Adicionando título\n",
    "plt.title('Mapa do Brasil - Low Resolution', fontsize=16)\n",
    "\n",
    "# Exibindo o mapa\n",
    "# plt.show()\n",
    "world[world['name'] == 'Brazil']\n"
   ]
  },
  {
   "cell_type": "code",
   "execution_count": 9,
   "metadata": {},
   "outputs": [
    {
     "name": "stdout",
     "output_type": "stream",
     "text": [
      "    CD_MUN            NM_MUN SIGLA_UF  AREA_KM2  \\\n",
      "0  3500105        Adamantina       SP   411.987   \n",
      "1  3500204            Adolfo       SP   211.055   \n",
      "2  3500303             Aguaí       SP   474.554   \n",
      "3  3500402    Águas da Prata       SP   142.673   \n",
      "4  3500501  Águas de Lindóia       SP    60.126   \n",
      "\n",
      "                                            geometry  \n",
      "0  POLYGON ((-51.09557 -21.57029, -51.09617 -21.5...  \n",
      "1  POLYGON ((-49.61249 -21.26110, -49.61249 -21.2...  \n",
      "2  POLYGON ((-47.01254 -22.00527, -47.01219 -22.0...  \n",
      "3  POLYGON ((-46.71875 -21.95837, -46.71878 -21.9...  \n",
      "4  POLYGON ((-46.61761 -22.51172, -46.61864 -22.5...  \n"
     ]
    }
   ],
   "source": [
    "import geopandas as gpd\n",
    "from zipfile import ZipFile\n",
    "\n",
    "# Caminho para o arquivo zip\n",
    "zip_path = \"SP_Municipios_2022.zip\"\n",
    "\n",
    "# Caminho para o arquivo shapefile dentro do zip\n",
    "shapefile_path = \"SP_Municipios_2022.shp\"\n",
    "\n",
    "# Extrair o conteúdo do arquivo zip\n",
    "with ZipFile(zip_path, 'r') as zip_ref:\n",
    "    zip_ref.extractall(\"/tmp\")  # Extraia para um diretório temporário ou escolha um caminho adequado\n",
    "\n",
    "# Carregar o shapefile usando o GeoPandas\n",
    "mapa_brasil = gpd.read_file(f\"/tmp/{shapefile_path}\")\n",
    "\n",
    "# Agora você pode plotar o mapa ou realizar outras operações com o GeoPandas\n",
    "print(mapa_brasil.head())\n",
    "\n"
   ]
  },
  {
   "cell_type": "code",
   "execution_count": 10,
   "metadata": {},
   "outputs": [
    {
     "data": {
      "text/plain": [
       "<Axes: >"
      ]
     },
     "execution_count": 10,
     "metadata": {},
     "output_type": "execute_result"
    },
    {
     "data": {
      "image/png": "[encoded data removed]",
      "text/plain": [
       "<Figure size 640x480 with 1 Axes>"
      ]
     },
     "metadata": {},
     "output_type": "display_data"
    }
   ],
   "source": [
    "mapa_brasil[mapa_brasil[\"NM_MUN\"] == \"São Paulo\"].plot()"
   ]
  },
  {
   "cell_type": "code",
   "execution_count": null,
   "metadata": {},
   "outputs": [],
   "source": []
  },
  {
   "cell_type": "code",
   "execution_count": 11,
   "metadata": {},
   "outputs": [],
   "source": [
    "# ride_root_dir_1 = os.path.join(\"RealData\", \"Data_2023-11-20_pt1\")\n",
    "# ride_root_dir_2 = os.path.join(\"RealData\", \"Mercedes_25-11-2023\")\n",
    "# ride_root_dir_3 = os.path.join(\"RealData\", \"Xsport_Ford_25-11-2023\")\n",
    "\n",
    "# real_ride_1 = RealRideParser(root_dir=ride_root_dir_1)\n",
    "# real_ride_2 = RealRideParser(root_dir=ride_root_dir_2)\n",
    "# real_ride_3 = RealRideParser(root_dir=ride_root_dir_3)\n",
    "\n",
    "# obd_params_1 = set(real_ride_1.obd_data.keys())\n",
    "# obd_params_2 = set(real_ride_2.obd_data.keys())\n",
    "# obd_params_3 = set(real_ride_2.obd_data.keys())\n",
    "\n",
    "# print(\"obd_params_1\", obd_params_1)\n",
    "# print(\"obd_params_2\", obd_params_2)\n",
    "# print(\"obd_params_3\", obd_params_3)\n",
    "# print(\"insersection\")\n",
    "\n",
    "# intersect_list = list(obd_params_1.intersection(obd_params_2).intersection(obd_params_3))\n",
    "# intersect_list.sort()\n",
    "# for el in intersect_list:\n",
    "#     print(\"\\\\item\", el)\n"
   ]
  },
  {
   "cell_type": "code",
   "execution_count": 12,
   "metadata": {},
   "outputs": [
    {
     "data": {
      "text/html": [
       "<div>\n",
       "<style scoped>\n",
       "    .dataframe tbody tr th:only-of-type {\n",
       "        vertical-align: middle;\n",
       "    }\n",
       "\n",
       "    .dataframe tbody tr th {\n",
       "        vertical-align: top;\n",
       "    }\n",
       "\n",
       "    .dataframe thead th {\n",
       "        text-align: right;\n",
       "    }\n",
       "</style>\n",
       "<table border=\"1\" class=\"dataframe\">\n",
       "  <thead>\n",
       "    <tr style=\"text-align: right;\">\n",
       "      <th></th>\n",
       "      <th>timestamp</th>\n",
       "      <th>acc_x</th>\n",
       "      <th>acc_y</th>\n",
       "      <th>acc_z</th>\n",
       "      <th>filtered_acc_x</th>\n",
       "      <th>filtered_acc_y</th>\n",
       "      <th>filtered_acc_z</th>\n",
       "      <th>grav_x</th>\n",
       "      <th>grav_y</th>\n",
       "      <th>grav_z</th>\n",
       "      <th>acc_z_car_x</th>\n",
       "      <th>acc_z_car_y</th>\n",
       "      <th>acc_z_car_z</th>\n",
       "      <th>remaining_acc_x</th>\n",
       "      <th>remaining_acc_y</th>\n",
       "      <th>remaining_acc_z</th>\n",
       "      <th>acc_resultant</th>\n",
       "      <th>remaining_acc_resultant</th>\n",
       "    </tr>\n",
       "  </thead>\n",
       "  <tbody>\n",
       "    <tr>\n",
       "      <th>0</th>\n",
       "      <td>1.700517e+09</td>\n",
       "      <td>-0.51</td>\n",
       "      <td>0.24</td>\n",
       "      <td>-0.08</td>\n",
       "      <td>-0.51</td>\n",
       "      <td>0.24</td>\n",
       "      <td>-0.08</td>\n",
       "      <td>1.00</td>\n",
       "      <td>7.70</td>\n",
       "      <td>5.99</td>\n",
       "      <td>0.087573</td>\n",
       "      <td>0.674315</td>\n",
       "      <td>0.524564</td>\n",
       "      <td>-0.597573</td>\n",
       "      <td>-0.434315</td>\n",
       "      <td>-0.604564</td>\n",
       "      <td>0.569298</td>\n",
       "      <td>0.954579</td>\n",
       "    </tr>\n",
       "    <tr>\n",
       "      <th>1</th>\n",
       "      <td>1.700517e+09</td>\n",
       "      <td>-0.55</td>\n",
       "      <td>0.15</td>\n",
       "      <td>-0.24</td>\n",
       "      <td>-0.55</td>\n",
       "      <td>0.15</td>\n",
       "      <td>-0.24</td>\n",
       "      <td>0.99</td>\n",
       "      <td>7.72</td>\n",
       "      <td>5.97</td>\n",
       "      <td>-0.082689</td>\n",
       "      <td>-0.644806</td>\n",
       "      <td>-0.498639</td>\n",
       "      <td>-0.467311</td>\n",
       "      <td>0.794806</td>\n",
       "      <td>0.258639</td>\n",
       "      <td>0.618547</td>\n",
       "      <td>0.957596</td>\n",
       "    </tr>\n",
       "    <tr>\n",
       "      <th>2</th>\n",
       "      <td>1.700517e+09</td>\n",
       "      <td>0.08</td>\n",
       "      <td>-0.30</td>\n",
       "      <td>-0.38</td>\n",
       "      <td>0.08</td>\n",
       "      <td>-0.30</td>\n",
       "      <td>-0.38</td>\n",
       "      <td>1.02</td>\n",
       "      <td>7.74</td>\n",
       "      <td>5.93</td>\n",
       "      <td>-0.467545</td>\n",
       "      <td>-3.547839</td>\n",
       "      <td>-2.718176</td>\n",
       "      <td>0.547545</td>\n",
       "      <td>3.247839</td>\n",
       "      <td>2.338176</td>\n",
       "      <td>0.490714</td>\n",
       "      <td>4.039224</td>\n",
       "    </tr>\n",
       "  </tbody>\n",
       "</table>\n",
       "</div>"
      ],
      "text/plain": [
       "      timestamp  acc_x  acc_y  acc_z  filtered_acc_x  filtered_acc_y  \\\n",
       "0  1.700517e+09  -0.51   0.24  -0.08           -0.51            0.24   \n",
       "1  1.700517e+09  -0.55   0.15  -0.24           -0.55            0.15   \n",
       "2  1.700517e+09   0.08  -0.30  -0.38            0.08           -0.30   \n",
       "\n",
       "   filtered_acc_z  grav_x  grav_y  grav_z  acc_z_car_x  acc_z_car_y  \\\n",
       "0           -0.08    1.00    7.70    5.99     0.087573     0.674315   \n",
       "1           -0.24    0.99    7.72    5.97    -0.082689    -0.644806   \n",
       "2           -0.38    1.02    7.74    5.93    -0.467545    -3.547839   \n",
       "\n",
       "   acc_z_car_z  remaining_acc_x  remaining_acc_y  remaining_acc_z  \\\n",
       "0     0.524564        -0.597573        -0.434315        -0.604564   \n",
       "1    -0.498639        -0.467311         0.794806         0.258639   \n",
       "2    -2.718176         0.547545         3.247839         2.338176   \n",
       "\n",
       "   acc_resultant  remaining_acc_resultant  \n",
       "0       0.569298                 0.954579  \n",
       "1       0.618547                 0.957596  \n",
       "2       0.490714                 4.039224  "
      ]
     },
     "execution_count": 12,
     "metadata": {},
     "output_type": "execute_result"
    },
    {
     "data": {
      "image/png": "[encoded data removed]",
      "text/plain": [
       "<Figure size 2000x1000 with 4 Axes>"
      ]
     },
     "metadata": {},
     "output_type": "display_data"
    }
   ],
   "source": [
    "# ride_root_dir = os.path.join(\"RealData\", \"Data_2023-11-03\")\n",
    "ride_root_dir = os.path.join(\"RealData\", \"Data_2023-11-20_pt2\")\n",
    "# ride_root_dir = os.path.join(\"RealData\", \"FakeTest\")\n",
    "# ride_root_dir = os.path.join(\"RealData\", \"Mercedes_25-11-2023\")\n",
    "# ride_root_dir = os.path.join(\"RealData\", \"Ix35_Hyundai_25-11-2023\")\n",
    "# ride_root_dir = os.path.join(\"RealData\", \"Agressivo_28-11-2023_traj1\")\n",
    "# ride_root_dir = os.path.join(\"RealData\", \"Dados_com_millis\")\n",
    "\n",
    "\n",
    "real_ride = RealRideParser(root_dir=ride_root_dir)\n",
    "\n",
    "latitudes = real_ride.gps_df[\"lat\"]\n",
    "longitudes = real_ride.gps_df[\"long\"]\n",
    "\n",
    "qtty_data = len(latitudes)\n",
    "\n",
    "lat_longs = [(latitudes.iloc[i], longitudes.iloc[i]) for i in range(qtty_data)]\n",
    "\n",
    "real_ride.accelerometer_df.head(3)"
   ]
  },
  {
   "cell_type": "code",
   "execution_count": 13,
   "metadata": {},
   "outputs": [],
   "source": [
    "# fig1, ax1 = plt.subplots()\n",
    "# ax1.set_title('Contagem de crimes por quadrado de chunk')\n",
    "# counts = real_ride.crime_analyser.car_crimes_df[[\"chunk_i\", \"chunk_j\"]].groupby(by=[\"chunk_i\", \"chunk_j\"]).size()\n",
    "# ax1.set_yscale('log')\n",
    "# ax1.hist(list(counts))\n",
    "\n",
    "# # max_count = counts.max()\n",
    "# # ticks = np.array([max_count // i for i in range(1, 10)])\n",
    "# # ax1.set_yticks(counts)\n",
    "\n",
    "# # y_labels = ticks.astype(str)\n",
    "# # ax1.set_yticklabels(y_labels)\n",
    "\n",
    "# plt.show()"
   ]
  },
  {
   "cell_type": "code",
   "execution_count": 14,
   "metadata": {},
   "outputs": [],
   "source": [
    "# real_ride.generate_pdf_metrics()"
   ]
  },
  {
   "cell_type": "code",
   "execution_count": 15,
   "metadata": {},
   "outputs": [],
   "source": [
    "# map = real_ride.create_route_map()\n",
    "# real_ride.calculate_crime_stats(map)[0]"
   ]
  },
  {
   "cell_type": "code",
   "execution_count": 16,
   "metadata": {},
   "outputs": [],
   "source": [
    "# user_id = \"arthurpfonseca@gmail.com\"\n",
    "# date_beg = datetime.strptime(\"2023-12-01 00:00:00.000\", \"%Y-%m-%d %H:%M:%S.%f\").__str__()\n",
    "# date_end = datetime.strptime(\"2024-12-13 23:59:59.999\", \"%Y-%m-%d %H:%M:%S.%f\").__str__()\n",
    "\n",
    "# real_ride_database = RealRideParser(should_get_data_from_database=True, user_id=user_id, date_beg=date_beg, date_end=date_end)\n",
    "# real_ride_database.generate_pdf_metrics()"
   ]
  },
  {
   "cell_type": "code",
   "execution_count": 17,
   "metadata": {},
   "outputs": [],
   "source": [
    "# from matplotlib.gridspec import GridSpec\n",
    "# import random\n",
    "# import numpy\n",
    "# from matplotlib import pyplot as pl\n",
    "# from matplotlib.backends.backend_pdf import PdfPages\n",
    "\n",
    "# fig = pl.figure(figsize=(12, 16))\n",
    "# G = GridSpec(2,2)   \n",
    "\n",
    "# x = [random.gauss(3,1) for _ in range(400)]\n",
    "# bins = numpy.linspace(-10, 10, 100)\n",
    "\n",
    "# axes_1 = pl.subplot(G[0, 0])\n",
    "# axes_1.hist(x, bins, alpha=0.5, label='x')\n",
    "\n",
    "# axes_2 = pl.subplot(G[1, :])\n",
    "# axes_2.plot(x)\n",
    "\n",
    "# pdf_file = PdfPages(\"teste.pdf\")\n",
    "# pdf_file.savefig(fig)\n",
    "# pdf_file.close()\n",
    "\n",
    "# # pl.tight_layout()\n",
    "# # pl.show()"
   ]
  },
  {
   "cell_type": "code",
   "execution_count": 24,
   "metadata": {},
   "outputs": [
    {
     "name": "stdout",
     "output_type": "stream",
     "text": [
      "O arquivo bla.pdf foi salvo com sucesso.\n"
     ]
    }
   ],
   "source": [
    "pdf_bytes_io = real_ride.generate_pdf_metrics()\n",
    "pdf_raw_bytes = pdf_bytes_io.read()\n",
    "# open(\"bla.pdf\", \"wb\").write()\n",
    "\n",
    "nome_arquivo = 'bla.pdf'\n",
    "\n",
    "import base64\n",
    "\n",
    "with open(nome_arquivo, 'wb') as f:\n",
    "    f.write(pdf_raw_bytes) #base64.b64decode(pdf_raw_bytes))\n",
    "\n",
    "from io import BytesIO\n",
    "import shutil\n",
    "\n",
    "# Substitua 'seu_arquivo.pdf' pelo nome desejado para o arquivo\n",
    "\n",
    "\n",
    "# Crie um objeto BytesIO e escreva os bytes do conteúdo do PDF nele\n",
    "# pdf_bytes_io = BytesIO(pdf_content)\n",
    "\n",
    "pdf_bytes_io.seek(0)\n",
    "\n",
    "# Crie um novo objeto de arquivo no modo binário ('wb') e copie os bytes do BytesIO para o arquivo\n",
    "with open(nome_arquivo, 'wb') as arquivo_pdf:\n",
    "    shutil.copyfileobj(pdf_bytes_io, arquivo_pdf)\n",
    "\n",
    "print(f'O arquivo {nome_arquivo} foi salvo com sucesso.')\n"
   ]
  },
  {
   "cell_type": "code",
   "execution_count": null,
   "metadata": {},
   "outputs": [],
   "source": [
    "# import requests\n",
    "# import json\n",
    "\n",
    "# # r = requests.post('http://httpbin.org/post', json={\"key\": \"value\"})\n",
    "\n",
    "# url = \"https://pntdpvkdsc.execute-api.us-east-1.amazonaws.com/default/app_data\"\n",
    "# data = {\"method\": \"get_acceleration\"}\n",
    "# headers = {'Content-type': 'application/json', 'Accept': 'text/plain'}\n",
    "# r = requests.post(url, data=json.dumps(data), headers=headers)\n",
    "\n",
    "# r.status_code, r.json()"
   ]
  },
  {
   "cell_type": "code",
   "execution_count": null,
   "metadata": {},
   "outputs": [],
   "source": []
  },
  {
   "cell_type": "code",
   "execution_count": null,
   "metadata": {},
   "outputs": [],
   "source": [
    "real_ride.obd_data[\"ENGINE_RPM\"]"
   ]
  },
  {
   "cell_type": "code",
   "execution_count": null,
   "metadata": {},
   "outputs": [],
   "source": [
    "real_ride.generate_graph_for_bearing()"
   ]
  },
  {
   "cell_type": "code",
   "execution_count": null,
   "metadata": {},
   "outputs": [],
   "source": [
    "real_ride.generate_graph_for_orientation()"
   ]
  },
  {
   "cell_type": "code",
   "execution_count": null,
   "metadata": {},
   "outputs": [],
   "source": []
  },
  {
   "cell_type": "code",
   "execution_count": null,
   "metadata": {},
   "outputs": [],
   "source": [
    "obd_data = real_ride.obd_data\n",
    "\n",
    "vels_from_obd_df = obd_data[\"SPEED\"]\n",
    "\n",
    "# display_vel_graph(vels_from_obd_df)"
   ]
  },
  {
   "cell_type": "code",
   "execution_count": null,
   "metadata": {},
   "outputs": [],
   "source": [
    "print(real_ride.get_acc_stats())\n",
    "real_ride.gps_df\n",
    "vels_from_gps_df = real_ride.create_velocity_from_gps_df()\n",
    "# display_vel_graph(vels_from_gps_df.iloc[-150:])\n",
    "# vels_from_gps_df.plot(x=\"timestamp\", y=\"velocity\")"
   ]
  },
  {
   "cell_type": "code",
   "execution_count": null,
   "metadata": {},
   "outputs": [],
   "source": [
    "gps_timestamps = vels_from_gps_df[\"timestamp\"]\n",
    "obd_timestamps = vels_from_obd_df[\"timestamp\"]\n",
    "\n",
    "min_gps_time = gps_timestamps.min()\n",
    "max_gps_time = gps_timestamps.max()\n",
    "\n",
    "min_obd_time = obd_timestamps.min()\n",
    "max_obd_time = obd_timestamps.max()\n",
    "\n",
    "min_time_filter = max(min_gps_time, min_obd_time)\n",
    "max_time_filter = min(max_gps_time, max_obd_time)\n",
    "\n",
    "min_time_filter, max_time_filter"
   ]
  },
  {
   "cell_type": "code",
   "execution_count": null,
   "metadata": {},
   "outputs": [],
   "source": [
    "filter_gps = (vels_from_gps_df[\"timestamp\"] >= min_time_filter) & (vels_from_gps_df[\"timestamp\"] <= max_time_filter)\n",
    "filtered_vels_from_gps_df = vels_from_gps_df[filter_gps]\n",
    "\n",
    "display_vel_graph(filtered_vels_from_gps_df)\n",
    "\n",
    "filter_obd = (vels_from_obd_df[\"timestamp\"] >= min_time_filter) & (vels_from_obd_df[\"timestamp\"] <= max_time_filter)\n",
    "filtered_vels_from_obd_df = vels_from_obd_df[filter_obd]\n",
    "\n",
    "display_vel_graph(filtered_vels_from_obd_df)"
   ]
  },
  {
   "cell_type": "code",
   "execution_count": null,
   "metadata": {},
   "outputs": [],
   "source": [
    "from scipy.interpolate import CubicHermiteSpline\n",
    "\n",
    "xx = np.linspace(min_time_filter, max_time_filter, 1000)\n",
    "\n",
    "# GPS\n",
    "x_gps = filtered_vels_from_gps_df[\"timestamp\"]\n",
    "y_gps = filtered_vels_from_gps_df[\"SPEED\"]\n",
    "p_gps = CubicHermiteSpline(x=x_gps, y=y_gps, dydx=np.zeros_like(y_gps))  # interpolator   \n",
    "plt.scatter(x_gps, y_gps, s=10, c=\"blue\", marker=\"o\", linewidth=1)\n",
    "\n",
    "# plt.scatter(xx, p(xx), s=[1 for _ in range(len(xx))])\n",
    "line, = plt.plot(xx, p_gps(xx), label=\"GPS\")\n",
    "line.set_color(\"blue\")\n",
    "\n",
    "# OBD\n",
    "x_obd = filtered_vels_from_obd_df[\"timestamp\"]\n",
    "y_obd = filtered_vels_from_obd_df[\"SPEED\"]\n",
    "p_obd = CubicHermiteSpline(x=x_obd, y=y_obd, dydx=np.zeros_like(y_obd))  # interpolator   \n",
    "plt.scatter(x_obd, y_obd, s=10, c=\"green\", marker=\"o\", linewidth=1)\n",
    "\n",
    "line, = plt.plot(xx, p_obd(xx), label=\"OBD\")\n",
    "line.set_color(\"green\")\n",
    "   \n",
    "# difference\n",
    "difference_np_array = abs(p_obd(xx) - p_gps(xx))\n",
    "mean_diff = difference_np_array.mean()\n",
    "line, = plt.plot(xx, difference_np_array, label=\"Valor absoluto da diferença\")\n",
    "line.set_color(\"red\")\n",
    "\n",
    "plt.axhline(y=mean_diff, color=\"orange\", linestyle=\"dashed\", label=\"Média diferença\") \n",
    "\n",
    "plt.legend(loc='center right', bbox_to_anchor=(1.55, 0.5),\n",
    "          ncol=1, fancybox=True, shadow=True)\n",
    "plt.ylabel(\"Velocidade (km/h)\")\n",
    "plt.xlabel(\"Horário UTC\")\n",
    "plt.title(\"Comparação entre velocidade obtida pelo OBD e pelas coordenadas do GPS\")\n",
    "mean_diff"
   ]
  },
  {
   "cell_type": "code",
   "execution_count": null,
   "metadata": {},
   "outputs": [],
   "source": [
    "# obd_data = get_data_from_app()\n",
    "\n",
    "# vels_from_obd_df = app_data[\"SPEED\"]\n",
    "# display_vel_graph(vels_from_obd_df)\n",
    "\n",
    "# print(app_data[\"SPEED\"])"
   ]
  },
  {
   "cell_type": "code",
   "execution_count": null,
   "metadata": {},
   "outputs": [],
   "source": [
    "acc_from_android_df = real_ride.accelerometer_df[[\"timestamp\", \"remaining_acc_resultant\"]].copy()\n",
    "acc_from_android_df.rename(columns={\"remaining_acc_resultant\": \"acceleration\"}, inplace=True)\n",
    "\n",
    "acc_from_obd_df = generate_acc_from_vel(vels_from_obd_df)\n",
    "\n",
    "android_timestamps = acc_from_android_df[\"timestamp\"]\n",
    "obd_timestamps = acc_from_obd_df[\"timestamp\"]\n",
    "\n",
    "min_android_time = android_timestamps.min()\n",
    "max_android_time = android_timestamps.max()\n",
    "\n",
    "min_obd_time = obd_timestamps.min()\n",
    "max_obd_time = obd_timestamps.max()\n",
    "\n",
    "min_time_filter = max(min_android_time, min_obd_time)\n",
    "max_time_filter = min(max_android_time, max_obd_time)\n",
    "\n",
    "min_time_filter, max_time_filter"
   ]
  },
  {
   "cell_type": "code",
   "execution_count": null,
   "metadata": {},
   "outputs": [],
   "source": [
    "filter_android = (acc_from_android_df[\"timestamp\"] >= min_time_filter) & (acc_from_android_df[\"timestamp\"] <= max_time_filter)\n",
    "filtered_acc_from_android_df = acc_from_android_df[filter_android].drop_duplicates(subset=[\"timestamp\"])\n",
    "\n",
    "display_acc_graph(filtered_acc_from_android_df.iloc[0:20])\n",
    "\n",
    "filter_obd = (acc_from_obd_df[\"timestamp\"] >= min_time_filter) & (acc_from_obd_df[\"timestamp\"] <= max_time_filter)\n",
    "filtered_acc_from_obd_df = acc_from_obd_df[filter_obd]\n",
    "\n",
    "display_acc_graph(filtered_acc_from_obd_df.iloc[0:20])"
   ]
  },
  {
   "cell_type": "code",
   "execution_count": null,
   "metadata": {},
   "outputs": [],
   "source": [
    "jerk_from_android_df = generate_jerk_from_acc(acc_from_android_df)\n",
    "jerk_from_obd_df = generate_jerk_from_acc(acc_from_obd_df)\n",
    "\n",
    "android_timestamps = jerk_from_android_df[\"timestamp\"]\n",
    "obd_timestamps = jerk_from_obd_df[\"timestamp\"]\n",
    "\n",
    "min_android_time = android_timestamps.min()\n",
    "max_android_time = android_timestamps.max()\n",
    "\n",
    "min_obd_time = obd_timestamps.min()\n",
    "max_obd_time = obd_timestamps.max()\n",
    "\n",
    "min_time_filter = max(min_android_time, min_obd_time)\n",
    "max_time_filter = min(max_android_time, max_obd_time)\n",
    "\n",
    "min_time_filter, max_time_filter"
   ]
  },
  {
   "cell_type": "code",
   "execution_count": null,
   "metadata": {},
   "outputs": [],
   "source": [
    "filter_android = (jerk_from_android_df[\"timestamp\"] >= min_time_filter) & (jerk_from_android_df[\"timestamp\"] <= max_time_filter)\n",
    "filtered_jerk_from_android_df = jerk_from_android_df[filter_android].drop_duplicates(subset=[\"timestamp\"])\n",
    "\n",
    "display_jerk_graph(filtered_jerk_from_android_df.iloc[0:100])\n",
    "\n",
    "filter_obd = (jerk_from_obd_df[\"timestamp\"] >= min_time_filter) & (jerk_from_obd_df[\"timestamp\"] <= max_time_filter)\n",
    "filtered_jerk_from_obd_df = jerk_from_obd_df[filter_obd]\n",
    "\n",
    "display_jerk_graph(filtered_jerk_from_obd_df.iloc[0:100])"
   ]
  },
  {
   "cell_type": "code",
   "execution_count": null,
   "metadata": {},
   "outputs": [],
   "source": [
    "from scipy.interpolate import CubicHermiteSpline\n",
    "\n",
    "xx = np.linspace(min_time_filter, max_time_filter, 1000)\n",
    "\n",
    "# Android\n",
    "x_android = filtered_acc_from_android_df[\"timestamp\"]\n",
    "y_android = filtered_acc_from_android_df[\"acceleration\"]\n",
    "p_android = CubicHermiteSpline(x=x_android, y=y_android, dydx=np.zeros_like(y_android))  # interpolator   \n",
    "plt.scatter(x_android, y_android, s=10, c=\"blue\", marker=\"o\", linewidth=1)\n",
    "\n",
    "# plt.scatter(xx, p(xx), s=[1 for _ in range(len(xx))])\n",
    "line, = plt.plot(xx, p_android(xx), label=\"Android\")\n",
    "line.set_color(\"blue\")\n",
    "\n",
    "# OBD\n",
    "x_obd = filtered_acc_from_obd_df[\"timestamp\"]\n",
    "y_obd = filtered_acc_from_obd_df[\"acceleration\"]\n",
    "p_obd = CubicHermiteSpline(x=x_obd, y=y_obd, dydx=np.zeros_like(y_obd))  # interpolator   \n",
    "plt.scatter(x_obd, y_obd, s=10, c=\"green\", marker=\"o\", linewidth=1)\n",
    "\n",
    "line, = plt.plot(xx, p_obd(xx), label=\"OBD\")\n",
    "line.set_color(\"green\")\n",
    "   \n",
    "# difference\n",
    "difference_np_array = abs(p_obd(xx) - p_android(xx))\n",
    "mean_diff = difference_np_array.mean()\n",
    "line, = plt.plot(xx, difference_np_array, label=\"Valor absoluto da diferença\")\n",
    "line.set_color(\"red\")\n",
    "\n",
    "plt.axhline(y=mean_diff, color=\"orange\", linestyle=\"dashed\", label=\"Média diferença\") \n",
    "\n",
    "plt.legend(loc='center right', bbox_to_anchor=(1.55, 0.5),\n",
    "          ncol=1, fancybox=True, shadow=True)\n",
    "plt.ylabel(\"Aceleração (m/s^2)\")\n",
    "plt.xlabel(\"Horário UTC\")\n",
    "plt.title(\"Comparação entre aceleração obtida pelos acelerômetros e pelas coordenadas GPS do Android\")\n",
    "mean_diff"
   ]
  },
  {
   "cell_type": "code",
   "execution_count": null,
   "metadata": {},
   "outputs": [],
   "source": [
    "from scipy.interpolate import CubicHermiteSpline\n",
    "\n",
    "xx = np.linspace(min_time_filter, max_time_filter, 1000)\n",
    "\n",
    "# GPS\n",
    "x_gps = filtered_vels_from_gps_df[\"timestamp\"]\n",
    "y_gps = filtered_vels_from_gps_df[\"SPEED\"]\n",
    "p_gps = CubicHermiteSpline(x=x_gps, y=y_gps, dydx=np.zeros_like(y_gps))  # interpolator   \n",
    "plt.scatter(x_gps, y_gps, s=10, c=\"blue\", marker=\"o\", linewidth=1)\n",
    "\n",
    "# plt.scatter(xx, p(xx), s=[1 for _ in range(len(xx))])\n",
    "line, = plt.plot(xx, p_gps(xx), label=\"GPS\")\n",
    "line.set_color(\"blue\")\n",
    "\n",
    "# OBD\n",
    "x_obd = filtered_vels_from_obd_df[\"timestamp\"]\n",
    "y_obd = filtered_vels_from_obd_df[\"SPEED\"]\n",
    "p_obd = CubicHermiteSpline(x=x_obd, y=y_obd, dydx=np.zeros_like(y_obd))  # interpolator   \n",
    "plt.scatter(x_obd, y_obd, s=10, c=\"green\", marker=\"o\", linewidth=1)\n",
    "\n",
    "line, = plt.plot(xx, p_obd(xx), label=\"OBD\")\n",
    "line.set_color(\"green\")\n",
    "   \n",
    "# difference\n",
    "difference_np_array = abs(p_obd(xx) - p_gps(xx))\n",
    "mean_diff = difference_np_array.mean()\n",
    "line, = plt.plot(xx, difference_np_array, label=\"Valor absoluto da diferença\")\n",
    "line.set_color(\"red\")\n",
    "\n",
    "plt.axhline(y=mean_diff, color=\"orange\", linestyle=\"dashed\", label=\"Média diferença\") \n",
    "\n",
    "plt.legend(loc='center right', bbox_to_anchor=(1.55, 0.5),\n",
    "          ncol=1, fancybox=True, shadow=True)\n",
    "plt.ylabel(\"Velocidade (km/h)\")\n",
    "plt.xlabel(\"Horário UTC\")\n",
    "plt.title(\"Comparação entre velocidade obtida pelo OBD e pelas coordenadas do GPS\")\n",
    "mean_diff"
   ]
  },
  {
   "cell_type": "code",
   "execution_count": null,
   "metadata": {},
   "outputs": [],
   "source": [
    "start_lat_long = lat_longs[0]\n",
    "end_lat_long = lat_longs[-1]\n",
    "\n",
    "mean_lat = latitudes.mean()\n",
    "mean_long = longitudes.mean()\n",
    "\n",
    "start_lat_long, end_lat_long, qtty_data"
   ]
  },
  {
   "cell_type": "code",
   "execution_count": null,
   "metadata": {},
   "outputs": [],
   "source": [
    "map = folium.Map(location=[mean_lat, mean_long], zoom_start=14, control_scale=True)\n",
    "\n",
    "folium.Marker(start_lat_long, popup=\"start\").add_to(map)\n",
    "folium.Marker(end_lat_long, popup=\"end\").add_to(map)"
   ]
  },
  {
   "cell_type": "code",
   "execution_count": null,
   "metadata": {},
   "outputs": [],
   "source": [
    "for i in range(qtty_data - 1):\n",
    "\tlocation_1 = lat_longs[i]\n",
    "\tlocation_2 = lat_longs[i + 1]\n",
    "\n",
    "\tfolium.PolyLine([location_1, location_2],\n",
    "\t\t\t\t\tcolor='red',\n",
    "\t\t\t\t\tweight=5,\n",
    "\t\t\t\t\topacity=0.4).add_to(map)\n",
    "\n",
    "real_ride.create_route_map()"
   ]
  },
  {
   "cell_type": "code",
   "execution_count": null,
   "metadata": {},
   "outputs": [],
   "source": [
    "accelerometer_df = real_ride.accelerometer_df\n",
    "last_timestamp = accelerometer_df.timestamp.iloc[-1] # .timestamp()\n",
    "delta_time_size = 100 \t# 100 s\n",
    "frame_granularity = 10 \t# 50 s\n",
    "qtty_frames = (last_timestamp - delta_time_size) // frame_granularity\n",
    "\n",
    "filtered_accelerations_df = accelerometer_df\n",
    "\n",
    "print(\"last_timestamp\", last_timestamp)\n",
    "print(\"qtty_frames\", qtty_frames)\n",
    "print(\"last_timestamp\", last_timestamp)\n",
    "\n",
    "qtty_frames = min(qtty_frames, 100)\n",
    "\n",
    "# generate_3_axis_acc_graph(accelerometer_df, frame_granularity, delta_time_size, 0)\n",
    "\n",
    "for i in range(10): #qtty_frames):\n",
    "    real_ride.generate_3_axis_acc_graph(frame_granularity, delta_time_size, i)\n"
   ]
  },
  {
   "cell_type": "code",
   "execution_count": null,
   "metadata": {},
   "outputs": [],
   "source": [
    "# vels_from_gps_no_outliers_df = get_df_without_outliers(filtered_vels_from_gps_df, \"SPEED\", \"Velocidade\")\n",
    "# vels_from_obd_no_outliersdf = get_df_without_outliers(filtered_vels_from_obd_df, \"SPEED\", \"Velocidade\")\n",
    "\n",
    "acc_from_android_no_outliers_df = get_df_without_outliers(filtered_acc_from_android_df, \"acceleration\", \"Aceleração\")\n",
    "acc_from_obd_no_outliers_df = get_df_without_outliers(filtered_acc_from_obd_df, \"acceleration\", \"Aceleração\")\n",
    "\n",
    "jerk_from_android_no_outliers_df = get_df_without_outliers(filtered_jerk_from_android_df, \"jerk\", \"Arrancada\")\n",
    "jerk_from_obd_no_outliers_df = get_df_without_outliers(filtered_jerk_from_obd_df, \"jerk\", \"Arrancada\")"
   ]
  },
  {
   "cell_type": "code",
   "execution_count": null,
   "metadata": {},
   "outputs": [],
   "source": [
    "# display_vel_graph(vels_from_gps_no_outliers_df)\n",
    "# display_vel_graph(vels_from_obd_no_outliers_df)\n",
    "\n",
    "display_acc_graph(acc_from_android_no_outliers_df)\n",
    "display_acc_graph(acc_from_obd_no_outliers_df)\n",
    "\n",
    "display_jerk_graph(jerk_from_android_no_outliers_df)\n",
    "display_jerk_graph(jerk_from_obd_no_outliers_df)"
   ]
  },
  {
   "cell_type": "code",
   "execution_count": null,
   "metadata": {},
   "outputs": [],
   "source": [
    "# real_ride.calculate_acc_stats_near_stop()"
   ]
  },
  {
   "cell_type": "code",
   "execution_count": null,
   "metadata": {},
   "outputs": [],
   "source": []
  },
  {
   "attachments": {},
   "cell_type": "markdown",
   "metadata": {},
   "source": [
    "Objetivos:\n",
    "- [x] Gerar mapa com a rota feita por cada um dos motoristas\n",
    "- [] Sincronizar vídeo com eventos de aceleração"
   ]
  },
  {
   "cell_type": "code",
   "execution_count": null,
   "metadata": {},
   "outputs": [],
   "source": [
    "# ride_root_dir = os.path.join(\"UAH-DRIVESET-v1\", \"D1\", \"20151110175712-16km-D1-NORMAL1-SECONDARY\")\n",
    "ride_root_dir = os.path.join(\"UAH-DRIVESET-v1\", \"D1\", \"20151111125233-24km-D1-AGGRESSIVE-MOTORWAY\")\n",
    "\n",
    "ride = UAHRideParser(ride_root_dir)\n",
    "\n",
    "# col_names = [str(i) for i in range(13)]\n",
    "# col_names = [\"timestamp\", \"speed\", \"lat\", \"long\", \"altitude\", \"vert accuracy\", \"horiz accuracy\", \"course\", \"difcourse\", \"?1\", \"?2\", \"?3\", \"?4\"]\n",
    "# pd.read_csv(gps_file_path, sep=\" \", names=col_names)\n",
    "\n",
    "ride.gps_df\n",
    "ride.accelerometer_df"
   ]
  },
  {
   "cell_type": "code",
   "execution_count": null,
   "metadata": {},
   "outputs": [],
   "source": [
    "accelerometer_df = ride.accelerometer_df\n",
    "oldest_timestamp = int(accelerometer_df.timestamp.iloc[-1])\n",
    "delta_time_size = 20\n",
    "frame_granularity = 1\n",
    "qtty_frames = (oldest_timestamp - delta_time_size) // frame_granularity\n",
    "\n",
    "print(\"qtty_frames\", qtty_frames)\n",
    "print(\"oldest_timestamp\", oldest_timestamp)\n",
    "\n",
    "for i in range(10): #qtty_frames):\n",
    "    with ProcessPoolExecutor(max_workers=10) as executor:\n",
    "        future = executor.submit(ride.foo, accelerometer_df, frame_granularity, delta_time_size, i)\n",
    "\n",
    "    # print(future.result())\n",
    "\n",
    "# plt.show()\n",
    "# RuntimeWarning: More than 20 figures have been opened. Figures created through the pyplot interface (`matplotlib.pyplot.figure`) are retained until explicitly closed and may consume too much memory. (To control this warning, see the rcParam `figure.max_open_warning`). Consider using `matplotlib.pyplot.close()`."
   ]
  },
  {
   "cell_type": "code",
   "execution_count": null,
   "metadata": {},
   "outputs": [],
   "source": [
    "# fig, axs = plt.subplots(ncols=1, nrows=4)\n",
    "\n",
    "# accelerometer_df = ride.accelerometer_df\n",
    "# accelerometer_df = accelerometer_df[accelerometer_df.timestamp < 20]\n",
    "# filtered_acc_x = accelerometer_df[\"filtered_acc_x\"]\n",
    "# filtered_acc_y = accelerometer_df[\"filtered_acc_y\"]\n",
    "# filtered_acc_z = accelerometer_df[\"filtered_acc_z\"]\n",
    "# acc_resultant = accelerometer_df[\"acc_resultant\"]\n",
    "# timestamp = accelerometer_df[\"timestamp\"]\n",
    "\n",
    "# # axs[0].scatter(timestamp, filtered_acc_x, s=0.1)\n",
    "# axs[0].plot(timestamp, filtered_acc_x) #, \"-o\")\n",
    "# axs[0].set_title(\"filtered_acc_x\")\n",
    "\n",
    "# axs[1].plot(timestamp, filtered_acc_y)\n",
    "# axs[1].set_title(\"filtered_acc_y\")\n",
    "\n",
    "# axs[2].plot(timestamp, filtered_acc_z)\n",
    "# axs[2].set_title(\"filtered_acc_z\")\n",
    "\n",
    "# axs[3].plot(timestamp, acc_resultant)\n",
    "# axs[3].set_title(\"acc_resultant\")\n",
    "\n",
    "# fig.tight_layout()\n",
    "\n",
    "# plt.show()"
   ]
  },
  {
   "cell_type": "code",
   "execution_count": null,
   "metadata": {},
   "outputs": [],
   "source": [
    "# import numpy as np\n",
    "# from scipy.spatial.distance import euclidean\n",
    "\n",
    "# from fastdtw import fastdtw\n",
    "\n",
    "# # x = np.array([[1,1], [2,2], [3,3], [4,4], [5,5]])\n",
    "# # y = np.array([[2,2], [3,3], [4,4]])\n",
    "\n",
    "# x = [tuple(el) for _, el in vels_from_obd_df.iterrows()][-107:]\n",
    "# y = [tuple(el) for _, el in vels_from_gps_df.iterrows()][-107:]\n",
    "\n",
    "# distance, path = fastdtw(x, y, dist=euclidean)\n",
    "# print(distance, path)"
   ]
  },
  {
   "cell_type": "code",
   "execution_count": null,
   "metadata": {},
   "outputs": [],
   "source": [
    "# def display_vel_graph(vel_df):\n",
    "#     #  https://stackoverflow.com/questions/75566545/problem-with-matplotlib-date-formatting-and-conversion-from-epoch-time-overlowe\n",
    "# \tplt.rcParams['date.converter'] = 'concise'\n",
    "\n",
    "# \tfig, axs = plt.subplots(1, 1, figsize=(6.4, 3), layout='constrained')\n",
    "#     # common to all three:\n",
    "#     # for ax in axs:\n",
    "# \t# ax[1].plot(time.astype('datetime64[s]'), y)\n",
    "\n",
    "# \t# ax.plot('date', 'adj_close', data=data)\n",
    "# \tplt.plot(\"timestamp\", \"SPEED\", data=vel_df)\n",
    "# \t# Major ticks every half year, minor ticks every second,\n",
    "# \t# axs.xaxis.set_major_locator(mdates.MinuteLocator(byminute=range(60)))\n",
    "# \t# axs.xaxis.set_minor_locator(mdates.MinuteLocator())\n",
    "# \taxs.grid(True)\n",
    "# \taxs.set_ylabel(\"Velocidade (km/h)\")\n",
    "# \taxs.set_xlabel(\"Horário UTC\")\n",
    "\n",
    "# \t# ax = axs[0]\n",
    "# \tfirst_timestamp = vel_df.iloc[0][\"timestamp\"]\n",
    "# \trecord_day_month_year_string = datetime.utcfromtimestamp(first_timestamp).strftime(\"%d/%m/%Y\")\n",
    "# \taxs.set_title(\"Captura \" + record_day_month_year_string)\n",
    "\n",
    "# \t# axs.xaxis.set_major_formatter(mdates.DateFormatter('%H:%M'))\n",
    "# \t# # Rotates and right-aligns the x labels so they don't crowd each other.\n",
    "# \t# for label in axs.get_xticklabels(which='major'):\n",
    "# \t# \tlabel.set(rotation=30, horizontalalignment='right')\n",
    "\n",
    "# \tplt.show()"
   ]
  },
  {
   "cell_type": "code",
   "execution_count": null,
   "metadata": {},
   "outputs": [],
   "source": [
    "imgs = ride.generate_acc_sub_graph()\n",
    "\n",
    "# im = Image.open(next(imgs))\n",
    "# im.show(title=\"My Image\")"
   ]
  },
  {
   "cell_type": "code",
   "execution_count": null,
   "metadata": {},
   "outputs": [],
   "source": [
    "# import matplotlib.pyplot as plt\n",
    "# import matplotlib.cm as cm\n",
    "# import matplotlib.animation as animation\n",
    "\n",
    "# import numpy\n",
    "# from PIL import Image\n",
    "\n",
    "# n = 20\n",
    "\n",
    "# img = [] # some array of images\n",
    "# for i in range(n):\n",
    "# \timarray = numpy.random.rand(100,100,3) * 255\n",
    "# \tim = Image.fromarray(imarray.astype('uint8')).convert('RGBA')\n",
    "# \timg.append(im)\n",
    "\n",
    "# frames = [] # for storing the generated images\n",
    "# fig = plt.figure()\n",
    "# for i in range(n):\n",
    "# \tframes.append([plt.imshow(img[i], cmap=cm.Greys_r,animated=True)])\n",
    "\n",
    "# ani = animation.ArtistAnimation(fig, frames, blit=True)\n",
    "\n",
    "# writergif = animation.PillowWriter(fps=1)\n",
    "# ani.save('movie.gif', writer=writergif)\n",
    "# plt.show()"
   ]
  },
  {
   "cell_type": "code",
   "execution_count": null,
   "metadata": {},
   "outputs": [],
   "source": [
    "import io\n",
    "from PIL import Image\n",
    "import matplotlib.pyplot as plt\n",
    "\n",
    "plt.rcParams[\"figure.figsize\"] = [7.50, 3.50]\n",
    "plt.rcParams[\"figure.autolayout\"] = True\n",
    "\n",
    "plt.figure()\n",
    "plt.plot([1, 2])\n",
    "\n",
    "img_buf = io.BytesIO()\n",
    "plt.savefig(img_buf, format='png')\n",
    "\n",
    "im = Image.open(img_buf)\n",
    "im.show(title=\"My Image\")\n",
    "\n",
    "img_buf.close()"
   ]
  },
  {
   "cell_type": "code",
   "execution_count": null,
   "metadata": {},
   "outputs": [],
   "source": [
    "import matplotlib.pyplot as plt\n",
    "from io import BytesIO\n",
    "from PIL import Image\n",
    "\n",
    "# Example image data in BytesIO object\n",
    "# image_data = b'\\x89PNG\\r\\n\\x1a\\n\\x00\\x00\\x00\\rIHDR\\x00\\x00\\x00\\x02\\x00\\x00\\x00\\x02\\x08\\x06\\x00\\x00\\x00\\x1f\\xf3\\x0e\\x82\\x00\\x00\\x00\\x0bIDATx\\x9c\\xed\\xc1\\x01\\r\\x00\\x00\\x00\\xc2\\x00\\x01\\x10\\x00\\x00\\x00\\x00IEND\\xaeB`\\x82'\n",
    "\n",
    "# Create BytesIO object\n",
    "image_stream = BytesIO(image_data)\n",
    "\n",
    "# Open image using PIL\n",
    "image = Image.open(image_stream)\n",
    "\n",
    "# Create a subplot\n",
    "fig, ax = plt.subplots()\n",
    "\n",
    "# Display the image on the subplot\n",
    "ax.imshow(image)\n",
    "\n",
    "# Show the plot\n",
    "plt.show()\n"
   ]
  },
  {
   "cell_type": "code",
   "execution_count": null,
   "metadata": {},
   "outputs": [],
   "source": [
    "import folium\n",
    "# import mplleaflet\n",
    "import matplotlib.pyplot as plt\n",
    "from io import BytesIO\n",
    "from PIL import Image\n",
    "\n",
    "# Criar um mapa Folium\n",
    "map_center = [-23.5505, -46.6333]  # Exemplo de coordenadas para São Paulo, Brasil\n",
    "folium_map = folium.Map(location=map_center, zoom_start=12)\n",
    "\n",
    "# Adicionar alguns marcadores ou outros elementos ao mapa Folium, se necessário\n",
    "folium.Marker(location=[-23.5505, -46.6333], popup='São Paulo').add_to(folium_map)\n",
    "\n",
    "# Converter o mapa Folium diretamente em um gráfico Matplotlib\n",
    "fig, ax = plt.subplots()\n",
    "# mplleaflet.display(fig=fig, crs=folium_map.crs, tiles='cartodb_positron', close_fig=False)\n",
    "\n",
    "# Salvar o gráfico em um BytesIO object\n",
    "image_data = folium_map._to_png(5)\n",
    "image_stream = BytesIO(image_data)\n",
    "# fig.savefig(image_stream, format='png')\n",
    "image_stream.seek(0)  # Resetar a posição do stream para o início\n",
    "\n",
    "# Abrir a imagem usando PIL\n",
    "image = Image.open(image_stream)\n",
    "\n",
    "# Criar um subplot\n",
    "fig, ax = plt.subplots()\n",
    "\n",
    "# Exibir a imagem no subplot\n",
    "ax.imshow(image)\n",
    "\n",
    "# Mostrar o gráfico\n",
    "plt.show()\n"
   ]
  },
  {
   "cell_type": "code",
   "execution_count": null,
   "metadata": {},
   "outputs": [],
   "source": [
    "import folium\n",
    "from io import BytesIO\n",
    "\n",
    "# Criar um mapa Folium\n",
    "map_center = [-23.5505, -46.6333]  # Exemplo de coordenadas para São Paulo, Brasil\n",
    "folium_map = folium.Map(location=map_center, zoom_start=12)\n",
    "\n",
    "# Obter o conteúdo HTML do mapa\n",
    "html_content = folium_map.get_root().render()\n",
    "\n",
    "# Salvar o conteúdo HTML em BytesIO\n",
    "bytes_io = BytesIO(html_content.encode())\n",
    "\n",
    "# Resetar a posição do stream para o início\n",
    "bytes_io.seek(0)\n",
    "\n",
    "# Exemplo de uso do BytesIO\n",
    "print(bytes_io.read().decode())\n"
   ]
  },
  {
   "cell_type": "code",
   "execution_count": null,
   "metadata": {},
   "outputs": [],
   "source": [
    "import folium\n",
    "from io import BytesIO\n",
    "from PIL import Image\n",
    "\n",
    "# Criar um mapa Folium\n",
    "map_center = [-23.5505, -46.6333]  # Exemplo de coordenadas para São Paulo, Brasil\n",
    "folium_map = folium.Map(location=map_center, zoom_start=12)\n",
    "\n",
    "# Salvar o mapa como uma imagem localmente (por padrão, é salvo como 'map.html')\n",
    "# map_path = 'map.png'\n",
    "# folium_map.save(map_path)\n",
    "img_data = folium_map._to_png(5)\n",
    "img = Image.open(io.BytesIO(img_data))\n",
    "\n",
    "# Ler a imagem em um objeto BytesIO\n",
    "# with open(map_path, 'rb') as file:\n",
    "#     bytes_io = BytesIO(file.read())\n",
    "\n",
    "# Resetar a posição do stream para o início\n",
    "bytes_io.seek(0)\n",
    "\n",
    "# Exemplo de uso do BytesIO (opcional)\n",
    "print(bytes_io.read())  # Você pode remover esta linha se não precisar usar o conteúdo do BytesIO\n"
   ]
  }
 ],
 "metadata": {
  "kernelspec": {
   "display_name": ".venv_aws",
   "language": "python",
   "name": "python3"
  },
  "language_info": {
   "codemirror_mode": {
    "name": "ipython",
    "version": 3
   },
   "file_extension": ".py",
   "mimetype": "text/x-python",
   "name": "python",
   "nbconvert_exporter": "python",
   "pygments_lexer": "ipython3",
   "version": "3.12.0"
  },
  "orig_nbformat": 4
 },
 "nbformat": 4,
 "nbformat_minor": 2
}
