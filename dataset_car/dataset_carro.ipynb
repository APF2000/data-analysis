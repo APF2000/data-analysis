{
 "cells": [
  {
   "cell_type": "code",
   "execution_count": 1,
   "metadata": {},
   "outputs": [],
   "source": [
    "# http://www.robesafe.uah.es/personal/eduardo.romera/uah-driveset/\n",
    "\n",
    "# http://www.robesafe.uah.es/personal/eduardo.romera/pdfs/Romera16itsc.pdf\n",
    "# pdf contains description of data (what each column means)\n",
    "\n",
    "\n",
    "import numpy as np\n",
    "import pandas as pd\n",
    "import matplotlib.pyplot as plt\n",
    "\n",
    "from concurrent.futures import ThreadPoolExecutor, ProcessPoolExecutor\n",
    "\n",
    "import os\n",
    "\n",
    "\n",
    "\n",
    "import folium\n",
    "from geopy.distance import distance\n",
    "from datetime import datetime\n",
    "\n",
    "from ride_parser import UAHRideParser, RealRideParser\n",
    "from app_data_parser import get_data_from_app, generate_acc_from_vel\n",
    "from PIL import Image\n",
    "\n",
    "import matplotlib.dates as mdates"
   ]
  },
  {
   "cell_type": "code",
   "execution_count": 2,
   "metadata": {},
   "outputs": [],
   "source": [
    "def display_velocity_graph(vel_df):\n",
    "    #  https://stackoverflow.com/questions/75566545/problem-with-matplotlib-date-formatting-and-conversion-from-epoch-time-overlowe\n",
    "\tplt.rcParams['date.converter'] = 'concise'\n",
    "\n",
    "\tfig, axs = plt.subplots(1, 1, figsize=(6.4, 3), layout='constrained')\n",
    "    # common to all three:\n",
    "    # for ax in axs:\n",
    "\t# ax[1].plot(time.astype('datetime64[s]'), y)\n",
    "\n",
    "\t# ax.plot('date', 'adj_close', data=data)\n",
    "\tplt.plot(\"timestamp\", \"SPEED\", data=vel_df)\n",
    "\t# Major ticks every half year, minor ticks every second,\n",
    "\t# axs.xaxis.set_major_locator(mdates.MinuteLocator(byminute=range(60)))\n",
    "\t# axs.xaxis.set_minor_locator(mdates.MinuteLocator())\n",
    "\taxs.grid(True)\n",
    "\taxs.set_ylabel(\"Velocidade\")\n",
    "\taxs.set_xlabel(\"Horário UTC\")\n",
    "\n",
    "\t# ax = axs[0]\n",
    "\tfirst_timestamp = vel_df.iloc[0][\"timestamp\"]\n",
    "\trecord_day_month_year_string = datetime.utcfromtimestamp(first_timestamp).strftime(\"%d/%m/%Y\")\n",
    "\taxs.set_title(\"Captura \" + record_day_month_year_string)\n",
    "\n",
    "\taxs.xaxis.set_major_formatter(mdates.DateFormatter('%H:%M'))\n",
    "\t# Rotates and right-aligns the x labels so they don't crowd each other.\n",
    "\tfor label in axs.get_xticklabels(which='major'):\n",
    "\t\tlabel.set(rotation=30, horizontalalignment='right')\n",
    "\n",
    "\tplt.show()"
   ]
  },
  {
   "cell_type": "code",
   "execution_count": 3,
   "metadata": {},
   "outputs": [
    {
     "data": {
      "text/html": [
       "<div>\n",
       "<style scoped>\n",
       "    .dataframe tbody tr th:only-of-type {\n",
       "        vertical-align: middle;\n",
       "    }\n",
       "\n",
       "    .dataframe tbody tr th {\n",
       "        vertical-align: top;\n",
       "    }\n",
       "\n",
       "    .dataframe thead th {\n",
       "        text-align: right;\n",
       "    }\n",
       "</style>\n",
       "<table border=\"1\" class=\"dataframe\">\n",
       "  <thead>\n",
       "    <tr style=\"text-align: right;\">\n",
       "      <th></th>\n",
       "      <th>timestamp</th>\n",
       "      <th>acc_x</th>\n",
       "      <th>acc_y</th>\n",
       "      <th>acc_z</th>\n",
       "      <th>filtered_acc_x</th>\n",
       "      <th>filtered_acc_y</th>\n",
       "      <th>filtered_acc_z</th>\n",
       "      <th>acc_resultant</th>\n",
       "    </tr>\n",
       "  </thead>\n",
       "  <tbody>\n",
       "    <tr>\n",
       "      <th>0</th>\n",
       "      <td>1.699029e+09</td>\n",
       "      <td>0.36</td>\n",
       "      <td>6.04</td>\n",
       "      <td>7.54</td>\n",
       "      <td>0.36</td>\n",
       "      <td>6.04</td>\n",
       "      <td>7.54</td>\n",
       "      <td>9.667616</td>\n",
       "    </tr>\n",
       "    <tr>\n",
       "      <th>1</th>\n",
       "      <td>1.699029e+09</td>\n",
       "      <td>0.34</td>\n",
       "      <td>5.97</td>\n",
       "      <td>7.65</td>\n",
       "      <td>0.34</td>\n",
       "      <td>5.97</td>\n",
       "      <td>7.65</td>\n",
       "      <td>9.709737</td>\n",
       "    </tr>\n",
       "    <tr>\n",
       "      <th>2</th>\n",
       "      <td>1.699029e+09</td>\n",
       "      <td>0.38</td>\n",
       "      <td>6.14</td>\n",
       "      <td>7.58</td>\n",
       "      <td>0.38</td>\n",
       "      <td>6.14</td>\n",
       "      <td>7.58</td>\n",
       "      <td>9.762192</td>\n",
       "    </tr>\n",
       "  </tbody>\n",
       "</table>\n",
       "</div>"
      ],
      "text/plain": [
       "      timestamp  acc_x  acc_y  acc_z  filtered_acc_x  filtered_acc_y  \\\n",
       "0  1.699029e+09   0.36   6.04   7.54            0.36            6.04   \n",
       "1  1.699029e+09   0.34   5.97   7.65            0.34            5.97   \n",
       "2  1.699029e+09   0.38   6.14   7.58            0.38            6.14   \n",
       "\n",
       "   filtered_acc_z  acc_resultant  \n",
       "0            7.54       9.667616  \n",
       "1            7.65       9.709737  \n",
       "2            7.58       9.762192  "
      ]
     },
     "execution_count": 3,
     "metadata": {},
     "output_type": "execute_result"
    }
   ],
   "source": [
    "ride_root_dir = os.path.join(\"RealData\")\n",
    "\n",
    "real_ride = RealRideParser(ride_root_dir)\n",
    "\n",
    "latitudes = real_ride.gps_df[\"lat\"]\n",
    "longitudes = real_ride.gps_df[\"long\"]\n",
    "\n",
    "qtty_data = len(latitudes)\n",
    "\n",
    "lat_longs = [(latitudes.iloc[i], longitudes.iloc[i]) for i in range(qtty_data)]\n",
    "\n",
    "real_ride.accelerometer_df.head(3)"
   ]
  },
  {
   "cell_type": "code",
   "execution_count": 4,
   "metadata": {},
   "outputs": [
    {
     "name": "stderr",
     "output_type": "stream",
     "text": [
      "C:\\Users\\Tutubarao\\AppData\\Local\\Temp\\ipykernel_16680\\1948564346.py:21: DeprecationWarning: datetime.datetime.utcfromtimestamp() is deprecated and scheduled for removal in a future version. Use timezone-aware objects to represent datetimes in UTC: datetime.datetime.fromtimestamp(timestamp, datetime.UTC).\n",
      "  record_day_month_year_string = datetime.utcfromtimestamp(first_timestamp).strftime(\"%d/%m/%Y\")\n"
     ]
    },
    {
     "ename": "OverflowError",
     "evalue": "int too big to convert",
     "output_type": "error",
     "traceback": [
      "\u001b[1;31m---------------------------------------------------------------------------\u001b[0m",
      "\u001b[1;31mOverflowError\u001b[0m                             Traceback (most recent call last)",
      "\u001b[1;32mc:\\Users\\Tutubarao\\Downloads\\TCC\\data-analysis\\dataset_car\\dataset_carro.ipynb Cell 4\u001b[0m line \u001b[0;36m5\n\u001b[0;32m      <a href='vscode-notebook-cell:/c%3A/Users/Tutubarao/Downloads/TCC/data-analysis/dataset_car/dataset_carro.ipynb#X11sZmlsZQ%3D%3D?line=0'>1</a>\u001b[0m app_data \u001b[39m=\u001b[39m get_data_from_app()\n\u001b[0;32m      <a href='vscode-notebook-cell:/c%3A/Users/Tutubarao/Downloads/TCC/data-analysis/dataset_car/dataset_carro.ipynb#X11sZmlsZQ%3D%3D?line=2'>3</a>\u001b[0m velocities \u001b[39m=\u001b[39m app_data[\u001b[39m\"\u001b[39m\u001b[39mSPEED\u001b[39m\u001b[39m\"\u001b[39m]\n\u001b[1;32m----> <a href='vscode-notebook-cell:/c%3A/Users/Tutubarao/Downloads/TCC/data-analysis/dataset_car/dataset_carro.ipynb#X11sZmlsZQ%3D%3D?line=4'>5</a>\u001b[0m display_velocity_graph(velocities)\n",
      "\u001b[1;32mc:\\Users\\Tutubarao\\Downloads\\TCC\\data-analysis\\dataset_car\\dataset_carro.ipynb Cell 4\u001b[0m line \u001b[0;36m2\n\u001b[0;32m     <a href='vscode-notebook-cell:/c%3A/Users/Tutubarao/Downloads/TCC/data-analysis/dataset_car/dataset_carro.ipynb#X11sZmlsZQ%3D%3D?line=23'>24</a>\u001b[0m axs\u001b[39m.\u001b[39mxaxis\u001b[39m.\u001b[39mset_major_formatter(mdates\u001b[39m.\u001b[39mDateFormatter(\u001b[39m'\u001b[39m\u001b[39m%\u001b[39m\u001b[39mH:\u001b[39m\u001b[39m%\u001b[39m\u001b[39mM\u001b[39m\u001b[39m'\u001b[39m))\n\u001b[0;32m     <a href='vscode-notebook-cell:/c%3A/Users/Tutubarao/Downloads/TCC/data-analysis/dataset_car/dataset_carro.ipynb#X11sZmlsZQ%3D%3D?line=24'>25</a>\u001b[0m \u001b[39m# Rotates and right-aligns the x labels so they don't crowd each other.\u001b[39;00m\n\u001b[1;32m---> <a href='vscode-notebook-cell:/c%3A/Users/Tutubarao/Downloads/TCC/data-analysis/dataset_car/dataset_carro.ipynb#X11sZmlsZQ%3D%3D?line=25'>26</a>\u001b[0m \u001b[39mfor\u001b[39;00m label \u001b[39min\u001b[39;00m axs\u001b[39m.\u001b[39;49mget_xticklabels(which\u001b[39m=\u001b[39;49m\u001b[39m'\u001b[39;49m\u001b[39mmajor\u001b[39;49m\u001b[39m'\u001b[39;49m):\n\u001b[0;32m     <a href='vscode-notebook-cell:/c%3A/Users/Tutubarao/Downloads/TCC/data-analysis/dataset_car/dataset_carro.ipynb#X11sZmlsZQ%3D%3D?line=26'>27</a>\u001b[0m \tlabel\u001b[39m.\u001b[39mset(rotation\u001b[39m=\u001b[39m\u001b[39m30\u001b[39m, horizontalalignment\u001b[39m=\u001b[39m\u001b[39m'\u001b[39m\u001b[39mright\u001b[39m\u001b[39m'\u001b[39m)\n\u001b[0;32m     <a href='vscode-notebook-cell:/c%3A/Users/Tutubarao/Downloads/TCC/data-analysis/dataset_car/dataset_carro.ipynb#X11sZmlsZQ%3D%3D?line=28'>29</a>\u001b[0m plt\u001b[39m.\u001b[39mshow()\n",
      "File \u001b[1;32mc:\\Users\\Tutubarao\\Downloads\\TCC\\data-analysis\\.venv\\Lib\\site-packages\\matplotlib\\axes\\_base.py:73\u001b[0m, in \u001b[0;36m_axis_method_wrapper.__set_name__.<locals>.wrapper\u001b[1;34m(self, *args, **kwargs)\u001b[0m\n\u001b[0;32m     72\u001b[0m \u001b[39mdef\u001b[39;00m \u001b[39mwrapper\u001b[39m(\u001b[39mself\u001b[39m, \u001b[39m*\u001b[39margs, \u001b[39m*\u001b[39m\u001b[39m*\u001b[39mkwargs):\n\u001b[1;32m---> 73\u001b[0m     \u001b[39mreturn\u001b[39;00m get_method(\u001b[39mself\u001b[39;49m)(\u001b[39m*\u001b[39;49margs, \u001b[39m*\u001b[39;49m\u001b[39m*\u001b[39;49mkwargs)\n",
      "File \u001b[1;32mc:\\Users\\Tutubarao\\Downloads\\TCC\\data-analysis\\.venv\\Lib\\site-packages\\matplotlib\\axis.py:1460\u001b[0m, in \u001b[0;36mAxis.get_ticklabels\u001b[1;34m(self, minor, which)\u001b[0m\n\u001b[0;32m   1458\u001b[0m     \u001b[39mreturn\u001b[39;00m \u001b[39mself\u001b[39m\u001b[39m.\u001b[39mget_minorticklabels()\n\u001b[0;32m   1459\u001b[0m \u001b[39melif\u001b[39;00m which \u001b[39m==\u001b[39m \u001b[39m'\u001b[39m\u001b[39mmajor\u001b[39m\u001b[39m'\u001b[39m:\n\u001b[1;32m-> 1460\u001b[0m     \u001b[39mreturn\u001b[39;00m \u001b[39mself\u001b[39;49m\u001b[39m.\u001b[39;49mget_majorticklabels()\n\u001b[0;32m   1461\u001b[0m \u001b[39melif\u001b[39;00m which \u001b[39m==\u001b[39m \u001b[39m'\u001b[39m\u001b[39mboth\u001b[39m\u001b[39m'\u001b[39m:\n\u001b[0;32m   1462\u001b[0m     \u001b[39mreturn\u001b[39;00m \u001b[39mself\u001b[39m\u001b[39m.\u001b[39mget_majorticklabels() \u001b[39m+\u001b[39m \u001b[39mself\u001b[39m\u001b[39m.\u001b[39mget_minorticklabels()\n",
      "File \u001b[1;32mc:\\Users\\Tutubarao\\Downloads\\TCC\\data-analysis\\.venv\\Lib\\site-packages\\matplotlib\\axis.py:1424\u001b[0m, in \u001b[0;36mAxis.get_majorticklabels\u001b[1;34m(self)\u001b[0m\n\u001b[0;32m   1422\u001b[0m \u001b[39mdef\u001b[39;00m \u001b[39mget_majorticklabels\u001b[39m(\u001b[39mself\u001b[39m):\n\u001b[0;32m   1423\u001b[0m \u001b[39m    \u001b[39m\u001b[39m\"\"\"Return this Axis' major tick labels, as a list of `~.text.Text`.\"\"\"\u001b[39;00m\n\u001b[1;32m-> 1424\u001b[0m     \u001b[39mself\u001b[39;49m\u001b[39m.\u001b[39;49m_update_ticks()\n\u001b[0;32m   1425\u001b[0m     ticks \u001b[39m=\u001b[39m \u001b[39mself\u001b[39m\u001b[39m.\u001b[39mget_major_ticks()\n\u001b[0;32m   1426\u001b[0m     labels1 \u001b[39m=\u001b[39m [tick\u001b[39m.\u001b[39mlabel1 \u001b[39mfor\u001b[39;00m tick \u001b[39min\u001b[39;00m ticks \u001b[39mif\u001b[39;00m tick\u001b[39m.\u001b[39mlabel1\u001b[39m.\u001b[39mget_visible()]\n",
      "File \u001b[1;32mc:\\Users\\Tutubarao\\Downloads\\TCC\\data-analysis\\.venv\\Lib\\site-packages\\matplotlib\\axis.py:1275\u001b[0m, in \u001b[0;36mAxis._update_ticks\u001b[1;34m(self)\u001b[0m\n\u001b[0;32m   1270\u001b[0m \u001b[39mdef\u001b[39;00m \u001b[39m_update_ticks\u001b[39m(\u001b[39mself\u001b[39m):\n\u001b[0;32m   1271\u001b[0m \u001b[39m    \u001b[39m\u001b[39m\"\"\"\u001b[39;00m\n\u001b[0;32m   1272\u001b[0m \u001b[39m    Update ticks (position and labels) using the current data interval of\u001b[39;00m\n\u001b[0;32m   1273\u001b[0m \u001b[39m    the axes.  Return the list of ticks that will be drawn.\u001b[39;00m\n\u001b[0;32m   1274\u001b[0m \u001b[39m    \"\"\"\u001b[39;00m\n\u001b[1;32m-> 1275\u001b[0m     major_locs \u001b[39m=\u001b[39m \u001b[39mself\u001b[39;49m\u001b[39m.\u001b[39;49mget_majorticklocs()\n\u001b[0;32m   1276\u001b[0m     major_labels \u001b[39m=\u001b[39m \u001b[39mself\u001b[39m\u001b[39m.\u001b[39mmajor\u001b[39m.\u001b[39mformatter\u001b[39m.\u001b[39mformat_ticks(major_locs)\n\u001b[0;32m   1277\u001b[0m     major_ticks \u001b[39m=\u001b[39m \u001b[39mself\u001b[39m\u001b[39m.\u001b[39mget_major_ticks(\u001b[39mlen\u001b[39m(major_locs))\n",
      "File \u001b[1;32mc:\\Users\\Tutubarao\\Downloads\\TCC\\data-analysis\\.venv\\Lib\\site-packages\\matplotlib\\axis.py:1495\u001b[0m, in \u001b[0;36mAxis.get_majorticklocs\u001b[1;34m(self)\u001b[0m\n\u001b[0;32m   1493\u001b[0m \u001b[39mdef\u001b[39;00m \u001b[39mget_majorticklocs\u001b[39m(\u001b[39mself\u001b[39m):\n\u001b[0;32m   1494\u001b[0m \u001b[39m    \u001b[39m\u001b[39m\"\"\"Return this Axis' major tick locations in data coordinates.\"\"\"\u001b[39;00m\n\u001b[1;32m-> 1495\u001b[0m     \u001b[39mreturn\u001b[39;00m \u001b[39mself\u001b[39;49m\u001b[39m.\u001b[39;49mmajor\u001b[39m.\u001b[39;49mlocator()\n",
      "File \u001b[1;32mc:\\Users\\Tutubarao\\Downloads\\TCC\\data-analysis\\.venv\\Lib\\site-packages\\matplotlib\\dates.py:1202\u001b[0m, in \u001b[0;36mRRuleLocator.__call__\u001b[1;34m(self)\u001b[0m\n\u001b[0;32m   1199\u001b[0m \u001b[39mdef\u001b[39;00m \u001b[39m__call__\u001b[39m(\u001b[39mself\u001b[39m):\n\u001b[0;32m   1200\u001b[0m     \u001b[39m# if no data have been set, this will tank with a ValueError\u001b[39;00m\n\u001b[0;32m   1201\u001b[0m     \u001b[39mtry\u001b[39;00m:\n\u001b[1;32m-> 1202\u001b[0m         dmin, dmax \u001b[39m=\u001b[39m \u001b[39mself\u001b[39;49m\u001b[39m.\u001b[39;49mviewlim_to_dt()\n\u001b[0;32m   1203\u001b[0m     \u001b[39mexcept\u001b[39;00m \u001b[39mValueError\u001b[39;00m:\n\u001b[0;32m   1204\u001b[0m         \u001b[39mreturn\u001b[39;00m []\n",
      "File \u001b[1;32mc:\\Users\\Tutubarao\\Downloads\\TCC\\data-analysis\\.venv\\Lib\\site-packages\\matplotlib\\dates.py:1158\u001b[0m, in \u001b[0;36mDateLocator.viewlim_to_dt\u001b[1;34m(self)\u001b[0m\n\u001b[0;32m   1156\u001b[0m \u001b[39mif\u001b[39;00m vmin \u001b[39m>\u001b[39m vmax:\n\u001b[0;32m   1157\u001b[0m     vmin, vmax \u001b[39m=\u001b[39m vmax, vmin\n\u001b[1;32m-> 1158\u001b[0m \u001b[39mreturn\u001b[39;00m num2date(vmin, \u001b[39mself\u001b[39;49m\u001b[39m.\u001b[39;49mtz), num2date(vmax, \u001b[39mself\u001b[39m\u001b[39m.\u001b[39mtz)\n",
      "File \u001b[1;32mc:\\Users\\Tutubarao\\Downloads\\TCC\\data-analysis\\.venv\\Lib\\site-packages\\matplotlib\\dates.py:543\u001b[0m, in \u001b[0;36mnum2date\u001b[1;34m(x, tz)\u001b[0m\n\u001b[0;32m    517\u001b[0m \u001b[39m\u001b[39m\u001b[39m\"\"\"\u001b[39;00m\n\u001b[0;32m    518\u001b[0m \u001b[39mConvert Matplotlib dates to `~datetime.datetime` objects.\u001b[39;00m\n\u001b[0;32m    519\u001b[0m \n\u001b[1;32m   (...)\u001b[0m\n\u001b[0;32m    540\u001b[0m \u001b[39mFor details, see the module docstring.\u001b[39;00m\n\u001b[0;32m    541\u001b[0m \u001b[39m\"\"\"\u001b[39;00m\n\u001b[0;32m    542\u001b[0m tz \u001b[39m=\u001b[39m _get_tzinfo(tz)\n\u001b[1;32m--> 543\u001b[0m \u001b[39mreturn\u001b[39;00m _from_ordinalf_np_vectorized(x, tz)\u001b[39m.\u001b[39mtolist()\n",
      "File \u001b[1;32mc:\\Users\\Tutubarao\\Downloads\\TCC\\data-analysis\\.venv\\Lib\\site-packages\\numpy\\lib\\function_base.py:2372\u001b[0m, in \u001b[0;36mvectorize.__call__\u001b[1;34m(self, *args, **kwargs)\u001b[0m\n\u001b[0;32m   2369\u001b[0m     \u001b[39mself\u001b[39m\u001b[39m.\u001b[39m_init_stage_2(\u001b[39m*\u001b[39margs, \u001b[39m*\u001b[39m\u001b[39m*\u001b[39mkwargs)\n\u001b[0;32m   2370\u001b[0m     \u001b[39mreturn\u001b[39;00m \u001b[39mself\u001b[39m\n\u001b[1;32m-> 2372\u001b[0m \u001b[39mreturn\u001b[39;00m \u001b[39mself\u001b[39;49m\u001b[39m.\u001b[39;49m_call_as_normal(\u001b[39m*\u001b[39;49margs, \u001b[39m*\u001b[39;49m\u001b[39m*\u001b[39;49mkwargs)\n",
      "File \u001b[1;32mc:\\Users\\Tutubarao\\Downloads\\TCC\\data-analysis\\.venv\\Lib\\site-packages\\numpy\\lib\\function_base.py:2365\u001b[0m, in \u001b[0;36mvectorize._call_as_normal\u001b[1;34m(self, *args, **kwargs)\u001b[0m\n\u001b[0;32m   2362\u001b[0m     vargs \u001b[39m=\u001b[39m [args[_i] \u001b[39mfor\u001b[39;00m _i \u001b[39min\u001b[39;00m inds]\n\u001b[0;32m   2363\u001b[0m     vargs\u001b[39m.\u001b[39mextend([kwargs[_n] \u001b[39mfor\u001b[39;00m _n \u001b[39min\u001b[39;00m names])\n\u001b[1;32m-> 2365\u001b[0m \u001b[39mreturn\u001b[39;00m \u001b[39mself\u001b[39;49m\u001b[39m.\u001b[39;49m_vectorize_call(func\u001b[39m=\u001b[39;49mfunc, args\u001b[39m=\u001b[39;49mvargs)\n",
      "File \u001b[1;32mc:\\Users\\Tutubarao\\Downloads\\TCC\\data-analysis\\.venv\\Lib\\site-packages\\numpy\\lib\\function_base.py:2455\u001b[0m, in \u001b[0;36mvectorize._vectorize_call\u001b[1;34m(self, func, args)\u001b[0m\n\u001b[0;32m   2452\u001b[0m \u001b[39m# Convert args to object arrays first\u001b[39;00m\n\u001b[0;32m   2453\u001b[0m inputs \u001b[39m=\u001b[39m [asanyarray(a, dtype\u001b[39m=\u001b[39m\u001b[39mobject\u001b[39m) \u001b[39mfor\u001b[39;00m a \u001b[39min\u001b[39;00m args]\n\u001b[1;32m-> 2455\u001b[0m outputs \u001b[39m=\u001b[39m ufunc(\u001b[39m*\u001b[39;49minputs)\n\u001b[0;32m   2457\u001b[0m \u001b[39mif\u001b[39;00m ufunc\u001b[39m.\u001b[39mnout \u001b[39m==\u001b[39m \u001b[39m1\u001b[39m:\n\u001b[0;32m   2458\u001b[0m     res \u001b[39m=\u001b[39m asanyarray(outputs, dtype\u001b[39m=\u001b[39motypes[\u001b[39m0\u001b[39m])\n",
      "File \u001b[1;32mc:\\Users\\Tutubarao\\Downloads\\TCC\\data-analysis\\.venv\\Lib\\site-packages\\matplotlib\\dates.py:360\u001b[0m, in \u001b[0;36m_from_ordinalf\u001b[1;34m(x, tz)\u001b[0m\n\u001b[0;32m    347\u001b[0m \u001b[39m\u001b[39m\u001b[39m\"\"\"\u001b[39;00m\n\u001b[0;32m    348\u001b[0m \u001b[39mConvert Gregorian float of the date, preserving hours, minutes,\u001b[39;00m\n\u001b[0;32m    349\u001b[0m \u001b[39mseconds and microseconds.  Return value is a `.datetime`.\u001b[39;00m\n\u001b[1;32m   (...)\u001b[0m\n\u001b[0;32m    354\u001b[0m \u001b[39m:rc:`timezone`.\u001b[39;00m\n\u001b[0;32m    355\u001b[0m \u001b[39m\"\"\"\u001b[39;00m\n\u001b[0;32m    357\u001b[0m tz \u001b[39m=\u001b[39m _get_tzinfo(tz)\n\u001b[0;32m    359\u001b[0m dt \u001b[39m=\u001b[39m (np\u001b[39m.\u001b[39mdatetime64(get_epoch()) \u001b[39m+\u001b[39m\n\u001b[1;32m--> 360\u001b[0m       np\u001b[39m.\u001b[39;49mtimedelta64(\u001b[39mint\u001b[39;49m(np\u001b[39m.\u001b[39;49mround(x \u001b[39m*\u001b[39;49m MUSECONDS_PER_DAY)), \u001b[39m'\u001b[39;49m\u001b[39mus\u001b[39;49m\u001b[39m'\u001b[39;49m))\n\u001b[0;32m    361\u001b[0m \u001b[39mif\u001b[39;00m dt \u001b[39m<\u001b[39m np\u001b[39m.\u001b[39mdatetime64(\u001b[39m'\u001b[39m\u001b[39m0001-01-01\u001b[39m\u001b[39m'\u001b[39m) \u001b[39mor\u001b[39;00m dt \u001b[39m>\u001b[39m\u001b[39m=\u001b[39m np\u001b[39m.\u001b[39mdatetime64(\u001b[39m'\u001b[39m\u001b[39m10000-01-01\u001b[39m\u001b[39m'\u001b[39m):\n\u001b[0;32m    362\u001b[0m     \u001b[39mraise\u001b[39;00m \u001b[39mValueError\u001b[39;00m(\u001b[39mf\u001b[39m\u001b[39m'\u001b[39m\u001b[39mDate ordinal \u001b[39m\u001b[39m{\u001b[39;00mx\u001b[39m}\u001b[39;00m\u001b[39m converts to \u001b[39m\u001b[39m{\u001b[39;00mdt\u001b[39m}\u001b[39;00m\u001b[39m (using \u001b[39m\u001b[39m'\u001b[39m\n\u001b[0;32m    363\u001b[0m                      \u001b[39mf\u001b[39m\u001b[39m'\u001b[39m\u001b[39mepoch \u001b[39m\u001b[39m{\u001b[39;00mget_epoch()\u001b[39m}\u001b[39;00m\u001b[39m), but Matplotlib dates must be \u001b[39m\u001b[39m'\u001b[39m\n\u001b[0;32m    364\u001b[0m                       \u001b[39m'\u001b[39m\u001b[39mbetween year 0001 and 9999.\u001b[39m\u001b[39m'\u001b[39m)\n",
      "\u001b[1;31mOverflowError\u001b[0m: int too big to convert"
     ]
    },
    {
     "name": "stdout",
     "output_type": "stream",
     "text": [
      "Error in callback <function _draw_all_if_interactive at 0x000001574EF56160> (for post_execute), with arguments args (),kwargs {}:\n"
     ]
    },
    {
     "ename": "OverflowError",
     "evalue": "int too big to convert",
     "output_type": "error",
     "traceback": [
      "\u001b[1;31m---------------------------------------------------------------------------\u001b[0m",
      "\u001b[1;31mOverflowError\u001b[0m                             Traceback (most recent call last)",
      "File \u001b[1;32mc:\\Users\\Tutubarao\\Downloads\\TCC\\data-analysis\\.venv\\Lib\\site-packages\\matplotlib\\pyplot.py:197\u001b[0m, in \u001b[0;36m_draw_all_if_interactive\u001b[1;34m()\u001b[0m\n\u001b[0;32m    195\u001b[0m \u001b[39mdef\u001b[39;00m \u001b[39m_draw_all_if_interactive\u001b[39m() \u001b[39m-\u001b[39m\u001b[39m>\u001b[39m \u001b[39mNone\u001b[39;00m:\n\u001b[0;32m    196\u001b[0m     \u001b[39mif\u001b[39;00m matplotlib\u001b[39m.\u001b[39mis_interactive():\n\u001b[1;32m--> 197\u001b[0m         draw_all()\n",
      "File \u001b[1;32mc:\\Users\\Tutubarao\\Downloads\\TCC\\data-analysis\\.venv\\Lib\\site-packages\\matplotlib\\_pylab_helpers.py:132\u001b[0m, in \u001b[0;36mGcf.draw_all\u001b[1;34m(cls, force)\u001b[0m\n\u001b[0;32m    130\u001b[0m \u001b[39mfor\u001b[39;00m manager \u001b[39min\u001b[39;00m \u001b[39mcls\u001b[39m\u001b[39m.\u001b[39mget_all_fig_managers():\n\u001b[0;32m    131\u001b[0m     \u001b[39mif\u001b[39;00m force \u001b[39mor\u001b[39;00m manager\u001b[39m.\u001b[39mcanvas\u001b[39m.\u001b[39mfigure\u001b[39m.\u001b[39mstale:\n\u001b[1;32m--> 132\u001b[0m         manager\u001b[39m.\u001b[39;49mcanvas\u001b[39m.\u001b[39;49mdraw_idle()\n",
      "File \u001b[1;32mc:\\Users\\Tutubarao\\Downloads\\TCC\\data-analysis\\.venv\\Lib\\site-packages\\matplotlib\\backend_bases.py:1893\u001b[0m, in \u001b[0;36mFigureCanvasBase.draw_idle\u001b[1;34m(self, *args, **kwargs)\u001b[0m\n\u001b[0;32m   1891\u001b[0m \u001b[39mif\u001b[39;00m \u001b[39mnot\u001b[39;00m \u001b[39mself\u001b[39m\u001b[39m.\u001b[39m_is_idle_drawing:\n\u001b[0;32m   1892\u001b[0m     \u001b[39mwith\u001b[39;00m \u001b[39mself\u001b[39m\u001b[39m.\u001b[39m_idle_draw_cntx():\n\u001b[1;32m-> 1893\u001b[0m         \u001b[39mself\u001b[39;49m\u001b[39m.\u001b[39;49mdraw(\u001b[39m*\u001b[39;49margs, \u001b[39m*\u001b[39;49m\u001b[39m*\u001b[39;49mkwargs)\n",
      "File \u001b[1;32mc:\\Users\\Tutubarao\\Downloads\\TCC\\data-analysis\\.venv\\Lib\\site-packages\\matplotlib\\backends\\backend_agg.py:388\u001b[0m, in \u001b[0;36mFigureCanvasAgg.draw\u001b[1;34m(self)\u001b[0m\n\u001b[0;32m    385\u001b[0m \u001b[39m# Acquire a lock on the shared font cache.\u001b[39;00m\n\u001b[0;32m    386\u001b[0m \u001b[39mwith\u001b[39;00m (\u001b[39mself\u001b[39m\u001b[39m.\u001b[39mtoolbar\u001b[39m.\u001b[39m_wait_cursor_for_draw_cm() \u001b[39mif\u001b[39;00m \u001b[39mself\u001b[39m\u001b[39m.\u001b[39mtoolbar\n\u001b[0;32m    387\u001b[0m       \u001b[39melse\u001b[39;00m nullcontext()):\n\u001b[1;32m--> 388\u001b[0m     \u001b[39mself\u001b[39;49m\u001b[39m.\u001b[39;49mfigure\u001b[39m.\u001b[39;49mdraw(\u001b[39mself\u001b[39;49m\u001b[39m.\u001b[39;49mrenderer)\n\u001b[0;32m    389\u001b[0m     \u001b[39m# A GUI class may be need to update a window using this draw, so\u001b[39;00m\n\u001b[0;32m    390\u001b[0m     \u001b[39m# don't forget to call the superclass.\u001b[39;00m\n\u001b[0;32m    391\u001b[0m     \u001b[39msuper\u001b[39m()\u001b[39m.\u001b[39mdraw()\n",
      "File \u001b[1;32mc:\\Users\\Tutubarao\\Downloads\\TCC\\data-analysis\\.venv\\Lib\\site-packages\\matplotlib\\artist.py:95\u001b[0m, in \u001b[0;36m_finalize_rasterization.<locals>.draw_wrapper\u001b[1;34m(artist, renderer, *args, **kwargs)\u001b[0m\n\u001b[0;32m     93\u001b[0m \u001b[39m@wraps\u001b[39m(draw)\n\u001b[0;32m     94\u001b[0m \u001b[39mdef\u001b[39;00m \u001b[39mdraw_wrapper\u001b[39m(artist, renderer, \u001b[39m*\u001b[39margs, \u001b[39m*\u001b[39m\u001b[39m*\u001b[39mkwargs):\n\u001b[1;32m---> 95\u001b[0m     result \u001b[39m=\u001b[39m draw(artist, renderer, \u001b[39m*\u001b[39;49margs, \u001b[39m*\u001b[39;49m\u001b[39m*\u001b[39;49mkwargs)\n\u001b[0;32m     96\u001b[0m     \u001b[39mif\u001b[39;00m renderer\u001b[39m.\u001b[39m_rasterizing:\n\u001b[0;32m     97\u001b[0m         renderer\u001b[39m.\u001b[39mstop_rasterizing()\n",
      "File \u001b[1;32mc:\\Users\\Tutubarao\\Downloads\\TCC\\data-analysis\\.venv\\Lib\\site-packages\\matplotlib\\artist.py:72\u001b[0m, in \u001b[0;36mallow_rasterization.<locals>.draw_wrapper\u001b[1;34m(artist, renderer)\u001b[0m\n\u001b[0;32m     69\u001b[0m     \u001b[39mif\u001b[39;00m artist\u001b[39m.\u001b[39mget_agg_filter() \u001b[39mis\u001b[39;00m \u001b[39mnot\u001b[39;00m \u001b[39mNone\u001b[39;00m:\n\u001b[0;32m     70\u001b[0m         renderer\u001b[39m.\u001b[39mstart_filter()\n\u001b[1;32m---> 72\u001b[0m     \u001b[39mreturn\u001b[39;00m draw(artist, renderer)\n\u001b[0;32m     73\u001b[0m \u001b[39mfinally\u001b[39;00m:\n\u001b[0;32m     74\u001b[0m     \u001b[39mif\u001b[39;00m artist\u001b[39m.\u001b[39mget_agg_filter() \u001b[39mis\u001b[39;00m \u001b[39mnot\u001b[39;00m \u001b[39mNone\u001b[39;00m:\n",
      "File \u001b[1;32mc:\\Users\\Tutubarao\\Downloads\\TCC\\data-analysis\\.venv\\Lib\\site-packages\\matplotlib\\figure.py:3148\u001b[0m, in \u001b[0;36mFigure.draw\u001b[1;34m(self, renderer)\u001b[0m\n\u001b[0;32m   3146\u001b[0m \u001b[39mif\u001b[39;00m \u001b[39mself\u001b[39m\u001b[39m.\u001b[39maxes \u001b[39mand\u001b[39;00m \u001b[39mself\u001b[39m\u001b[39m.\u001b[39mget_layout_engine() \u001b[39mis\u001b[39;00m \u001b[39mnot\u001b[39;00m \u001b[39mNone\u001b[39;00m:\n\u001b[0;32m   3147\u001b[0m     \u001b[39mtry\u001b[39;00m:\n\u001b[1;32m-> 3148\u001b[0m         \u001b[39mself\u001b[39;49m\u001b[39m.\u001b[39;49mget_layout_engine()\u001b[39m.\u001b[39;49mexecute(\u001b[39mself\u001b[39;49m)\n\u001b[0;32m   3149\u001b[0m     \u001b[39mexcept\u001b[39;00m \u001b[39mValueError\u001b[39;00m:\n\u001b[0;32m   3150\u001b[0m         \u001b[39mpass\u001b[39;00m\n",
      "File \u001b[1;32mc:\\Users\\Tutubarao\\Downloads\\TCC\\data-analysis\\.venv\\Lib\\site-packages\\matplotlib\\layout_engine.py:273\u001b[0m, in \u001b[0;36mConstrainedLayoutEngine.execute\u001b[1;34m(self, fig)\u001b[0m\n\u001b[0;32m    270\u001b[0m w_pad \u001b[39m=\u001b[39m \u001b[39mself\u001b[39m\u001b[39m.\u001b[39m_params[\u001b[39m'\u001b[39m\u001b[39mw_pad\u001b[39m\u001b[39m'\u001b[39m] \u001b[39m/\u001b[39m width\n\u001b[0;32m    271\u001b[0m h_pad \u001b[39m=\u001b[39m \u001b[39mself\u001b[39m\u001b[39m.\u001b[39m_params[\u001b[39m'\u001b[39m\u001b[39mh_pad\u001b[39m\u001b[39m'\u001b[39m] \u001b[39m/\u001b[39m height\n\u001b[1;32m--> 273\u001b[0m \u001b[39mreturn\u001b[39;00m do_constrained_layout(fig, w_pad\u001b[39m=\u001b[39;49mw_pad, h_pad\u001b[39m=\u001b[39;49mh_pad,\n\u001b[0;32m    274\u001b[0m                              wspace\u001b[39m=\u001b[39;49m\u001b[39mself\u001b[39;49m\u001b[39m.\u001b[39;49m_params[\u001b[39m'\u001b[39;49m\u001b[39mwspace\u001b[39;49m\u001b[39m'\u001b[39;49m],\n\u001b[0;32m    275\u001b[0m                              hspace\u001b[39m=\u001b[39;49m\u001b[39mself\u001b[39;49m\u001b[39m.\u001b[39;49m_params[\u001b[39m'\u001b[39;49m\u001b[39mhspace\u001b[39;49m\u001b[39m'\u001b[39;49m],\n\u001b[0;32m    276\u001b[0m                              rect\u001b[39m=\u001b[39;49m\u001b[39mself\u001b[39;49m\u001b[39m.\u001b[39;49m_params[\u001b[39m'\u001b[39;49m\u001b[39mrect\u001b[39;49m\u001b[39m'\u001b[39;49m],\n\u001b[0;32m    277\u001b[0m                              compress\u001b[39m=\u001b[39;49m\u001b[39mself\u001b[39;49m\u001b[39m.\u001b[39;49m_compress)\n",
      "File \u001b[1;32mc:\\Users\\Tutubarao\\Downloads\\TCC\\data-analysis\\.venv\\Lib\\site-packages\\matplotlib\\_constrained_layout.py:116\u001b[0m, in \u001b[0;36mdo_constrained_layout\u001b[1;34m(fig, h_pad, w_pad, hspace, wspace, rect, compress)\u001b[0m\n\u001b[0;32m    106\u001b[0m     \u001b[39mreturn\u001b[39;00m\n\u001b[0;32m    108\u001b[0m \u001b[39mfor\u001b[39;00m _ \u001b[39min\u001b[39;00m \u001b[39mrange\u001b[39m(\u001b[39m2\u001b[39m):\n\u001b[0;32m    109\u001b[0m     \u001b[39m# do the algorithm twice.  This has to be done because decorations\u001b[39;00m\n\u001b[0;32m    110\u001b[0m     \u001b[39m# change size after the first re-position (i.e. x/yticklabels get\u001b[39;00m\n\u001b[1;32m   (...)\u001b[0m\n\u001b[0;32m    114\u001b[0m     \u001b[39m# make margins for all the axes and subfigures in the\u001b[39;00m\n\u001b[0;32m    115\u001b[0m     \u001b[39m# figure.  Add margins for colorbars...\u001b[39;00m\n\u001b[1;32m--> 116\u001b[0m     make_layout_margins(layoutgrids, fig, renderer, h_pad\u001b[39m=\u001b[39;49mh_pad,\n\u001b[0;32m    117\u001b[0m                         w_pad\u001b[39m=\u001b[39;49mw_pad, hspace\u001b[39m=\u001b[39;49mhspace, wspace\u001b[39m=\u001b[39;49mwspace)\n\u001b[0;32m    118\u001b[0m     make_margin_suptitles(layoutgrids, fig, renderer, h_pad\u001b[39m=\u001b[39mh_pad,\n\u001b[0;32m    119\u001b[0m                           w_pad\u001b[39m=\u001b[39mw_pad)\n\u001b[0;32m    121\u001b[0m     \u001b[39m# if a layout is such that a columns (or rows) margin has no\u001b[39;00m\n\u001b[0;32m    122\u001b[0m     \u001b[39m# constraints, we need to make all such instances in the grid\u001b[39;00m\n\u001b[0;32m    123\u001b[0m     \u001b[39m# match in margin size.\u001b[39;00m\n",
      "File \u001b[1;32mc:\\Users\\Tutubarao\\Downloads\\TCC\\data-analysis\\.venv\\Lib\\site-packages\\matplotlib\\_constrained_layout.py:381\u001b[0m, in \u001b[0;36mmake_layout_margins\u001b[1;34m(layoutgrids, fig, renderer, w_pad, h_pad, hspace, wspace)\u001b[0m\n\u001b[0;32m    377\u001b[0m     \u001b[39mreturn\u001b[39;00m\n\u001b[0;32m    379\u001b[0m margin \u001b[39m=\u001b[39m get_margin_from_padding(ax, w_pad\u001b[39m=\u001b[39mw_pad, h_pad\u001b[39m=\u001b[39mh_pad,\n\u001b[0;32m    380\u001b[0m                                  hspace\u001b[39m=\u001b[39mhspace, wspace\u001b[39m=\u001b[39mwspace)\n\u001b[1;32m--> 381\u001b[0m pos, bbox \u001b[39m=\u001b[39m get_pos_and_bbox(ax, renderer)\n\u001b[0;32m    382\u001b[0m \u001b[39m# the margin is the distance between the bounding box of the axes\u001b[39;00m\n\u001b[0;32m    383\u001b[0m \u001b[39m# and its position (plus the padding from above)\u001b[39;00m\n\u001b[0;32m    384\u001b[0m margin[\u001b[39m'\u001b[39m\u001b[39mleft\u001b[39m\u001b[39m'\u001b[39m] \u001b[39m+\u001b[39m\u001b[39m=\u001b[39m pos\u001b[39m.\u001b[39mx0 \u001b[39m-\u001b[39m bbox\u001b[39m.\u001b[39mx0\n",
      "File \u001b[1;32mc:\\Users\\Tutubarao\\Downloads\\TCC\\data-analysis\\.venv\\Lib\\site-packages\\matplotlib\\_constrained_layout.py:634\u001b[0m, in \u001b[0;36mget_pos_and_bbox\u001b[1;34m(ax, renderer)\u001b[0m\n\u001b[0;32m    632\u001b[0m \u001b[39m# pos is in panel co-ords, but we need in figure for the layout\u001b[39;00m\n\u001b[0;32m    633\u001b[0m pos \u001b[39m=\u001b[39m pos\u001b[39m.\u001b[39mtransformed(fig\u001b[39m.\u001b[39mtransSubfigure \u001b[39m-\u001b[39m fig\u001b[39m.\u001b[39mtransFigure)\n\u001b[1;32m--> 634\u001b[0m tightbbox \u001b[39m=\u001b[39m martist\u001b[39m.\u001b[39;49m_get_tightbbox_for_layout_only(ax, renderer)\n\u001b[0;32m    635\u001b[0m \u001b[39mif\u001b[39;00m tightbbox \u001b[39mis\u001b[39;00m \u001b[39mNone\u001b[39;00m:\n\u001b[0;32m    636\u001b[0m     bbox \u001b[39m=\u001b[39m pos\n",
      "File \u001b[1;32mc:\\Users\\Tutubarao\\Downloads\\TCC\\data-analysis\\.venv\\Lib\\site-packages\\matplotlib\\artist.py:1411\u001b[0m, in \u001b[0;36m_get_tightbbox_for_layout_only\u001b[1;34m(obj, *args, **kwargs)\u001b[0m\n\u001b[0;32m   1405\u001b[0m \u001b[39m\u001b[39m\u001b[39m\"\"\"\u001b[39;00m\n\u001b[0;32m   1406\u001b[0m \u001b[39mMatplotlib's `.Axes.get_tightbbox` and `.Axis.get_tightbbox` support a\u001b[39;00m\n\u001b[0;32m   1407\u001b[0m \u001b[39m*for_layout_only* kwarg; this helper tries to use the kwarg but skips it\u001b[39;00m\n\u001b[0;32m   1408\u001b[0m \u001b[39mwhen encountering third-party subclasses that do not support it.\u001b[39;00m\n\u001b[0;32m   1409\u001b[0m \u001b[39m\"\"\"\u001b[39;00m\n\u001b[0;32m   1410\u001b[0m \u001b[39mtry\u001b[39;00m:\n\u001b[1;32m-> 1411\u001b[0m     \u001b[39mreturn\u001b[39;00m obj\u001b[39m.\u001b[39;49mget_tightbbox(\u001b[39m*\u001b[39;49margs, \u001b[39m*\u001b[39;49m\u001b[39m*\u001b[39;49m{\u001b[39m*\u001b[39;49m\u001b[39m*\u001b[39;49mkwargs, \u001b[39m\"\u001b[39;49m\u001b[39mfor_layout_only\u001b[39;49m\u001b[39m\"\u001b[39;49m: \u001b[39mTrue\u001b[39;49;00m})\n\u001b[0;32m   1412\u001b[0m \u001b[39mexcept\u001b[39;00m \u001b[39mTypeError\u001b[39;00m:\n\u001b[0;32m   1413\u001b[0m     \u001b[39mreturn\u001b[39;00m obj\u001b[39m.\u001b[39mget_tightbbox(\u001b[39m*\u001b[39margs, \u001b[39m*\u001b[39m\u001b[39m*\u001b[39mkwargs)\n",
      "File \u001b[1;32mc:\\Users\\Tutubarao\\Downloads\\TCC\\data-analysis\\.venv\\Lib\\site-packages\\matplotlib\\_api\\deprecation.py:454\u001b[0m, in \u001b[0;36mmake_keyword_only.<locals>.wrapper\u001b[1;34m(*args, **kwargs)\u001b[0m\n\u001b[0;32m    448\u001b[0m \u001b[39mif\u001b[39;00m \u001b[39mlen\u001b[39m(args) \u001b[39m>\u001b[39m name_idx:\n\u001b[0;32m    449\u001b[0m     warn_deprecated(\n\u001b[0;32m    450\u001b[0m         since, message\u001b[39m=\u001b[39m\u001b[39m\"\u001b[39m\u001b[39mPassing the \u001b[39m\u001b[39m%(name)s\u001b[39;00m\u001b[39m \u001b[39m\u001b[39m%(obj_type)s\u001b[39;00m\u001b[39m \u001b[39m\u001b[39m\"\u001b[39m\n\u001b[0;32m    451\u001b[0m         \u001b[39m\"\u001b[39m\u001b[39mpositionally is deprecated since Matplotlib \u001b[39m\u001b[39m%(since)s\u001b[39;00m\u001b[39m; the \u001b[39m\u001b[39m\"\u001b[39m\n\u001b[0;32m    452\u001b[0m         \u001b[39m\"\u001b[39m\u001b[39mparameter will become keyword-only \u001b[39m\u001b[39m%(removal)s\u001b[39;00m\u001b[39m.\u001b[39m\u001b[39m\"\u001b[39m,\n\u001b[0;32m    453\u001b[0m         name\u001b[39m=\u001b[39mname, obj_type\u001b[39m=\u001b[39m\u001b[39mf\u001b[39m\u001b[39m\"\u001b[39m\u001b[39mparameter of \u001b[39m\u001b[39m{\u001b[39;00mfunc\u001b[39m.\u001b[39m\u001b[39m__name__\u001b[39m\u001b[39m}\u001b[39;00m\u001b[39m()\u001b[39m\u001b[39m\"\u001b[39m)\n\u001b[1;32m--> 454\u001b[0m \u001b[39mreturn\u001b[39;00m func(\u001b[39m*\u001b[39;49margs, \u001b[39m*\u001b[39;49m\u001b[39m*\u001b[39;49mkwargs)\n",
      "File \u001b[1;32mc:\\Users\\Tutubarao\\Downloads\\TCC\\data-analysis\\.venv\\Lib\\site-packages\\matplotlib\\axes\\_base.py:4395\u001b[0m, in \u001b[0;36m_AxesBase.get_tightbbox\u001b[1;34m(self, renderer, call_axes_locator, bbox_extra_artists, for_layout_only)\u001b[0m\n\u001b[0;32m   4393\u001b[0m \u001b[39mfor\u001b[39;00m axis \u001b[39min\u001b[39;00m \u001b[39mself\u001b[39m\u001b[39m.\u001b[39m_axis_map\u001b[39m.\u001b[39mvalues():\n\u001b[0;32m   4394\u001b[0m     \u001b[39mif\u001b[39;00m \u001b[39mself\u001b[39m\u001b[39m.\u001b[39maxison \u001b[39mand\u001b[39;00m axis\u001b[39m.\u001b[39mget_visible():\n\u001b[1;32m-> 4395\u001b[0m         ba \u001b[39m=\u001b[39m martist\u001b[39m.\u001b[39;49m_get_tightbbox_for_layout_only(axis, renderer)\n\u001b[0;32m   4396\u001b[0m         \u001b[39mif\u001b[39;00m ba:\n\u001b[0;32m   4397\u001b[0m             bb\u001b[39m.\u001b[39mappend(ba)\n",
      "File \u001b[1;32mc:\\Users\\Tutubarao\\Downloads\\TCC\\data-analysis\\.venv\\Lib\\site-packages\\matplotlib\\artist.py:1411\u001b[0m, in \u001b[0;36m_get_tightbbox_for_layout_only\u001b[1;34m(obj, *args, **kwargs)\u001b[0m\n\u001b[0;32m   1405\u001b[0m \u001b[39m\u001b[39m\u001b[39m\"\"\"\u001b[39;00m\n\u001b[0;32m   1406\u001b[0m \u001b[39mMatplotlib's `.Axes.get_tightbbox` and `.Axis.get_tightbbox` support a\u001b[39;00m\n\u001b[0;32m   1407\u001b[0m \u001b[39m*for_layout_only* kwarg; this helper tries to use the kwarg but skips it\u001b[39;00m\n\u001b[0;32m   1408\u001b[0m \u001b[39mwhen encountering third-party subclasses that do not support it.\u001b[39;00m\n\u001b[0;32m   1409\u001b[0m \u001b[39m\"\"\"\u001b[39;00m\n\u001b[0;32m   1410\u001b[0m \u001b[39mtry\u001b[39;00m:\n\u001b[1;32m-> 1411\u001b[0m     \u001b[39mreturn\u001b[39;00m obj\u001b[39m.\u001b[39;49mget_tightbbox(\u001b[39m*\u001b[39;49margs, \u001b[39m*\u001b[39;49m\u001b[39m*\u001b[39;49m{\u001b[39m*\u001b[39;49m\u001b[39m*\u001b[39;49mkwargs, \u001b[39m\"\u001b[39;49m\u001b[39mfor_layout_only\u001b[39;49m\u001b[39m\"\u001b[39;49m: \u001b[39mTrue\u001b[39;49;00m})\n\u001b[0;32m   1412\u001b[0m \u001b[39mexcept\u001b[39;00m \u001b[39mTypeError\u001b[39;00m:\n\u001b[0;32m   1413\u001b[0m     \u001b[39mreturn\u001b[39;00m obj\u001b[39m.\u001b[39mget_tightbbox(\u001b[39m*\u001b[39margs, \u001b[39m*\u001b[39m\u001b[39m*\u001b[39mkwargs)\n",
      "File \u001b[1;32mc:\\Users\\Tutubarao\\Downloads\\TCC\\data-analysis\\.venv\\Lib\\site-packages\\matplotlib\\axis.py:1334\u001b[0m, in \u001b[0;36mAxis.get_tightbbox\u001b[1;34m(self, renderer, for_layout_only)\u001b[0m\n\u001b[0;32m   1332\u001b[0m \u001b[39mif\u001b[39;00m renderer \u001b[39mis\u001b[39;00m \u001b[39mNone\u001b[39;00m:\n\u001b[0;32m   1333\u001b[0m     renderer \u001b[39m=\u001b[39m \u001b[39mself\u001b[39m\u001b[39m.\u001b[39mfigure\u001b[39m.\u001b[39m_get_renderer()\n\u001b[1;32m-> 1334\u001b[0m ticks_to_draw \u001b[39m=\u001b[39m \u001b[39mself\u001b[39;49m\u001b[39m.\u001b[39;49m_update_ticks()\n\u001b[0;32m   1336\u001b[0m \u001b[39mself\u001b[39m\u001b[39m.\u001b[39m_update_label_position(renderer)\n\u001b[0;32m   1338\u001b[0m \u001b[39m# go back to just this axis's tick labels\u001b[39;00m\n",
      "File \u001b[1;32mc:\\Users\\Tutubarao\\Downloads\\TCC\\data-analysis\\.venv\\Lib\\site-packages\\matplotlib\\axis.py:1275\u001b[0m, in \u001b[0;36mAxis._update_ticks\u001b[1;34m(self)\u001b[0m\n\u001b[0;32m   1270\u001b[0m \u001b[39mdef\u001b[39;00m \u001b[39m_update_ticks\u001b[39m(\u001b[39mself\u001b[39m):\n\u001b[0;32m   1271\u001b[0m \u001b[39m    \u001b[39m\u001b[39m\"\"\"\u001b[39;00m\n\u001b[0;32m   1272\u001b[0m \u001b[39m    Update ticks (position and labels) using the current data interval of\u001b[39;00m\n\u001b[0;32m   1273\u001b[0m \u001b[39m    the axes.  Return the list of ticks that will be drawn.\u001b[39;00m\n\u001b[0;32m   1274\u001b[0m \u001b[39m    \"\"\"\u001b[39;00m\n\u001b[1;32m-> 1275\u001b[0m     major_locs \u001b[39m=\u001b[39m \u001b[39mself\u001b[39;49m\u001b[39m.\u001b[39;49mget_majorticklocs()\n\u001b[0;32m   1276\u001b[0m     major_labels \u001b[39m=\u001b[39m \u001b[39mself\u001b[39m\u001b[39m.\u001b[39mmajor\u001b[39m.\u001b[39mformatter\u001b[39m.\u001b[39mformat_ticks(major_locs)\n\u001b[0;32m   1277\u001b[0m     major_ticks \u001b[39m=\u001b[39m \u001b[39mself\u001b[39m\u001b[39m.\u001b[39mget_major_ticks(\u001b[39mlen\u001b[39m(major_locs))\n",
      "File \u001b[1;32mc:\\Users\\Tutubarao\\Downloads\\TCC\\data-analysis\\.venv\\Lib\\site-packages\\matplotlib\\axis.py:1495\u001b[0m, in \u001b[0;36mAxis.get_majorticklocs\u001b[1;34m(self)\u001b[0m\n\u001b[0;32m   1493\u001b[0m \u001b[39mdef\u001b[39;00m \u001b[39mget_majorticklocs\u001b[39m(\u001b[39mself\u001b[39m):\n\u001b[0;32m   1494\u001b[0m \u001b[39m    \u001b[39m\u001b[39m\"\"\"Return this Axis' major tick locations in data coordinates.\"\"\"\u001b[39;00m\n\u001b[1;32m-> 1495\u001b[0m     \u001b[39mreturn\u001b[39;00m \u001b[39mself\u001b[39;49m\u001b[39m.\u001b[39;49mmajor\u001b[39m.\u001b[39;49mlocator()\n",
      "File \u001b[1;32mc:\\Users\\Tutubarao\\Downloads\\TCC\\data-analysis\\.venv\\Lib\\site-packages\\matplotlib\\dates.py:1202\u001b[0m, in \u001b[0;36mRRuleLocator.__call__\u001b[1;34m(self)\u001b[0m\n\u001b[0;32m   1199\u001b[0m \u001b[39mdef\u001b[39;00m \u001b[39m__call__\u001b[39m(\u001b[39mself\u001b[39m):\n\u001b[0;32m   1200\u001b[0m     \u001b[39m# if no data have been set, this will tank with a ValueError\u001b[39;00m\n\u001b[0;32m   1201\u001b[0m     \u001b[39mtry\u001b[39;00m:\n\u001b[1;32m-> 1202\u001b[0m         dmin, dmax \u001b[39m=\u001b[39m \u001b[39mself\u001b[39;49m\u001b[39m.\u001b[39;49mviewlim_to_dt()\n\u001b[0;32m   1203\u001b[0m     \u001b[39mexcept\u001b[39;00m \u001b[39mValueError\u001b[39;00m:\n\u001b[0;32m   1204\u001b[0m         \u001b[39mreturn\u001b[39;00m []\n",
      "File \u001b[1;32mc:\\Users\\Tutubarao\\Downloads\\TCC\\data-analysis\\.venv\\Lib\\site-packages\\matplotlib\\dates.py:1158\u001b[0m, in \u001b[0;36mDateLocator.viewlim_to_dt\u001b[1;34m(self)\u001b[0m\n\u001b[0;32m   1156\u001b[0m \u001b[39mif\u001b[39;00m vmin \u001b[39m>\u001b[39m vmax:\n\u001b[0;32m   1157\u001b[0m     vmin, vmax \u001b[39m=\u001b[39m vmax, vmin\n\u001b[1;32m-> 1158\u001b[0m \u001b[39mreturn\u001b[39;00m num2date(vmin, \u001b[39mself\u001b[39;49m\u001b[39m.\u001b[39;49mtz), num2date(vmax, \u001b[39mself\u001b[39m\u001b[39m.\u001b[39mtz)\n",
      "File \u001b[1;32mc:\\Users\\Tutubarao\\Downloads\\TCC\\data-analysis\\.venv\\Lib\\site-packages\\matplotlib\\dates.py:543\u001b[0m, in \u001b[0;36mnum2date\u001b[1;34m(x, tz)\u001b[0m\n\u001b[0;32m    517\u001b[0m \u001b[39m\u001b[39m\u001b[39m\"\"\"\u001b[39;00m\n\u001b[0;32m    518\u001b[0m \u001b[39mConvert Matplotlib dates to `~datetime.datetime` objects.\u001b[39;00m\n\u001b[0;32m    519\u001b[0m \n\u001b[1;32m   (...)\u001b[0m\n\u001b[0;32m    540\u001b[0m \u001b[39mFor details, see the module docstring.\u001b[39;00m\n\u001b[0;32m    541\u001b[0m \u001b[39m\"\"\"\u001b[39;00m\n\u001b[0;32m    542\u001b[0m tz \u001b[39m=\u001b[39m _get_tzinfo(tz)\n\u001b[1;32m--> 543\u001b[0m \u001b[39mreturn\u001b[39;00m _from_ordinalf_np_vectorized(x, tz)\u001b[39m.\u001b[39mtolist()\n",
      "File \u001b[1;32mc:\\Users\\Tutubarao\\Downloads\\TCC\\data-analysis\\.venv\\Lib\\site-packages\\numpy\\lib\\function_base.py:2372\u001b[0m, in \u001b[0;36mvectorize.__call__\u001b[1;34m(self, *args, **kwargs)\u001b[0m\n\u001b[0;32m   2369\u001b[0m     \u001b[39mself\u001b[39m\u001b[39m.\u001b[39m_init_stage_2(\u001b[39m*\u001b[39margs, \u001b[39m*\u001b[39m\u001b[39m*\u001b[39mkwargs)\n\u001b[0;32m   2370\u001b[0m     \u001b[39mreturn\u001b[39;00m \u001b[39mself\u001b[39m\n\u001b[1;32m-> 2372\u001b[0m \u001b[39mreturn\u001b[39;00m \u001b[39mself\u001b[39;49m\u001b[39m.\u001b[39;49m_call_as_normal(\u001b[39m*\u001b[39;49margs, \u001b[39m*\u001b[39;49m\u001b[39m*\u001b[39;49mkwargs)\n",
      "File \u001b[1;32mc:\\Users\\Tutubarao\\Downloads\\TCC\\data-analysis\\.venv\\Lib\\site-packages\\numpy\\lib\\function_base.py:2365\u001b[0m, in \u001b[0;36mvectorize._call_as_normal\u001b[1;34m(self, *args, **kwargs)\u001b[0m\n\u001b[0;32m   2362\u001b[0m     vargs \u001b[39m=\u001b[39m [args[_i] \u001b[39mfor\u001b[39;00m _i \u001b[39min\u001b[39;00m inds]\n\u001b[0;32m   2363\u001b[0m     vargs\u001b[39m.\u001b[39mextend([kwargs[_n] \u001b[39mfor\u001b[39;00m _n \u001b[39min\u001b[39;00m names])\n\u001b[1;32m-> 2365\u001b[0m \u001b[39mreturn\u001b[39;00m \u001b[39mself\u001b[39;49m\u001b[39m.\u001b[39;49m_vectorize_call(func\u001b[39m=\u001b[39;49mfunc, args\u001b[39m=\u001b[39;49mvargs)\n",
      "File \u001b[1;32mc:\\Users\\Tutubarao\\Downloads\\TCC\\data-analysis\\.venv\\Lib\\site-packages\\numpy\\lib\\function_base.py:2455\u001b[0m, in \u001b[0;36mvectorize._vectorize_call\u001b[1;34m(self, func, args)\u001b[0m\n\u001b[0;32m   2452\u001b[0m \u001b[39m# Convert args to object arrays first\u001b[39;00m\n\u001b[0;32m   2453\u001b[0m inputs \u001b[39m=\u001b[39m [asanyarray(a, dtype\u001b[39m=\u001b[39m\u001b[39mobject\u001b[39m) \u001b[39mfor\u001b[39;00m a \u001b[39min\u001b[39;00m args]\n\u001b[1;32m-> 2455\u001b[0m outputs \u001b[39m=\u001b[39m ufunc(\u001b[39m*\u001b[39;49minputs)\n\u001b[0;32m   2457\u001b[0m \u001b[39mif\u001b[39;00m ufunc\u001b[39m.\u001b[39mnout \u001b[39m==\u001b[39m \u001b[39m1\u001b[39m:\n\u001b[0;32m   2458\u001b[0m     res \u001b[39m=\u001b[39m asanyarray(outputs, dtype\u001b[39m=\u001b[39motypes[\u001b[39m0\u001b[39m])\n",
      "File \u001b[1;32mc:\\Users\\Tutubarao\\Downloads\\TCC\\data-analysis\\.venv\\Lib\\site-packages\\matplotlib\\dates.py:360\u001b[0m, in \u001b[0;36m_from_ordinalf\u001b[1;34m(x, tz)\u001b[0m\n\u001b[0;32m    347\u001b[0m \u001b[39m\u001b[39m\u001b[39m\"\"\"\u001b[39;00m\n\u001b[0;32m    348\u001b[0m \u001b[39mConvert Gregorian float of the date, preserving hours, minutes,\u001b[39;00m\n\u001b[0;32m    349\u001b[0m \u001b[39mseconds and microseconds.  Return value is a `.datetime`.\u001b[39;00m\n\u001b[1;32m   (...)\u001b[0m\n\u001b[0;32m    354\u001b[0m \u001b[39m:rc:`timezone`.\u001b[39;00m\n\u001b[0;32m    355\u001b[0m \u001b[39m\"\"\"\u001b[39;00m\n\u001b[0;32m    357\u001b[0m tz \u001b[39m=\u001b[39m _get_tzinfo(tz)\n\u001b[0;32m    359\u001b[0m dt \u001b[39m=\u001b[39m (np\u001b[39m.\u001b[39mdatetime64(get_epoch()) \u001b[39m+\u001b[39m\n\u001b[1;32m--> 360\u001b[0m       np\u001b[39m.\u001b[39;49mtimedelta64(\u001b[39mint\u001b[39;49m(np\u001b[39m.\u001b[39;49mround(x \u001b[39m*\u001b[39;49m MUSECONDS_PER_DAY)), \u001b[39m'\u001b[39;49m\u001b[39mus\u001b[39;49m\u001b[39m'\u001b[39;49m))\n\u001b[0;32m    361\u001b[0m \u001b[39mif\u001b[39;00m dt \u001b[39m<\u001b[39m np\u001b[39m.\u001b[39mdatetime64(\u001b[39m'\u001b[39m\u001b[39m0001-01-01\u001b[39m\u001b[39m'\u001b[39m) \u001b[39mor\u001b[39;00m dt \u001b[39m>\u001b[39m\u001b[39m=\u001b[39m np\u001b[39m.\u001b[39mdatetime64(\u001b[39m'\u001b[39m\u001b[39m10000-01-01\u001b[39m\u001b[39m'\u001b[39m):\n\u001b[0;32m    362\u001b[0m     \u001b[39mraise\u001b[39;00m \u001b[39mValueError\u001b[39;00m(\u001b[39mf\u001b[39m\u001b[39m'\u001b[39m\u001b[39mDate ordinal \u001b[39m\u001b[39m{\u001b[39;00mx\u001b[39m}\u001b[39;00m\u001b[39m converts to \u001b[39m\u001b[39m{\u001b[39;00mdt\u001b[39m}\u001b[39;00m\u001b[39m (using \u001b[39m\u001b[39m'\u001b[39m\n\u001b[0;32m    363\u001b[0m                      \u001b[39mf\u001b[39m\u001b[39m'\u001b[39m\u001b[39mepoch \u001b[39m\u001b[39m{\u001b[39;00mget_epoch()\u001b[39m}\u001b[39;00m\u001b[39m), but Matplotlib dates must be \u001b[39m\u001b[39m'\u001b[39m\n\u001b[0;32m    364\u001b[0m                       \u001b[39m'\u001b[39m\u001b[39mbetween year 0001 and 9999.\u001b[39m\u001b[39m'\u001b[39m)\n",
      "\u001b[1;31mOverflowError\u001b[0m: int too big to convert"
     ]
    },
    {
     "ename": "OverflowError",
     "evalue": "int too big to convert",
     "output_type": "error",
     "traceback": [
      "\u001b[1;31m---------------------------------------------------------------------------\u001b[0m",
      "\u001b[1;31mOverflowError\u001b[0m                             Traceback (most recent call last)",
      "File \u001b[1;32mc:\\Users\\Tutubarao\\Downloads\\TCC\\data-analysis\\.venv\\Lib\\site-packages\\IPython\\core\\formatters.py:340\u001b[0m, in \u001b[0;36mBaseFormatter.__call__\u001b[1;34m(self, obj)\u001b[0m\n\u001b[0;32m    338\u001b[0m     \u001b[39mpass\u001b[39;00m\n\u001b[0;32m    339\u001b[0m \u001b[39melse\u001b[39;00m:\n\u001b[1;32m--> 340\u001b[0m     \u001b[39mreturn\u001b[39;00m printer(obj)\n\u001b[0;32m    341\u001b[0m \u001b[39m# Finally look for special method names\u001b[39;00m\n\u001b[0;32m    342\u001b[0m method \u001b[39m=\u001b[39m get_real_method(obj, \u001b[39mself\u001b[39m\u001b[39m.\u001b[39mprint_method)\n",
      "File \u001b[1;32mc:\\Users\\Tutubarao\\Downloads\\TCC\\data-analysis\\.venv\\Lib\\site-packages\\IPython\\core\\pylabtools.py:152\u001b[0m, in \u001b[0;36mprint_figure\u001b[1;34m(fig, fmt, bbox_inches, base64, **kwargs)\u001b[0m\n\u001b[0;32m    149\u001b[0m     \u001b[39mfrom\u001b[39;00m \u001b[39mmatplotlib\u001b[39;00m\u001b[39m.\u001b[39;00m\u001b[39mbackend_bases\u001b[39;00m \u001b[39mimport\u001b[39;00m FigureCanvasBase\n\u001b[0;32m    150\u001b[0m     FigureCanvasBase(fig)\n\u001b[1;32m--> 152\u001b[0m fig\u001b[39m.\u001b[39;49mcanvas\u001b[39m.\u001b[39;49mprint_figure(bytes_io, \u001b[39m*\u001b[39;49m\u001b[39m*\u001b[39;49mkw)\n\u001b[0;32m    153\u001b[0m data \u001b[39m=\u001b[39m bytes_io\u001b[39m.\u001b[39mgetvalue()\n\u001b[0;32m    154\u001b[0m \u001b[39mif\u001b[39;00m fmt \u001b[39m==\u001b[39m \u001b[39m'\u001b[39m\u001b[39msvg\u001b[39m\u001b[39m'\u001b[39m:\n",
      "File \u001b[1;32mc:\\Users\\Tutubarao\\Downloads\\TCC\\data-analysis\\.venv\\Lib\\site-packages\\matplotlib\\backend_bases.py:2164\u001b[0m, in \u001b[0;36mFigureCanvasBase.print_figure\u001b[1;34m(self, filename, dpi, facecolor, edgecolor, orientation, format, bbox_inches, pad_inches, bbox_extra_artists, backend, **kwargs)\u001b[0m\n\u001b[0;32m   2161\u001b[0m     \u001b[39m# we do this instead of `self.figure.draw_without_rendering`\u001b[39;00m\n\u001b[0;32m   2162\u001b[0m     \u001b[39m# so that we can inject the orientation\u001b[39;00m\n\u001b[0;32m   2163\u001b[0m     \u001b[39mwith\u001b[39;00m \u001b[39mgetattr\u001b[39m(renderer, \u001b[39m\"\u001b[39m\u001b[39m_draw_disabled\u001b[39m\u001b[39m\"\u001b[39m, nullcontext)():\n\u001b[1;32m-> 2164\u001b[0m         \u001b[39mself\u001b[39;49m\u001b[39m.\u001b[39;49mfigure\u001b[39m.\u001b[39;49mdraw(renderer)\n\u001b[0;32m   2165\u001b[0m \u001b[39mif\u001b[39;00m bbox_inches:\n\u001b[0;32m   2166\u001b[0m     \u001b[39mif\u001b[39;00m bbox_inches \u001b[39m==\u001b[39m \u001b[39m\"\u001b[39m\u001b[39mtight\u001b[39m\u001b[39m\"\u001b[39m:\n",
      "File \u001b[1;32mc:\\Users\\Tutubarao\\Downloads\\TCC\\data-analysis\\.venv\\Lib\\site-packages\\matplotlib\\artist.py:95\u001b[0m, in \u001b[0;36m_finalize_rasterization.<locals>.draw_wrapper\u001b[1;34m(artist, renderer, *args, **kwargs)\u001b[0m\n\u001b[0;32m     93\u001b[0m \u001b[39m@wraps\u001b[39m(draw)\n\u001b[0;32m     94\u001b[0m \u001b[39mdef\u001b[39;00m \u001b[39mdraw_wrapper\u001b[39m(artist, renderer, \u001b[39m*\u001b[39margs, \u001b[39m*\u001b[39m\u001b[39m*\u001b[39mkwargs):\n\u001b[1;32m---> 95\u001b[0m     result \u001b[39m=\u001b[39m draw(artist, renderer, \u001b[39m*\u001b[39;49margs, \u001b[39m*\u001b[39;49m\u001b[39m*\u001b[39;49mkwargs)\n\u001b[0;32m     96\u001b[0m     \u001b[39mif\u001b[39;00m renderer\u001b[39m.\u001b[39m_rasterizing:\n\u001b[0;32m     97\u001b[0m         renderer\u001b[39m.\u001b[39mstop_rasterizing()\n",
      "File \u001b[1;32mc:\\Users\\Tutubarao\\Downloads\\TCC\\data-analysis\\.venv\\Lib\\site-packages\\matplotlib\\artist.py:72\u001b[0m, in \u001b[0;36mallow_rasterization.<locals>.draw_wrapper\u001b[1;34m(artist, renderer)\u001b[0m\n\u001b[0;32m     69\u001b[0m     \u001b[39mif\u001b[39;00m artist\u001b[39m.\u001b[39mget_agg_filter() \u001b[39mis\u001b[39;00m \u001b[39mnot\u001b[39;00m \u001b[39mNone\u001b[39;00m:\n\u001b[0;32m     70\u001b[0m         renderer\u001b[39m.\u001b[39mstart_filter()\n\u001b[1;32m---> 72\u001b[0m     \u001b[39mreturn\u001b[39;00m draw(artist, renderer)\n\u001b[0;32m     73\u001b[0m \u001b[39mfinally\u001b[39;00m:\n\u001b[0;32m     74\u001b[0m     \u001b[39mif\u001b[39;00m artist\u001b[39m.\u001b[39mget_agg_filter() \u001b[39mis\u001b[39;00m \u001b[39mnot\u001b[39;00m \u001b[39mNone\u001b[39;00m:\n",
      "File \u001b[1;32mc:\\Users\\Tutubarao\\Downloads\\TCC\\data-analysis\\.venv\\Lib\\site-packages\\matplotlib\\figure.py:3148\u001b[0m, in \u001b[0;36mFigure.draw\u001b[1;34m(self, renderer)\u001b[0m\n\u001b[0;32m   3146\u001b[0m \u001b[39mif\u001b[39;00m \u001b[39mself\u001b[39m\u001b[39m.\u001b[39maxes \u001b[39mand\u001b[39;00m \u001b[39mself\u001b[39m\u001b[39m.\u001b[39mget_layout_engine() \u001b[39mis\u001b[39;00m \u001b[39mnot\u001b[39;00m \u001b[39mNone\u001b[39;00m:\n\u001b[0;32m   3147\u001b[0m     \u001b[39mtry\u001b[39;00m:\n\u001b[1;32m-> 3148\u001b[0m         \u001b[39mself\u001b[39;49m\u001b[39m.\u001b[39;49mget_layout_engine()\u001b[39m.\u001b[39;49mexecute(\u001b[39mself\u001b[39;49m)\n\u001b[0;32m   3149\u001b[0m     \u001b[39mexcept\u001b[39;00m \u001b[39mValueError\u001b[39;00m:\n\u001b[0;32m   3150\u001b[0m         \u001b[39mpass\u001b[39;00m\n",
      "File \u001b[1;32mc:\\Users\\Tutubarao\\Downloads\\TCC\\data-analysis\\.venv\\Lib\\site-packages\\matplotlib\\layout_engine.py:273\u001b[0m, in \u001b[0;36mConstrainedLayoutEngine.execute\u001b[1;34m(self, fig)\u001b[0m\n\u001b[0;32m    270\u001b[0m w_pad \u001b[39m=\u001b[39m \u001b[39mself\u001b[39m\u001b[39m.\u001b[39m_params[\u001b[39m'\u001b[39m\u001b[39mw_pad\u001b[39m\u001b[39m'\u001b[39m] \u001b[39m/\u001b[39m width\n\u001b[0;32m    271\u001b[0m h_pad \u001b[39m=\u001b[39m \u001b[39mself\u001b[39m\u001b[39m.\u001b[39m_params[\u001b[39m'\u001b[39m\u001b[39mh_pad\u001b[39m\u001b[39m'\u001b[39m] \u001b[39m/\u001b[39m height\n\u001b[1;32m--> 273\u001b[0m \u001b[39mreturn\u001b[39;00m do_constrained_layout(fig, w_pad\u001b[39m=\u001b[39;49mw_pad, h_pad\u001b[39m=\u001b[39;49mh_pad,\n\u001b[0;32m    274\u001b[0m                              wspace\u001b[39m=\u001b[39;49m\u001b[39mself\u001b[39;49m\u001b[39m.\u001b[39;49m_params[\u001b[39m'\u001b[39;49m\u001b[39mwspace\u001b[39;49m\u001b[39m'\u001b[39;49m],\n\u001b[0;32m    275\u001b[0m                              hspace\u001b[39m=\u001b[39;49m\u001b[39mself\u001b[39;49m\u001b[39m.\u001b[39;49m_params[\u001b[39m'\u001b[39;49m\u001b[39mhspace\u001b[39;49m\u001b[39m'\u001b[39;49m],\n\u001b[0;32m    276\u001b[0m                              rect\u001b[39m=\u001b[39;49m\u001b[39mself\u001b[39;49m\u001b[39m.\u001b[39;49m_params[\u001b[39m'\u001b[39;49m\u001b[39mrect\u001b[39;49m\u001b[39m'\u001b[39;49m],\n\u001b[0;32m    277\u001b[0m                              compress\u001b[39m=\u001b[39;49m\u001b[39mself\u001b[39;49m\u001b[39m.\u001b[39;49m_compress)\n",
      "File \u001b[1;32mc:\\Users\\Tutubarao\\Downloads\\TCC\\data-analysis\\.venv\\Lib\\site-packages\\matplotlib\\_constrained_layout.py:116\u001b[0m, in \u001b[0;36mdo_constrained_layout\u001b[1;34m(fig, h_pad, w_pad, hspace, wspace, rect, compress)\u001b[0m\n\u001b[0;32m    106\u001b[0m     \u001b[39mreturn\u001b[39;00m\n\u001b[0;32m    108\u001b[0m \u001b[39mfor\u001b[39;00m _ \u001b[39min\u001b[39;00m \u001b[39mrange\u001b[39m(\u001b[39m2\u001b[39m):\n\u001b[0;32m    109\u001b[0m     \u001b[39m# do the algorithm twice.  This has to be done because decorations\u001b[39;00m\n\u001b[0;32m    110\u001b[0m     \u001b[39m# change size after the first re-position (i.e. x/yticklabels get\u001b[39;00m\n\u001b[1;32m   (...)\u001b[0m\n\u001b[0;32m    114\u001b[0m     \u001b[39m# make margins for all the axes and subfigures in the\u001b[39;00m\n\u001b[0;32m    115\u001b[0m     \u001b[39m# figure.  Add margins for colorbars...\u001b[39;00m\n\u001b[1;32m--> 116\u001b[0m     make_layout_margins(layoutgrids, fig, renderer, h_pad\u001b[39m=\u001b[39;49mh_pad,\n\u001b[0;32m    117\u001b[0m                         w_pad\u001b[39m=\u001b[39;49mw_pad, hspace\u001b[39m=\u001b[39;49mhspace, wspace\u001b[39m=\u001b[39;49mwspace)\n\u001b[0;32m    118\u001b[0m     make_margin_suptitles(layoutgrids, fig, renderer, h_pad\u001b[39m=\u001b[39mh_pad,\n\u001b[0;32m    119\u001b[0m                           w_pad\u001b[39m=\u001b[39mw_pad)\n\u001b[0;32m    121\u001b[0m     \u001b[39m# if a layout is such that a columns (or rows) margin has no\u001b[39;00m\n\u001b[0;32m    122\u001b[0m     \u001b[39m# constraints, we need to make all such instances in the grid\u001b[39;00m\n\u001b[0;32m    123\u001b[0m     \u001b[39m# match in margin size.\u001b[39;00m\n",
      "File \u001b[1;32mc:\\Users\\Tutubarao\\Downloads\\TCC\\data-analysis\\.venv\\Lib\\site-packages\\matplotlib\\_constrained_layout.py:381\u001b[0m, in \u001b[0;36mmake_layout_margins\u001b[1;34m(layoutgrids, fig, renderer, w_pad, h_pad, hspace, wspace)\u001b[0m\n\u001b[0;32m    377\u001b[0m     \u001b[39mreturn\u001b[39;00m\n\u001b[0;32m    379\u001b[0m margin \u001b[39m=\u001b[39m get_margin_from_padding(ax, w_pad\u001b[39m=\u001b[39mw_pad, h_pad\u001b[39m=\u001b[39mh_pad,\n\u001b[0;32m    380\u001b[0m                                  hspace\u001b[39m=\u001b[39mhspace, wspace\u001b[39m=\u001b[39mwspace)\n\u001b[1;32m--> 381\u001b[0m pos, bbox \u001b[39m=\u001b[39m get_pos_and_bbox(ax, renderer)\n\u001b[0;32m    382\u001b[0m \u001b[39m# the margin is the distance between the bounding box of the axes\u001b[39;00m\n\u001b[0;32m    383\u001b[0m \u001b[39m# and its position (plus the padding from above)\u001b[39;00m\n\u001b[0;32m    384\u001b[0m margin[\u001b[39m'\u001b[39m\u001b[39mleft\u001b[39m\u001b[39m'\u001b[39m] \u001b[39m+\u001b[39m\u001b[39m=\u001b[39m pos\u001b[39m.\u001b[39mx0 \u001b[39m-\u001b[39m bbox\u001b[39m.\u001b[39mx0\n",
      "File \u001b[1;32mc:\\Users\\Tutubarao\\Downloads\\TCC\\data-analysis\\.venv\\Lib\\site-packages\\matplotlib\\_constrained_layout.py:634\u001b[0m, in \u001b[0;36mget_pos_and_bbox\u001b[1;34m(ax, renderer)\u001b[0m\n\u001b[0;32m    632\u001b[0m \u001b[39m# pos is in panel co-ords, but we need in figure for the layout\u001b[39;00m\n\u001b[0;32m    633\u001b[0m pos \u001b[39m=\u001b[39m pos\u001b[39m.\u001b[39mtransformed(fig\u001b[39m.\u001b[39mtransSubfigure \u001b[39m-\u001b[39m fig\u001b[39m.\u001b[39mtransFigure)\n\u001b[1;32m--> 634\u001b[0m tightbbox \u001b[39m=\u001b[39m martist\u001b[39m.\u001b[39;49m_get_tightbbox_for_layout_only(ax, renderer)\n\u001b[0;32m    635\u001b[0m \u001b[39mif\u001b[39;00m tightbbox \u001b[39mis\u001b[39;00m \u001b[39mNone\u001b[39;00m:\n\u001b[0;32m    636\u001b[0m     bbox \u001b[39m=\u001b[39m pos\n",
      "File \u001b[1;32mc:\\Users\\Tutubarao\\Downloads\\TCC\\data-analysis\\.venv\\Lib\\site-packages\\matplotlib\\artist.py:1411\u001b[0m, in \u001b[0;36m_get_tightbbox_for_layout_only\u001b[1;34m(obj, *args, **kwargs)\u001b[0m\n\u001b[0;32m   1405\u001b[0m \u001b[39m\u001b[39m\u001b[39m\"\"\"\u001b[39;00m\n\u001b[0;32m   1406\u001b[0m \u001b[39mMatplotlib's `.Axes.get_tightbbox` and `.Axis.get_tightbbox` support a\u001b[39;00m\n\u001b[0;32m   1407\u001b[0m \u001b[39m*for_layout_only* kwarg; this helper tries to use the kwarg but skips it\u001b[39;00m\n\u001b[0;32m   1408\u001b[0m \u001b[39mwhen encountering third-party subclasses that do not support it.\u001b[39;00m\n\u001b[0;32m   1409\u001b[0m \u001b[39m\"\"\"\u001b[39;00m\n\u001b[0;32m   1410\u001b[0m \u001b[39mtry\u001b[39;00m:\n\u001b[1;32m-> 1411\u001b[0m     \u001b[39mreturn\u001b[39;00m obj\u001b[39m.\u001b[39;49mget_tightbbox(\u001b[39m*\u001b[39;49margs, \u001b[39m*\u001b[39;49m\u001b[39m*\u001b[39;49m{\u001b[39m*\u001b[39;49m\u001b[39m*\u001b[39;49mkwargs, \u001b[39m\"\u001b[39;49m\u001b[39mfor_layout_only\u001b[39;49m\u001b[39m\"\u001b[39;49m: \u001b[39mTrue\u001b[39;49;00m})\n\u001b[0;32m   1412\u001b[0m \u001b[39mexcept\u001b[39;00m \u001b[39mTypeError\u001b[39;00m:\n\u001b[0;32m   1413\u001b[0m     \u001b[39mreturn\u001b[39;00m obj\u001b[39m.\u001b[39mget_tightbbox(\u001b[39m*\u001b[39margs, \u001b[39m*\u001b[39m\u001b[39m*\u001b[39mkwargs)\n",
      "File \u001b[1;32mc:\\Users\\Tutubarao\\Downloads\\TCC\\data-analysis\\.venv\\Lib\\site-packages\\matplotlib\\_api\\deprecation.py:454\u001b[0m, in \u001b[0;36mmake_keyword_only.<locals>.wrapper\u001b[1;34m(*args, **kwargs)\u001b[0m\n\u001b[0;32m    448\u001b[0m \u001b[39mif\u001b[39;00m \u001b[39mlen\u001b[39m(args) \u001b[39m>\u001b[39m name_idx:\n\u001b[0;32m    449\u001b[0m     warn_deprecated(\n\u001b[0;32m    450\u001b[0m         since, message\u001b[39m=\u001b[39m\u001b[39m\"\u001b[39m\u001b[39mPassing the \u001b[39m\u001b[39m%(name)s\u001b[39;00m\u001b[39m \u001b[39m\u001b[39m%(obj_type)s\u001b[39;00m\u001b[39m \u001b[39m\u001b[39m\"\u001b[39m\n\u001b[0;32m    451\u001b[0m         \u001b[39m\"\u001b[39m\u001b[39mpositionally is deprecated since Matplotlib \u001b[39m\u001b[39m%(since)s\u001b[39;00m\u001b[39m; the \u001b[39m\u001b[39m\"\u001b[39m\n\u001b[0;32m    452\u001b[0m         \u001b[39m\"\u001b[39m\u001b[39mparameter will become keyword-only \u001b[39m\u001b[39m%(removal)s\u001b[39;00m\u001b[39m.\u001b[39m\u001b[39m\"\u001b[39m,\n\u001b[0;32m    453\u001b[0m         name\u001b[39m=\u001b[39mname, obj_type\u001b[39m=\u001b[39m\u001b[39mf\u001b[39m\u001b[39m\"\u001b[39m\u001b[39mparameter of \u001b[39m\u001b[39m{\u001b[39;00mfunc\u001b[39m.\u001b[39m\u001b[39m__name__\u001b[39m\u001b[39m}\u001b[39;00m\u001b[39m()\u001b[39m\u001b[39m\"\u001b[39m)\n\u001b[1;32m--> 454\u001b[0m \u001b[39mreturn\u001b[39;00m func(\u001b[39m*\u001b[39;49margs, \u001b[39m*\u001b[39;49m\u001b[39m*\u001b[39;49mkwargs)\n",
      "File \u001b[1;32mc:\\Users\\Tutubarao\\Downloads\\TCC\\data-analysis\\.venv\\Lib\\site-packages\\matplotlib\\axes\\_base.py:4395\u001b[0m, in \u001b[0;36m_AxesBase.get_tightbbox\u001b[1;34m(self, renderer, call_axes_locator, bbox_extra_artists, for_layout_only)\u001b[0m\n\u001b[0;32m   4393\u001b[0m \u001b[39mfor\u001b[39;00m axis \u001b[39min\u001b[39;00m \u001b[39mself\u001b[39m\u001b[39m.\u001b[39m_axis_map\u001b[39m.\u001b[39mvalues():\n\u001b[0;32m   4394\u001b[0m     \u001b[39mif\u001b[39;00m \u001b[39mself\u001b[39m\u001b[39m.\u001b[39maxison \u001b[39mand\u001b[39;00m axis\u001b[39m.\u001b[39mget_visible():\n\u001b[1;32m-> 4395\u001b[0m         ba \u001b[39m=\u001b[39m martist\u001b[39m.\u001b[39;49m_get_tightbbox_for_layout_only(axis, renderer)\n\u001b[0;32m   4396\u001b[0m         \u001b[39mif\u001b[39;00m ba:\n\u001b[0;32m   4397\u001b[0m             bb\u001b[39m.\u001b[39mappend(ba)\n",
      "File \u001b[1;32mc:\\Users\\Tutubarao\\Downloads\\TCC\\data-analysis\\.venv\\Lib\\site-packages\\matplotlib\\artist.py:1411\u001b[0m, in \u001b[0;36m_get_tightbbox_for_layout_only\u001b[1;34m(obj, *args, **kwargs)\u001b[0m\n\u001b[0;32m   1405\u001b[0m \u001b[39m\u001b[39m\u001b[39m\"\"\"\u001b[39;00m\n\u001b[0;32m   1406\u001b[0m \u001b[39mMatplotlib's `.Axes.get_tightbbox` and `.Axis.get_tightbbox` support a\u001b[39;00m\n\u001b[0;32m   1407\u001b[0m \u001b[39m*for_layout_only* kwarg; this helper tries to use the kwarg but skips it\u001b[39;00m\n\u001b[0;32m   1408\u001b[0m \u001b[39mwhen encountering third-party subclasses that do not support it.\u001b[39;00m\n\u001b[0;32m   1409\u001b[0m \u001b[39m\"\"\"\u001b[39;00m\n\u001b[0;32m   1410\u001b[0m \u001b[39mtry\u001b[39;00m:\n\u001b[1;32m-> 1411\u001b[0m     \u001b[39mreturn\u001b[39;00m obj\u001b[39m.\u001b[39;49mget_tightbbox(\u001b[39m*\u001b[39;49margs, \u001b[39m*\u001b[39;49m\u001b[39m*\u001b[39;49m{\u001b[39m*\u001b[39;49m\u001b[39m*\u001b[39;49mkwargs, \u001b[39m\"\u001b[39;49m\u001b[39mfor_layout_only\u001b[39;49m\u001b[39m\"\u001b[39;49m: \u001b[39mTrue\u001b[39;49;00m})\n\u001b[0;32m   1412\u001b[0m \u001b[39mexcept\u001b[39;00m \u001b[39mTypeError\u001b[39;00m:\n\u001b[0;32m   1413\u001b[0m     \u001b[39mreturn\u001b[39;00m obj\u001b[39m.\u001b[39mget_tightbbox(\u001b[39m*\u001b[39margs, \u001b[39m*\u001b[39m\u001b[39m*\u001b[39mkwargs)\n",
      "File \u001b[1;32mc:\\Users\\Tutubarao\\Downloads\\TCC\\data-analysis\\.venv\\Lib\\site-packages\\matplotlib\\axis.py:1334\u001b[0m, in \u001b[0;36mAxis.get_tightbbox\u001b[1;34m(self, renderer, for_layout_only)\u001b[0m\n\u001b[0;32m   1332\u001b[0m \u001b[39mif\u001b[39;00m renderer \u001b[39mis\u001b[39;00m \u001b[39mNone\u001b[39;00m:\n\u001b[0;32m   1333\u001b[0m     renderer \u001b[39m=\u001b[39m \u001b[39mself\u001b[39m\u001b[39m.\u001b[39mfigure\u001b[39m.\u001b[39m_get_renderer()\n\u001b[1;32m-> 1334\u001b[0m ticks_to_draw \u001b[39m=\u001b[39m \u001b[39mself\u001b[39;49m\u001b[39m.\u001b[39;49m_update_ticks()\n\u001b[0;32m   1336\u001b[0m \u001b[39mself\u001b[39m\u001b[39m.\u001b[39m_update_label_position(renderer)\n\u001b[0;32m   1338\u001b[0m \u001b[39m# go back to just this axis's tick labels\u001b[39;00m\n",
      "File \u001b[1;32mc:\\Users\\Tutubarao\\Downloads\\TCC\\data-analysis\\.venv\\Lib\\site-packages\\matplotlib\\axis.py:1275\u001b[0m, in \u001b[0;36mAxis._update_ticks\u001b[1;34m(self)\u001b[0m\n\u001b[0;32m   1270\u001b[0m \u001b[39mdef\u001b[39;00m \u001b[39m_update_ticks\u001b[39m(\u001b[39mself\u001b[39m):\n\u001b[0;32m   1271\u001b[0m \u001b[39m    \u001b[39m\u001b[39m\"\"\"\u001b[39;00m\n\u001b[0;32m   1272\u001b[0m \u001b[39m    Update ticks (position and labels) using the current data interval of\u001b[39;00m\n\u001b[0;32m   1273\u001b[0m \u001b[39m    the axes.  Return the list of ticks that will be drawn.\u001b[39;00m\n\u001b[0;32m   1274\u001b[0m \u001b[39m    \"\"\"\u001b[39;00m\n\u001b[1;32m-> 1275\u001b[0m     major_locs \u001b[39m=\u001b[39m \u001b[39mself\u001b[39;49m\u001b[39m.\u001b[39;49mget_majorticklocs()\n\u001b[0;32m   1276\u001b[0m     major_labels \u001b[39m=\u001b[39m \u001b[39mself\u001b[39m\u001b[39m.\u001b[39mmajor\u001b[39m.\u001b[39mformatter\u001b[39m.\u001b[39mformat_ticks(major_locs)\n\u001b[0;32m   1277\u001b[0m     major_ticks \u001b[39m=\u001b[39m \u001b[39mself\u001b[39m\u001b[39m.\u001b[39mget_major_ticks(\u001b[39mlen\u001b[39m(major_locs))\n",
      "File \u001b[1;32mc:\\Users\\Tutubarao\\Downloads\\TCC\\data-analysis\\.venv\\Lib\\site-packages\\matplotlib\\axis.py:1495\u001b[0m, in \u001b[0;36mAxis.get_majorticklocs\u001b[1;34m(self)\u001b[0m\n\u001b[0;32m   1493\u001b[0m \u001b[39mdef\u001b[39;00m \u001b[39mget_majorticklocs\u001b[39m(\u001b[39mself\u001b[39m):\n\u001b[0;32m   1494\u001b[0m \u001b[39m    \u001b[39m\u001b[39m\"\"\"Return this Axis' major tick locations in data coordinates.\"\"\"\u001b[39;00m\n\u001b[1;32m-> 1495\u001b[0m     \u001b[39mreturn\u001b[39;00m \u001b[39mself\u001b[39;49m\u001b[39m.\u001b[39;49mmajor\u001b[39m.\u001b[39;49mlocator()\n",
      "File \u001b[1;32mc:\\Users\\Tutubarao\\Downloads\\TCC\\data-analysis\\.venv\\Lib\\site-packages\\matplotlib\\dates.py:1202\u001b[0m, in \u001b[0;36mRRuleLocator.__call__\u001b[1;34m(self)\u001b[0m\n\u001b[0;32m   1199\u001b[0m \u001b[39mdef\u001b[39;00m \u001b[39m__call__\u001b[39m(\u001b[39mself\u001b[39m):\n\u001b[0;32m   1200\u001b[0m     \u001b[39m# if no data have been set, this will tank with a ValueError\u001b[39;00m\n\u001b[0;32m   1201\u001b[0m     \u001b[39mtry\u001b[39;00m:\n\u001b[1;32m-> 1202\u001b[0m         dmin, dmax \u001b[39m=\u001b[39m \u001b[39mself\u001b[39;49m\u001b[39m.\u001b[39;49mviewlim_to_dt()\n\u001b[0;32m   1203\u001b[0m     \u001b[39mexcept\u001b[39;00m \u001b[39mValueError\u001b[39;00m:\n\u001b[0;32m   1204\u001b[0m         \u001b[39mreturn\u001b[39;00m []\n",
      "File \u001b[1;32mc:\\Users\\Tutubarao\\Downloads\\TCC\\data-analysis\\.venv\\Lib\\site-packages\\matplotlib\\dates.py:1158\u001b[0m, in \u001b[0;36mDateLocator.viewlim_to_dt\u001b[1;34m(self)\u001b[0m\n\u001b[0;32m   1156\u001b[0m \u001b[39mif\u001b[39;00m vmin \u001b[39m>\u001b[39m vmax:\n\u001b[0;32m   1157\u001b[0m     vmin, vmax \u001b[39m=\u001b[39m vmax, vmin\n\u001b[1;32m-> 1158\u001b[0m \u001b[39mreturn\u001b[39;00m num2date(vmin, \u001b[39mself\u001b[39;49m\u001b[39m.\u001b[39;49mtz), num2date(vmax, \u001b[39mself\u001b[39m\u001b[39m.\u001b[39mtz)\n",
      "File \u001b[1;32mc:\\Users\\Tutubarao\\Downloads\\TCC\\data-analysis\\.venv\\Lib\\site-packages\\matplotlib\\dates.py:543\u001b[0m, in \u001b[0;36mnum2date\u001b[1;34m(x, tz)\u001b[0m\n\u001b[0;32m    517\u001b[0m \u001b[39m\u001b[39m\u001b[39m\"\"\"\u001b[39;00m\n\u001b[0;32m    518\u001b[0m \u001b[39mConvert Matplotlib dates to `~datetime.datetime` objects.\u001b[39;00m\n\u001b[0;32m    519\u001b[0m \n\u001b[1;32m   (...)\u001b[0m\n\u001b[0;32m    540\u001b[0m \u001b[39mFor details, see the module docstring.\u001b[39;00m\n\u001b[0;32m    541\u001b[0m \u001b[39m\"\"\"\u001b[39;00m\n\u001b[0;32m    542\u001b[0m tz \u001b[39m=\u001b[39m _get_tzinfo(tz)\n\u001b[1;32m--> 543\u001b[0m \u001b[39mreturn\u001b[39;00m _from_ordinalf_np_vectorized(x, tz)\u001b[39m.\u001b[39mtolist()\n",
      "File \u001b[1;32mc:\\Users\\Tutubarao\\Downloads\\TCC\\data-analysis\\.venv\\Lib\\site-packages\\numpy\\lib\\function_base.py:2372\u001b[0m, in \u001b[0;36mvectorize.__call__\u001b[1;34m(self, *args, **kwargs)\u001b[0m\n\u001b[0;32m   2369\u001b[0m     \u001b[39mself\u001b[39m\u001b[39m.\u001b[39m_init_stage_2(\u001b[39m*\u001b[39margs, \u001b[39m*\u001b[39m\u001b[39m*\u001b[39mkwargs)\n\u001b[0;32m   2370\u001b[0m     \u001b[39mreturn\u001b[39;00m \u001b[39mself\u001b[39m\n\u001b[1;32m-> 2372\u001b[0m \u001b[39mreturn\u001b[39;00m \u001b[39mself\u001b[39;49m\u001b[39m.\u001b[39;49m_call_as_normal(\u001b[39m*\u001b[39;49margs, \u001b[39m*\u001b[39;49m\u001b[39m*\u001b[39;49mkwargs)\n",
      "File \u001b[1;32mc:\\Users\\Tutubarao\\Downloads\\TCC\\data-analysis\\.venv\\Lib\\site-packages\\numpy\\lib\\function_base.py:2365\u001b[0m, in \u001b[0;36mvectorize._call_as_normal\u001b[1;34m(self, *args, **kwargs)\u001b[0m\n\u001b[0;32m   2362\u001b[0m     vargs \u001b[39m=\u001b[39m [args[_i] \u001b[39mfor\u001b[39;00m _i \u001b[39min\u001b[39;00m inds]\n\u001b[0;32m   2363\u001b[0m     vargs\u001b[39m.\u001b[39mextend([kwargs[_n] \u001b[39mfor\u001b[39;00m _n \u001b[39min\u001b[39;00m names])\n\u001b[1;32m-> 2365\u001b[0m \u001b[39mreturn\u001b[39;00m \u001b[39mself\u001b[39;49m\u001b[39m.\u001b[39;49m_vectorize_call(func\u001b[39m=\u001b[39;49mfunc, args\u001b[39m=\u001b[39;49mvargs)\n",
      "File \u001b[1;32mc:\\Users\\Tutubarao\\Downloads\\TCC\\data-analysis\\.venv\\Lib\\site-packages\\numpy\\lib\\function_base.py:2455\u001b[0m, in \u001b[0;36mvectorize._vectorize_call\u001b[1;34m(self, func, args)\u001b[0m\n\u001b[0;32m   2452\u001b[0m \u001b[39m# Convert args to object arrays first\u001b[39;00m\n\u001b[0;32m   2453\u001b[0m inputs \u001b[39m=\u001b[39m [asanyarray(a, dtype\u001b[39m=\u001b[39m\u001b[39mobject\u001b[39m) \u001b[39mfor\u001b[39;00m a \u001b[39min\u001b[39;00m args]\n\u001b[1;32m-> 2455\u001b[0m outputs \u001b[39m=\u001b[39m ufunc(\u001b[39m*\u001b[39;49minputs)\n\u001b[0;32m   2457\u001b[0m \u001b[39mif\u001b[39;00m ufunc\u001b[39m.\u001b[39mnout \u001b[39m==\u001b[39m \u001b[39m1\u001b[39m:\n\u001b[0;32m   2458\u001b[0m     res \u001b[39m=\u001b[39m asanyarray(outputs, dtype\u001b[39m=\u001b[39motypes[\u001b[39m0\u001b[39m])\n",
      "File \u001b[1;32mc:\\Users\\Tutubarao\\Downloads\\TCC\\data-analysis\\.venv\\Lib\\site-packages\\matplotlib\\dates.py:360\u001b[0m, in \u001b[0;36m_from_ordinalf\u001b[1;34m(x, tz)\u001b[0m\n\u001b[0;32m    347\u001b[0m \u001b[39m\u001b[39m\u001b[39m\"\"\"\u001b[39;00m\n\u001b[0;32m    348\u001b[0m \u001b[39mConvert Gregorian float of the date, preserving hours, minutes,\u001b[39;00m\n\u001b[0;32m    349\u001b[0m \u001b[39mseconds and microseconds.  Return value is a `.datetime`.\u001b[39;00m\n\u001b[1;32m   (...)\u001b[0m\n\u001b[0;32m    354\u001b[0m \u001b[39m:rc:`timezone`.\u001b[39;00m\n\u001b[0;32m    355\u001b[0m \u001b[39m\"\"\"\u001b[39;00m\n\u001b[0;32m    357\u001b[0m tz \u001b[39m=\u001b[39m _get_tzinfo(tz)\n\u001b[0;32m    359\u001b[0m dt \u001b[39m=\u001b[39m (np\u001b[39m.\u001b[39mdatetime64(get_epoch()) \u001b[39m+\u001b[39m\n\u001b[1;32m--> 360\u001b[0m       np\u001b[39m.\u001b[39;49mtimedelta64(\u001b[39mint\u001b[39;49m(np\u001b[39m.\u001b[39;49mround(x \u001b[39m*\u001b[39;49m MUSECONDS_PER_DAY)), \u001b[39m'\u001b[39;49m\u001b[39mus\u001b[39;49m\u001b[39m'\u001b[39;49m))\n\u001b[0;32m    361\u001b[0m \u001b[39mif\u001b[39;00m dt \u001b[39m<\u001b[39m np\u001b[39m.\u001b[39mdatetime64(\u001b[39m'\u001b[39m\u001b[39m0001-01-01\u001b[39m\u001b[39m'\u001b[39m) \u001b[39mor\u001b[39;00m dt \u001b[39m>\u001b[39m\u001b[39m=\u001b[39m np\u001b[39m.\u001b[39mdatetime64(\u001b[39m'\u001b[39m\u001b[39m10000-01-01\u001b[39m\u001b[39m'\u001b[39m):\n\u001b[0;32m    362\u001b[0m     \u001b[39mraise\u001b[39;00m \u001b[39mValueError\u001b[39;00m(\u001b[39mf\u001b[39m\u001b[39m'\u001b[39m\u001b[39mDate ordinal \u001b[39m\u001b[39m{\u001b[39;00mx\u001b[39m}\u001b[39;00m\u001b[39m converts to \u001b[39m\u001b[39m{\u001b[39;00mdt\u001b[39m}\u001b[39;00m\u001b[39m (using \u001b[39m\u001b[39m'\u001b[39m\n\u001b[0;32m    363\u001b[0m                      \u001b[39mf\u001b[39m\u001b[39m'\u001b[39m\u001b[39mepoch \u001b[39m\u001b[39m{\u001b[39;00mget_epoch()\u001b[39m}\u001b[39;00m\u001b[39m), but Matplotlib dates must be \u001b[39m\u001b[39m'\u001b[39m\n\u001b[0;32m    364\u001b[0m                       \u001b[39m'\u001b[39m\u001b[39mbetween year 0001 and 9999.\u001b[39m\u001b[39m'\u001b[39m)\n",
      "\u001b[1;31mOverflowError\u001b[0m: int too big to convert"
     ]
    },
    {
     "data": {
      "text/plain": [
       "<Figure size 640x300 with 1 Axes>"
      ]
     },
     "metadata": {},
     "output_type": "display_data"
    }
   ],
   "source": [
    "app_data = get_data_from_app()\n",
    "\n",
    "velocities = app_data[\"SPEED\"]\n",
    "\n",
    "display_velocity_graph(velocities)"
   ]
  },
  {
   "cell_type": "code",
   "execution_count": null,
   "metadata": {},
   "outputs": [],
   "source": [
    "ride_root_dir = os.path.join(\"RealData\")\n",
    "\n",
    "real_ride = RealRideParser(ride_root_dir)\n",
    "\n",
    "# real_ride.gps_df.dtypes\n",
    "# ride.gps_df\n",
    "# ride.accelerometer_df\n",
    "\n",
    "real_ride.get_acc_stats()\n",
    "real_ride.gps_df\n",
    "velocity_df = real_ride.create_velocity_from_gps_df()\n",
    "display_velocity_graph(velocity_df)\n",
    "# velocity_df.plot(x=\"timestamp\", y=\"velocity\")"
   ]
  },
  {
   "cell_type": "code",
   "execution_count": null,
   "metadata": {},
   "outputs": [],
   "source": [
    "# app_data = get_data_from_app()\n",
    "\n",
    "# velocities = app_data[\"SPEED\"]\n",
    "# display_velocity_graph(velocities)\n",
    "\n",
    "# print(app_data[\"SPEED\"])"
   ]
  },
  {
   "cell_type": "code",
   "execution_count": null,
   "metadata": {},
   "outputs": [],
   "source": [
    "\n",
    "display_velocity_graph(generate_acc_from_vel(velocities))\n"
   ]
  },
  {
   "cell_type": "code",
   "execution_count": null,
   "metadata": {},
   "outputs": [],
   "source": [
    "start_lat_long = lat_longs[0]\n",
    "end_lat_long = lat_longs[-1]\n",
    "\n",
    "mean_lat = latitudes.mean()\n",
    "mean_long = longitudes.mean()\n",
    "\n",
    "start_lat_long, end_lat_long, qtty_data"
   ]
  },
  {
   "cell_type": "code",
   "execution_count": null,
   "metadata": {},
   "outputs": [],
   "source": [
    "map = folium.Map(location=[mean_lat, mean_long], zoom_start=14, control_scale=True)\n",
    "\n",
    "folium.Marker(start_lat_long, popup=\"start\").add_to(map)\n",
    "folium.Marker(end_lat_long, popup=\"end\").add_to(map)"
   ]
  },
  {
   "cell_type": "code",
   "execution_count": null,
   "metadata": {},
   "outputs": [],
   "source": [
    "for i in range(qtty_data - 1):\n",
    "\tlocation_1 = lat_longs[i]\n",
    "\tlocation_2 = lat_longs[i + 1]\n",
    "\n",
    "\tfolium.PolyLine([location_1, location_2],\n",
    "\t\t\t\t\tcolor='red',\n",
    "\t\t\t\t\tweight=5,\n",
    "\t\t\t\t\topacity=0.4).add_to(map)\n",
    "\n",
    "map"
   ]
  },
  {
   "cell_type": "code",
   "execution_count": null,
   "metadata": {},
   "outputs": [],
   "source": [
    "accelerometer_df = real_ride.accelerometer_df\n",
    "last_timestamp = accelerometer_df.timestamp.iloc[-1] # .timestamp()\n",
    "delta_time_size = 100 \t# 100 s\n",
    "frame_granularity = 10 \t# 50 s\n",
    "qtty_frames = (last_timestamp - delta_time_size) // frame_granularity\n",
    "\n",
    "filtered_accelerations_df = accelerometer_df\n",
    "\n",
    "print(\"last_timestamp\", last_timestamp)\n",
    "print(\"qtty_frames\", qtty_frames)\n",
    "print(\"last_timestamp\", last_timestamp)\n",
    "\n",
    "qtty_frames = min(qtty_frames, 100)\n",
    "\n",
    "# foo_for_real_data(accelerometer_df, frame_granularity, delta_time_size, 0)\n",
    "\n",
    "for i in range(10): #qtty_frames):\n",
    "    real_ride.foo_for_real_data(frame_granularity, delta_time_size, i)\n"
   ]
  },
  {
   "attachments": {},
   "cell_type": "markdown",
   "metadata": {},
   "source": [
    "Objetivos:\n",
    "- [] Gerar mapa com a rota feita por cada um dos motoristas\n",
    "- [] Sincronizar vídeo com eventos de aceleração"
   ]
  },
  {
   "cell_type": "code",
   "execution_count": null,
   "metadata": {},
   "outputs": [],
   "source": [
    "# ride_root_dir = os.path.join(\"UAH-DRIVESET-v1\", \"D1\", \"20151110175712-16km-D1-NORMAL1-SECONDARY\")\n",
    "ride_root_dir = os.path.join(\"UAH-DRIVESET-v1\", \"D1\", \"20151111125233-24km-D1-AGGRESSIVE-MOTORWAY\")\n",
    "\n",
    "ride = UAHRideParser(ride_root_dir)\n",
    "\n",
    "# col_names = [str(i) for i in range(13)]\n",
    "# col_names = [\"timestamp\", \"speed\", \"lat\", \"long\", \"altitude\", \"vert accuracy\", \"horiz accuracy\", \"course\", \"difcourse\", \"?1\", \"?2\", \"?3\", \"?4\"]\n",
    "# pd.read_csv(gps_file_path, sep=\" \", names=col_names)\n",
    "\n",
    "ride.gps_df\n",
    "ride.accelerometer_df"
   ]
  },
  {
   "cell_type": "code",
   "execution_count": null,
   "metadata": {},
   "outputs": [],
   "source": [
    "accelerometer_df = ride.accelerometer_df\n",
    "oldest_timestamp = int(accelerometer_df.timestamp.iloc[-1])\n",
    "delta_time_size = 20\n",
    "frame_granularity = 1\n",
    "qtty_frames = (oldest_timestamp - delta_time_size) // frame_granularity\n",
    "\n",
    "print(\"qtty_frames\", qtty_frames)\n",
    "print(\"oldest_timestamp\", oldest_timestamp)\n",
    "\n",
    "for i in range(10): #qtty_frames):\n",
    "    with ProcessPoolExecutor(max_workers=10) as executor:\n",
    "        future = executor.submit(ride.foo, accelerometer_df, frame_granularity, delta_time_size, i)\n",
    "\n",
    "    # print(future.result())\n",
    "\n",
    "# plt.show()\n",
    "# RuntimeWarning: More than 20 figures have been opened. Figures created through the pyplot interface (`matplotlib.pyplot.figure`) are retained until explicitly closed and may consume too much memory. (To control this warning, see the rcParam `figure.max_open_warning`). Consider using `matplotlib.pyplot.close()`."
   ]
  },
  {
   "cell_type": "code",
   "execution_count": null,
   "metadata": {},
   "outputs": [],
   "source": [
    "fig, axs = plt.subplots(ncols=1, nrows=4)\n",
    "\n",
    "accelerometer_df = ride.accelerometer_df\n",
    "accelerometer_df = accelerometer_df[accelerometer_df.timestamp < 20]\n",
    "filtered_acc_x = accelerometer_df[\"filtered_acc_x\"]\n",
    "filtered_acc_y = accelerometer_df[\"filtered_acc_y\"]\n",
    "filtered_acc_z = accelerometer_df[\"filtered_acc_z\"]\n",
    "acc_resultant = accelerometer_df[\"acc_resultant\"]\n",
    "timestamp = accelerometer_df[\"timestamp\"]\n",
    "\n",
    "# axs[0].scatter(timestamp, filtered_acc_x, s=0.1)\n",
    "axs[0].plot(timestamp, filtered_acc_x) #, \"-o\")\n",
    "axs[0].set_title(\"filtered_acc_x\")\n",
    "\n",
    "axs[1].plot(timestamp, filtered_acc_y)\n",
    "axs[1].set_title(\"filtered_acc_y\")\n",
    "\n",
    "axs[2].plot(timestamp, filtered_acc_z)\n",
    "axs[2].set_title(\"filtered_acc_z\")\n",
    "\n",
    "axs[3].plot(timestamp, acc_resultant)\n",
    "axs[3].set_title(\"acc_resultant\")\n",
    "\n",
    "fig.tight_layout()\n",
    "\n",
    "plt.show()"
   ]
  },
  {
   "cell_type": "code",
   "execution_count": null,
   "metadata": {},
   "outputs": [],
   "source": []
  },
  {
   "cell_type": "code",
   "execution_count": null,
   "metadata": {},
   "outputs": [],
   "source": [
    "imgs = ride.generate_acc_sub_graph()\n",
    "\n",
    "# im = Image.open(next(imgs))\n",
    "# im.show(title=\"My Image\")"
   ]
  },
  {
   "cell_type": "code",
   "execution_count": null,
   "metadata": {},
   "outputs": [],
   "source": [
    "# import matplotlib.pyplot as plt\n",
    "# import matplotlib.cm as cm\n",
    "# import matplotlib.animation as animation\n",
    "\n",
    "# import numpy\n",
    "# from PIL import Image\n",
    "\n",
    "# n = 20\n",
    "\n",
    "# img = [] # some array of images\n",
    "# for i in range(n):\n",
    "# \timarray = numpy.random.rand(100,100,3) * 255\n",
    "# \tim = Image.fromarray(imarray.astype('uint8')).convert('RGBA')\n",
    "# \timg.append(im)\n",
    "\n",
    "# frames = [] # for storing the generated images\n",
    "# fig = plt.figure()\n",
    "# for i in range(n):\n",
    "# \tframes.append([plt.imshow(img[i], cmap=cm.Greys_r,animated=True)])\n",
    "\n",
    "# ani = animation.ArtistAnimation(fig, frames, blit=True)\n",
    "\n",
    "# writergif = animation.PillowWriter(fps=1)\n",
    "# ani.save('movie.gif', writer=writergif)\n",
    "# plt.show()"
   ]
  },
  {
   "cell_type": "code",
   "execution_count": null,
   "metadata": {},
   "outputs": [],
   "source": [
    "# import io\n",
    "# from PIL import Image\n",
    "# import matplotlib.pyplot as plt\n",
    "\n",
    "# plt.rcParams[\"figure.figsize\"] = [7.50, 3.50]\n",
    "# plt.rcParams[\"figure.autolayout\"] = True\n",
    "\n",
    "# plt.figure()\n",
    "# plt.plot([1, 2])\n",
    "\n",
    "# img_buf = io.BytesIO()\n",
    "# plt.savefig(img_buf, format='png')\n",
    "\n",
    "# im = Image.open(img_buf)\n",
    "# im.show(title=\"My Image\")\n",
    "\n",
    "# img_buf.close()"
   ]
  }
 ],
 "metadata": {
  "kernelspec": {
   "display_name": ".venv_aws",
   "language": "python",
   "name": "python3"
  },
  "language_info": {
   "codemirror_mode": {
    "name": "ipython",
    "version": 3
   },
   "file_extension": ".py",
   "mimetype": "text/x-python",
   "name": "python",
   "nbconvert_exporter": "python",
   "pygments_lexer": "ipython3",
   "version": "3.12.0"
  },
  "orig_nbformat": 4
 },
 "nbformat": 4,
 "nbformat_minor": 2
}
