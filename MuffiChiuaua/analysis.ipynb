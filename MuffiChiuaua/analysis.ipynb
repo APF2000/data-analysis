{
 "cells": [
  {
   "cell_type": "code",
   "execution_count": 1,
   "metadata": {},
   "outputs": [
    {
     "name": "stderr",
     "output_type": "stream",
     "text": [
      "2024-03-23 15:31:12.365109: I external/local_tsl/tsl/cuda/cudart_stub.cc:32] Could not find cuda drivers on your machine, GPU will not be used.\n",
      "2024-03-23 15:31:12.368322: I external/local_tsl/tsl/cuda/cudart_stub.cc:32] Could not find cuda drivers on your machine, GPU will not be used.\n",
      "2024-03-23 15:31:12.409567: I tensorflow/core/platform/cpu_feature_guard.cc:210] This TensorFlow binary is optimized to use available CPU instructions in performance-critical operations.\n",
      "To enable the following instructions: AVX2 FMA, in other operations, rebuild TensorFlow with the appropriate compiler flags.\n",
      "2024-03-23 15:31:13.350434: W tensorflow/compiler/tf2tensorrt/utils/py_utils.cc:38] TF-TRT Warning: Could not find TensorRT\n"
     ]
    }
   ],
   "source": [
    "import tensorflow as tf\n",
    "import os\n",
    "import glob"
   ]
  },
  {
   "cell_type": "code",
   "execution_count": 5,
   "metadata": {},
   "outputs": [
    {
     "data": {
      "text/plain": [
       "(['train/muffin/img_4_7.jpg',\n",
       "  'train/muffin/img_2_490.jpg',\n",
       "  'train/muffin/img_3_100.jpg',\n",
       "  'train/muffin/img_3_791.jpg',\n",
       "  'train/muffin/img_3_408.jpg'],\n",
       " ['test/muffin/img_3_1240.jpg',\n",
       "  'test/muffin/img_3_50.jpg',\n",
       "  'test/muffin/img_0_31.jpg',\n",
       "  'test/muffin/img_2_305.jpg',\n",
       "  'test/muffin/img_3_1013.jpg'])"
      ]
     },
     "execution_count": 5,
     "metadata": {},
     "output_type": "execute_result"
    }
   ],
   "source": [
    "train_images_path_pattern = os.path.join(\"train\", \"*\", \"*.jpg\")\n",
    "train_image_file_paths = glob.glob(train_images_path_pattern)\n",
    "\n",
    "test_images_path_pattern = os.path.join(\"test\", \"*\", \"*.jpg\")\n",
    "test_image_file_paths = glob.glob(test_images_path_pattern)\n",
    "\n",
    "train_image_file_paths[:5], test_image_file_paths[:5]"
   ]
  },
  {
   "cell_type": "code",
   "execution_count": null,
   "metadata": {},
   "outputs": [],
   "source": []
  }
 ],
 "metadata": {
  "kernelspec": {
   "display_name": "Python 3",
   "language": "python",
   "name": "python3"
  },
  "language_info": {
   "codemirror_mode": {
    "name": "ipython",
    "version": 3
   },
   "file_extension": ".py",
   "mimetype": "text/x-python",
   "name": "python",
   "nbconvert_exporter": "python",
   "pygments_lexer": "ipython3",
   "version": "3.11.7"
  }
 },
 "nbformat": 4,
 "nbformat_minor": 2
}
